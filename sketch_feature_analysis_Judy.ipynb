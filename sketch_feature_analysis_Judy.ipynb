{
 "cells": [
  {
   "cell_type": "code",
   "execution_count": 1,
   "metadata": {
    "collapsed": true
   },
   "outputs": [],
   "source": [
    "from __future__ import division\n",
    "\n",
    "import numpy as np\n",
    "import os\n",
    "from glob import glob\n",
    "import scipy\n",
    "\n",
    "from PIL import Image\n",
    "from copy import deepcopy\n",
    "\n",
    "from sklearn import linear_model, datasets, neighbors\n",
    "from sklearn.model_selection import train_test_split, cross_val_score\n",
    "from sklearn import svm\n",
    "\n",
    "%matplotlib inline\n",
    "from scipy.misc import imread, imresize\n",
    "import matplotlib.pyplot as plt\n",
    "import matplotlib.image as mpimg\n",
    "\n",
    "import torch\n",
    "import torchvision.models as models\n",
    "import torch.nn as nn\n",
    "import torchvision.transforms as transforms\n",
    "import torch.nn.functional as F\n",
    "from torch.autograd import Variable\n",
    "\n",
    "import pandas as pd"
   ]
  },
  {
   "cell_type": "code",
   "execution_count": 2,
   "metadata": {
    "collapsed": true
   },
   "outputs": [],
   "source": [
    "FURNITURES = ['bed', 'bench', 'chair', 'table']\n",
    "LAYERS = {'pool1': 0, 'pool2': 1, 'pool3': 2, 'pool4': 3,\n",
    "          'pool5': 4, 'fc6': 5, 'fc7': 6} # 'prob': 7} taking out probability layer for now. \n",
    "\n",
    "LAYERS_NM = ['pool1', 'pool2', 'pool3', 'pool4', 'pool5', 'fc6', 'fc7']\n"
   ]
  },
  {
   "cell_type": "markdown",
   "metadata": {},
   "source": [
    "### use vgg19 to extract sketch features"
   ]
  },
  {
   "cell_type": "code",
   "execution_count": 3,
   "metadata": {
    "collapsed": true
   },
   "outputs": [],
   "source": [
    "def deactivate(net):\n",
    "    net.eval()\n",
    "    for p in net.parameters():\n",
    "        p.requires_grad = False  \n",
    "        \n",
    "use_cuda = torch.cuda.is_available()\n",
    "cuda_device = 3\n",
    "\n",
    "vgg19 = models.vgg19(pretrained=True)#.cuda(cuda_device)\n",
    "vgg19_features = deepcopy(vgg19.features)\n",
    "vgg19_classifier = deepcopy(vgg19.classifier)\n",
    "\n",
    "conv1 = nn.Sequential(*(list(vgg19.features.children())[slice(0, 5)]))\n",
    "conv2 = nn.Sequential(*(list(vgg19.features.children())[slice(5, 10)]))\n",
    "conv3 = nn.Sequential(*(list(vgg19.features.children())[slice(10, 19)]))\n",
    "conv4 = nn.Sequential(*(list(vgg19.features.children())[slice(19, 28)]))\n",
    "conv5 = nn.Sequential(*(list(vgg19.features.children())[slice(28, 37)]))\n",
    "fc6 = nn.Sequential(*(list(vgg19.classifier.children())[slice(0, 2)]))\n",
    "fc7 = nn.Sequential(*(list(vgg19.classifier.children())[slice(3, 5)]))\n",
    "fc8 = nn.Sequential(list(vgg19.classifier.children())[-1])\n",
    "\n",
    "if use_cuda:\n",
    "    conv1.cuda(cuda_device)\n",
    "    conv2.cuda(cuda_device)\n",
    "    conv3.cuda(cuda_device)\n",
    "    conv4.cuda(cuda_device)\n",
    "    conv5.cuda(cuda_device)\n",
    "    fc6.cuda(cuda_device)    \n",
    "    fc7.cuda(cuda_device)    \n",
    "    fc8.cuda(cuda_device)        \n",
    "        \n",
    "deactivate(conv1)\n",
    "deactivate(conv2)\n",
    "deactivate(conv3)\n",
    "deactivate(conv4)\n",
    "deactivate(conv5)\n",
    "deactivate(fc6)\n",
    "deactivate(fc7)\n",
    "deactivate(fc8)"
   ]
  },
  {
   "cell_type": "markdown",
   "metadata": {},
   "source": [
    "### get sketch data and metadata"
   ]
  },
  {
   "cell_type": "code",
   "execution_count": 3,
   "metadata": {},
   "outputs": [
    {
     "name": "stdout",
     "output_type": "stream",
     "text": [
      "Number of sketches: 1400\n",
      "Number of subjects: 35\n",
      "Number of models: 320\n"
     ]
    }
   ],
   "source": [
    "# get labels\n",
    "def list_files(path, ext='png'):\n",
    "    result = [y for x in os.walk(path)\n",
    "              for y in glob(os.path.join(x[0], '*.%s' % ext))]\n",
    "    return result\n",
    "\n",
    "def get_label_from_path(path):\n",
    "    return path.split('.')[-2].split('_')[-1]    \n",
    "\n",
    "def get_trial_from_path(path):\n",
    "    return path.split('_')[-2]\n",
    "\n",
    "def get_subj_from_path(path):\n",
    "    return path.split('/')[-2]\n",
    "\n",
    "def get_trial_ID_from_path(path):\n",
    "    return path.split('/')[-1].split('.')[0]\n",
    "\n",
    "def get_viewpoint_from_path(path):\n",
    "    return path.split('_')[3].split('.')[0]\n",
    "    \n",
    "# extract metadata\n",
    "path_to_sketches = '/home/rslee/sketch_data'\n",
    "sketch_paths = list_files(path_to_sketches)\n",
    "sketch_labels = map(get_label_from_path,sketch_paths)\n",
    "trialNum = map(get_trial_from_path,sketch_paths)\n",
    "subj = map(get_subj_from_path,sketch_paths)\n",
    "trialID = map(get_trial_ID_from_path, sketch_paths)\n",
    "\n",
    "path_to_models = '/home/rslee/object_data'\n",
    "model_paths = list_files(path_to_models, ext='png') \n",
    "model_labels = [p.split('/')[-2] for p in model_paths]\n",
    "model_viewpoints = map(get_viewpoint_from_path, model_paths)\n",
    "\n",
    "\n",
    "# organize into dataframe\n",
    "S = pd.DataFrame([subj,trialNum,sketch_labels,sketch_paths, trialID])\n",
    "S = S.transpose()\n",
    "S.columns = ['subj','trial','label','path','trialID']\n",
    "\n",
    "\n",
    "M = pd.DataFrame([model_labels,model_paths, model_viewpoints])\n",
    "M = M.transpose()\n",
    "M.columns = ['label','path', 'viewpoint']\n",
    "\n",
    "print 'Number of sketches: ' + str(len(sketch_paths))\n",
    "print 'Number of subjects: ' + str(len(np.unique(subj)))\n",
    "\n",
    "\n",
    "print 'Number of models: ' + str(len(model_paths))\n",
    "num_models = len(model_paths)\n",
    "num_sketches = len(sketch_paths)"
   ]
  },
  {
   "cell_type": "code",
   "execution_count": 5,
   "metadata": {},
   "outputs": [
    {
     "data": {
      "text/plain": [
       "'/home/rslee/sketch_data/1206161_neurosketch/1206161_neurosketch_trial_335_bench.png'"
      ]
     },
     "execution_count": 5,
     "metadata": {},
     "output_type": "execute_result"
    }
   ],
   "source": [
    "sketch_paths[0]"
   ]
  },
  {
   "cell_type": "code",
   "execution_count": 5,
   "metadata": {
    "collapsed": true,
    "scrolled": false
   },
   "outputs": [],
   "source": [
    "def load_image(path, imsize=224, volatile=True, use_cuda=False):\n",
    "    im = Image.open(path)\n",
    "    im = im.convert('RGB')\n",
    "\n",
    "    loader = transforms.Compose([\n",
    "        transforms.Scale(imsize),\n",
    "        transforms.ToTensor()])\n",
    "\n",
    "    im = Variable(loader(im), volatile=volatile)\n",
    "    im = im.unsqueeze(0)\n",
    "    if use_cuda:\n",
    "        im = im.cuda(cuda_device)\n",
    "    return im\n",
    "\n",
    "def sketch_generator(paths, imsize=224, use_cuda=use_cuda):\n",
    "    for path in paths:\n",
    "        sketch = load_image(path)\n",
    "        label = get_label_from_path(path)\n",
    "        yield (sketch, label)\n",
    "\n",
    "def _flatten(x):\n",
    "    return x.view(x.size(0), -1)\n",
    "   \n",
    "def extract_layer(x, layer_index):\n",
    "    x_conv1 = conv1(x)\n",
    "    if layer_index == 0:\n",
    "        return _flatten(x_conv1)\n",
    "    x_conv2 = conv2(x_conv1)\n",
    "    if layer_index == 1:\n",
    "        return _flatten(x_conv2)\n",
    "    x_conv3 = conv3(x_conv2)\n",
    "    if layer_index == 2:\n",
    "        return _flatten(x_conv3)\n",
    "    x_conv4 = conv4(x_conv3)\n",
    "    if layer_index == 3:\n",
    "        return _flatten(x_conv4)\n",
    "    x_conv5 = conv5(x_conv4)\n",
    "    x_conv5_flat = _flatten(x_conv5)\n",
    "    if layer_index == 4:\n",
    "        return x_conv5_flat\n",
    "    x_fc6 = fc6(x_conv5_flat)\n",
    "    if layer_index == 5:\n",
    "        return x_fc6\n",
    "    x_fc7 = fc7(x_fc6)\n",
    "    if layer_index == 6:\n",
    "        return x_fc7\n",
    "    x_fc8 = fc8(x_fc7)\n",
    "    if layer_index == 7:\n",
    "        return x_fc8\n",
    "    \n",
    "def extract_features_and_classes(domain, num_images, layer_index):\n",
    "\n",
    "    generator = sketch_generator(domain,imsize=224,use_cuda=use_cuda)\n",
    "    # initialize image and label matrices\n",
    "    Features = []\n",
    "    Labels = []\n",
    "    n = 0\n",
    "    quit = False \n",
    "\n",
    "    # generate batches of imagees and labels    \n",
    "    if generator:\n",
    "        while True:    \n",
    "            batch_size = 62\n",
    "            image_batch = Variable(torch.zeros(batch_size, 3, 224, 224))\n",
    "            if use_cuda:\n",
    "                image_batch = image_batch.cuda(cuda_device)                \n",
    "            label_batch = []   \n",
    "            if n%5==0:\n",
    "                print('Batch {}'.format(n + 1))            \n",
    "            for b in range(batch_size):\n",
    "                try:\n",
    "                    image, label = generator.next()\n",
    "                    image_batch[b] = image   \n",
    "                    label_batch.append(label)\n",
    "                except StopIteration:\n",
    "                    quit = True\n",
    "                    print 'stopped!'\n",
    "                    break                \n",
    "                \n",
    "            if n == num_images//batch_size:\n",
    "                image_batch = image_batch.narrow(0,0,b)\n",
    "                label_batch = label_batch[:b + 1] \n",
    "            n = n + 1       \n",
    "\n",
    "            # extract features from batch\n",
    "            image_batch = extract_layer(image_batch, layer_index)                        \n",
    "            image_batch = image_batch.cpu().data.numpy()\n",
    "\n",
    "            if len(Features)==0:\n",
    "                Features = image_batch\n",
    "            else:\n",
    "                Features = np.vstack((Features,image_batch))\n",
    "            Labels.append(label_batch)\n",
    "\n",
    "            if n == num_images//batch_size + 1:\n",
    "                break\n",
    "    Labels = np.array([item for sublist in Labels for item in sublist])\n",
    "    return Features, Labels"
   ]
  },
  {
   "cell_type": "markdown",
   "metadata": {},
   "source": [
    "### Visualize feature similarity matrices"
   ]
  },
  {
   "cell_type": "code",
   "execution_count": 6,
   "metadata": {},
   "outputs": [
    {
     "name": "stdout",
     "output_type": "stream",
     "text": [
      "Extracting model features...\n",
      "Extracting layer 0\n",
      "Batch 1\n",
      "Batch 6\n",
      "stopped!\n",
      "Extracting layer 1\n",
      "Batch 1\n",
      "Batch 6\n",
      "stopped!\n",
      "Extracting layer 2\n",
      "Batch 1\n",
      "Batch 6\n",
      "stopped!\n",
      "Extracting layer 3\n",
      "Batch 1\n",
      "Batch 6\n",
      "stopped!\n",
      "Extracting layer 4\n",
      "Batch 1\n",
      "Batch 6\n",
      "stopped!\n",
      "Extracting layer 5\n",
      "Batch 1\n",
      "Batch 6\n",
      "stopped!\n",
      "Extracting layer 6\n",
      "Batch 1\n",
      "Batch 6\n",
      "stopped!\n"
     ]
    }
   ],
   "source": [
    "\n",
    "MF = []\n",
    "print('Extracting model features...')\n",
    "\n",
    "# define layer you want to extract from and do so...\n",
    "for layer in xrange(0,7):\n",
    "    print ('Extracting layer ' + str(layer))\n",
    "\n",
    "    \n",
    "    MF_i, ML = extract_features_and_classes(model_paths, num_models, layer)\n",
    "    MF.append(MF_i)"
   ]
  },
  {
   "cell_type": "code",
   "execution_count": 10,
   "metadata": {
    "collapsed": true
   },
   "outputs": [],
   "source": [
    "import pickle\n",
    "\n",
    "pickle.dump(MF, open( \"/tigress/rslee/MF.p\", \"wb\" ) )\n",
    "pickle.dump(M, open( \"/tigress/rslee/M.p\", \"wb\" ) )"
   ]
  },
  {
   "cell_type": "code",
   "execution_count": 6,
   "metadata": {},
   "outputs": [
    {
     "name": "stdout",
     "output_type": "stream",
     "text": [
      "Extracting layer 0\n",
      "Extracting sketch features...\n",
      "Batch 1\n",
      "Batch 6\n",
      "Batch 11\n",
      "Batch 16\n",
      "Batch 21\n",
      "stopped!\n",
      "Extracting layer 1\n",
      "Extracting sketch features...\n",
      "Batch 1\n",
      "Batch 6\n",
      "Batch 11\n",
      "Batch 16\n",
      "Batch 21\n",
      "stopped!\n",
      "Extracting layer 2\n",
      "Extracting sketch features...\n",
      "Batch 1\n",
      "Batch 6\n",
      "Batch 11\n",
      "Batch 16\n",
      "Batch 21\n",
      "stopped!\n",
      "Extracting layer 3\n",
      "Extracting sketch features...\n",
      "Batch 1\n",
      "Batch 6\n",
      "Batch 11\n",
      "Batch 16\n",
      "Batch 21\n",
      "stopped!\n",
      "Extracting layer 4\n",
      "Extracting sketch features...\n",
      "Batch 1\n",
      "Batch 6\n",
      "Batch 11\n",
      "Batch 16\n",
      "Batch 21\n",
      "stopped!\n",
      "Extracting layer 5\n",
      "Extracting sketch features...\n",
      "Batch 1\n",
      "Batch 6\n",
      "Batch 11\n",
      "Batch 16\n",
      "Batch 21\n",
      "stopped!\n",
      "Extracting layer 6\n",
      "Extracting sketch features...\n",
      "Batch 1\n",
      "Batch 6\n",
      "Batch 11\n",
      "Batch 16\n",
      "Batch 21\n",
      "stopped!\n"
     ]
    }
   ],
   "source": [
    "SF = []\n",
    "\n",
    "for layer in xrange(0,7):\n",
    "    print ('Extracting layer ' + str(layer))\n",
    "    print('Extracting sketch features...')\n",
    "    SF_i , SL = extract_features_and_classes(sketch_paths, num_sketches, layer)\n",
    "\n",
    "    SF.append(SF_i)\n",
    "    \n"
   ]
  },
  {
   "cell_type": "code",
   "execution_count": 9,
   "metadata": {
    "collapsed": true
   },
   "outputs": [],
   "source": [
    "import pickle\n",
    "pickle.dump(S, open( \"/tigress/rslee/S.p\", \"wb\" ) )\n"
   ]
  },
  {
   "cell_type": "code",
   "execution_count": 10,
   "metadata": {
    "collapsed": true
   },
   "outputs": [],
   "source": [
    "pickle.dump(SF, open( \"/tigress/rslee/SF.p\", \"wb\" ) )\n"
   ]
  },
  {
   "cell_type": "code",
   "execution_count": 12,
   "metadata": {
    "collapsed": true
   },
   "outputs": [],
   "source": [
    "\n",
    "## normalize and get means of feature vectors\n",
    "\n",
    "def normalize(X):\n",
    "    X = X - X.mean(0)\n",
    "    X = X / np.maximum(X.std(0), 1e-5)\n",
    "    return X\n",
    "\n",
    "def get_class_means(X, labels):\n",
    "    # load in and normalize features \n",
    "    X = normalize(X)\n",
    "    _mu = np.zeros((len(np.unique(np.asarray(labels))), X.shape[1]), float)\n",
    "    for vi, v in enumerate(np.unique(np.asarray(labels))):\n",
    "        Xv = X[labels == v]\n",
    "        nv = float(Xv.shape[0])\n",
    "        if nv > 0:\n",
    "            _mu[vi] = Xv.mean(0)\n",
    "    return _mu\n",
    "\n",
    "_SF = []\n",
    "for layer in xrange(0,7):\n",
    "    inds = np.argsort(S.label.values)\n",
    "    SF_i = SF[layer]\n",
    "    _SF.append(normalize(SF_i[inds]))\n",
    "_SL = SL[inds]\n"
   ]
  },
  {
   "cell_type": "code",
   "execution_count": 14,
   "metadata": {
    "collapsed": true
   },
   "outputs": [],
   "source": [
    "for layer in xrange(0,7):\n",
    "    DF[layer] = normalize(DF[layer])"
   ]
  },
  {
   "cell_type": "code",
   "execution_count": 52,
   "metadata": {
    "collapsed": true
   },
   "outputs": [],
   "source": [
    "# plot category-level similarity matrix\n",
    "RDM_S = []\n",
    "for layer in xrange(0,7):\n",
    "    means = get_class_means(_SF[layer], _SL)\n",
    "    RDM_S.append(np.corrcoef(means))\n",
    "    \n",
    "    \n",
    "\n"
   ]
  },
  {
   "cell_type": "code",
   "execution_count": 110,
   "metadata": {
    "collapsed": true
   },
   "outputs": [],
   "source": [
    "RDM_D = []\n",
    "DL = np.repeat(['bench','chair','table','smart', 'bed', 'limo', 'sedan',  'SUV' ], 40)\n",
    "for layer in xrange(0,7):\n",
    "\n",
    "    means = get_class_means(DF[layer], DL)\n",
    "    means_furn = means[0:4]\n",
    "    means_furn[-1] = means[4]\n",
    "\n",
    "    RDM_D.append(np.corrcoef(means_furn))"
   ]
  },
  {
   "cell_type": "code",
   "execution_count": 17,
   "metadata": {},
   "outputs": [
    {
     "data": {
      "image/png": "[encoded data removed]",
      "text/plain": [
       "<matplotlib.figure.Figure at 0x2b2c86353290>"
      ]
     },
     "metadata": {},
     "output_type": "display_data"
    },
    {
     "data": {
      "image/png": "[encoded data removed]",
      "text/plain": [
       "<matplotlib.figure.Figure at 0x2b2c86353810>"
      ]
     },
     "metadata": {},
     "output_type": "display_data"
    }
   ],
   "source": [
    "fig = plt.figure(1,  figsize=(15, 5), dpi=80, facecolor='w', edgecolor='k')\n",
    "\n",
    "\n",
    "for pool_layer in xrange(0,5):\n",
    "    pltname = \"Pool \" + str(pool_layer + 1)\n",
    "    plt.subplot(1, 5, pool_layer + 1)\n",
    "    plt.title(pltname)\n",
    "    plt.imshow(RDM_S[pool_layer], cmap = 'viridis', interpolation='none')\n",
    "    plt.xticks(xrange(0,len(FURNITURES)), FURNITURES, rotation='vertical')\n",
    "    \n",
    "    if pool_layer == 0:\n",
    "        plt.yticks(xrange(0,len(FURNITURES)), FURNITURES)\n",
    "    else:\n",
    "        plt.yticks([])\n",
    "        \n",
    "        \n",
    "fig2 = plt.figure(2,  figsize=(15, 5), dpi=80, facecolor='w', edgecolor='k')\n",
    "plt.subplot(121)\n",
    "plt.imshow(RDM_S[5], cmap = 'viridis', interpolation='none')\n",
    "plt.title(\"fc6\")\n",
    "plt.xticks(xrange(0,len(FURNITURES)), FURNITURES, rotation='vertical')\n",
    "plt.yticks(xrange(0,len(FURNITURES)), FURNITURES)\n",
    "\n",
    "plt.subplot(122)\n",
    "plt.imshow(RDM_S[6],cmap = 'viridis', interpolation='none')\n",
    "plt.title(\"fc7\")\n",
    "plt.xticks(xrange(0,len(FURNITURES)), FURNITURES, rotation='vertical')\n",
    "plt.yticks(xrange(0,len(FURNITURES)), FURNITURES)\n",
    "\n",
    "cax = fig.add_axes([0.12, 0.1, 0.78, 0.4])\n",
    "cax.get_xaxis().set_visible(False)\n",
    "cax.get_yaxis().set_visible(False)\n",
    "cax.patch.set_alpha(0)\n",
    "cax.set_frame_on(False)\n",
    "plt.colorbar(orientation='horizontal', ax=cax)\n",
    "plt.show()"
   ]
  },
  {
   "cell_type": "code",
   "execution_count": 111,
   "metadata": {},
   "outputs": [
    {
     "name": "stdout",
     "output_type": "stream",
     "text": [
      "pearson coefficient for between domains for layer 0 is 0.783104154239\n",
      "pearson coefficient for between domains for layer 1 is 0.697644835051\n",
      "pearson coefficient for between domains for layer 2 is 0.656917581733\n",
      "pearson coefficient for between domains for layer 3 is 0.9104924314\n",
      "pearson coefficient for between domains for layer 4 is 0.92918192086\n",
      "pearson coefficient for between domains for layer 5 is 0.917591815446\n",
      "pearson coefficient for between domains for layer 6 is 0.892298907522\n"
     ]
    }
   ],
   "source": [
    "between_domains = []\n",
    "\n",
    "\n",
    "for layer in xrange(0,7):\n",
    "    between_domain_i = np.corrcoef(RDM_S[layer].flatten(), RDM_D[layer].flatten())\n",
    "    between_domains.append(between_domain_i[0, 1])\n",
    "    print(\"pearson coefficient for between domains for layer \" + str(layer) + \" is \" + str(between_domain_i[0, 1]))\n",
    "    "
   ]
  },
  {
   "cell_type": "code",
   "execution_count": 112,
   "metadata": {},
   "outputs": [
    {
     "data": {
      "image/png": "[encoded data removed]",
      "text/plain": [
       "<matplotlib.figure.Figure at 0x2b2c87673790>"
      ]
     },
     "metadata": {},
     "output_type": "display_data"
    }
   ],
   "source": [
    "fig = plt.figure(1,  figsize=(8,8), dpi=80, facecolor='w', edgecolor='k')\n",
    "\n",
    "plt.title(\"Pearson correlation across domain for each layer\")\n",
    "plt.plot(np.arange(len(LAYERS_NM) ), between_domains)\n",
    "plt.xlabel('Layers')\n",
    "plt.ylabel('Performance')\n",
    "\n",
    "\n",
    "\n",
    "plt.xticks(xrange(0,len(LAYERS) ), LAYERS_NM);\n",
    "axes = plt.gca()\n",
    "vals = axes.get_yticks()\n",
    "axes.set_yticklabels(['{:3.2f}%'.format(x*100) for x in vals]);"
   ]
  },
  {
   "cell_type": "markdown",
   "metadata": {},
   "source": [
    "### Softmax classifier test"
   ]
  },
  {
   "cell_type": "code",
   "execution_count": null,
   "metadata": {},
   "outputs": [
    {
     "name": "stdout",
     "output_type": "stream",
     "text": [
      "Accuracy for layer 6.000000: 0.87 (+/- 0.05)\n",
      "Accuracy for layer 5.000000: 0.88 (+/- 0.06)\n",
      "Accuracy for layer 4.000000: 0.88 (+/- 0.06)\n",
      "Accuracy for layer 3.000000: 0.82 (+/- 0.07)\n",
      "Accuracy for layer 2.000000: 0.79 (+/- 0.09)\n",
      "Accuracy for layer 1.000000: 0.75 (+/- 0.09)\n"
     ]
    }
   ],
   "source": [
    "LABELS = _SL\n",
    "layer_score = []\n",
    "\n",
    "# compute cross-validated softmax classifier accuracy \n",
    "# clf = svm.SVC(kernel='linear', C=1)\n",
    "\n",
    "for i in reversed(xrange(0,7)):\n",
    "    clf = linear_model.LogisticRegression(penalty='l2')\n",
    "    scores = cross_val_score(clf, _SF[i], LABELS, cv=5)\n",
    "\n",
    "    print(\"Accuracy for layer %f: %0.2f (+/- %0.2f)\" % (i, scores.mean(), scores.std() * 2))\n",
    "    layer_score.append(scores.mean) \n",
    "\n",
    "layer_score = reversed(layer_score)\n"
   ]
  },
  {
   "cell_type": "code",
   "execution_count": 33,
   "metadata": {},
   "outputs": [
    {
     "name": "stdout",
     "output_type": "stream",
     "text": [
      "Score for single trial is 0.85\n",
      "Score for single trial is 0.90\n",
      "Score for single trial is 0.91\n",
      "Score for single trial is 0.89\n",
      "Score for single trial is 0.81\n",
      "Score for single trial is 0.77\n",
      "Score for single trial is 0.70\n"
     ]
    }
   ],
   "source": [
    "# single train/test split\n",
    "\n",
    "for i in reversed(xrange(0,7)):\n",
    "    \n",
    "    X_train, X_test, y_train, y_test = train_test_split(\n",
    "        _SF[i], LABELS, test_size=0.2, random_state=0)\n",
    "    clf = svm.SVC(kernel='linear', C=1).fit(X_train, y_train)\n",
    "    print(\"Score for single trial is %0.2f\" % clf.score(X_test, y_test))\n",
    "\n"
   ]
  },
  {
   "cell_type": "code",
   "execution_count": null,
   "metadata": {
    "collapsed": true
   },
   "outputs": [],
   "source": []
  },
  {
   "cell_type": "code",
   "execution_count": null,
   "metadata": {
    "collapsed": true
   },
   "outputs": [],
   "source": []
  }
 ],
 "metadata": {
  "kernelspec": {
   "display_name": "Python(pytorch)",
   "language": "python",
   "name": "pytorch"
  },
  "language_info": {
   "codemirror_mode": {
    "name": "ipython",
    "version": 2
   },
   "file_extension": ".py",
   "mimetype": "text/x-python",
   "name": "python",
   "nbconvert_exporter": "python",
   "pygments_lexer": "ipython2",
   "version": "2.7.13"
  }
 },
 "nbformat": 4,
 "nbformat_minor": 2
}
