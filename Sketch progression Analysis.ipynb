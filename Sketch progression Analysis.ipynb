{
 "cells": [
  {
   "cell_type": "code",
   "execution_count": 1,
   "metadata": {
    "collapsed": false,
    "deletable": true,
    "editable": true
   },
   "outputs": [],
   "source": [
    "from __future__ import division\n",
    "\n",
    "import numpy as np\n",
    "import os\n",
    "from glob import glob\n",
    "import scipy\n",
    "\n",
    "from PIL import Image\n",
    "from copy import deepcopy\n",
    "\n",
    "from sklearn import linear_model, datasets, neighbors\n",
    "from sklearn.model_selection import train_test_split, cross_val_score\n",
    "from sklearn import svm\n",
    "\n",
    "%matplotlib inline\n",
    "from scipy.misc import imread, imresize\n",
    "import matplotlib.pyplot as plt\n",
    "import matplotlib.image as mpimg\n",
    "\n",
    "import torch\n",
    "import torchvision.models as models\n",
    "import torch.nn as nn\n",
    "import torchvision.transforms as transforms\n",
    "import torch.nn.functional as F\n",
    "from torch.autograd import Variable\n",
    "\n",
    "import pandas as pd\n",
    "import pickle\n",
    "\n",
    "VGG_SIZE_X = 224\n",
    "VGG_SIZE_Y = 224\n",
    "VGG_SIZE_Z = 3\n",
    "\n",
    "import sys\n",
    "sys.path.insert(0, '/home/rslee/sketchfeat/sketches')\n",
    "\n",
    "\n",
    "import embedding as emb\n",
    "reload(emb)\n",
    "from embedding import *\n"
   ]
  },
  {
   "cell_type": "code",
   "execution_count": 2,
   "metadata": {
    "collapsed": true,
    "deletable": true,
    "editable": true
   },
   "outputs": [],
   "source": [
    "def normalize(X, u, std):\n",
    "\n",
    "    X = X - u\n",
    "    X = X / std\n",
    "    return X\n",
    "\n",
    "def list_files(path, ext='png'):\n",
    "    result = [y for x in os.walk(path)\n",
    "              for y in glob(os.path.join(x[0], '*.%s' % ext))]\n",
    "    return result\n",
    "\n",
    "def load_images(paths, num_sketches):\n",
    "    X = np.empty((num_sketches, VGG_SIZE_X * VGG_SIZE_Y* VGG_SIZE_Z), np.uint8)\n",
    "\n",
    "    for p_i, p in enumerate(paths):\n",
    "        im = Image.open(p)\n",
    "        im = im.convert('RGB')\n",
    "        im.thumbnail((VGG_SIZE_X, VGG_SIZE_Y), Image.ANTIALIAS)\n",
    "        img = PIL2array(im)\n",
    "\n",
    "        X[p_i, :] = img.flatten()\n",
    "    \n",
    "    return X\n",
    "\n",
    "# normalizes images and re-saves accordingly.... \n",
    "def normalize_images(paths, num_sketches, train_u, train_std):\n",
    "    X = np.empty((num_sketches, VGG_SIZE_X * VGG_SIZE_Y* VGG_SIZE_Z), np.uint8)\n",
    "\n",
    "    for p_i, p in enumerate(paths):\n",
    "        im = Image.open(p)\n",
    "        im = im.convert('RGB')\n",
    "        im.thumbnail((VGG_SIZE_X, VGG_SIZE_Y), Image.ANTIALIAS)\n",
    "        img = PIL2array(im)\n",
    "\n",
    "        X[p_i, :] = img.flatten()\n",
    "    \n",
    "    return X\n",
    "\n",
    "def PIL2array(img):\n",
    "\n",
    "    return np.array(img.getdata(),\n",
    "                    np.uint8).reshape(img.size[1], img.size[0], 3)"
   ]
  },
  {
   "cell_type": "code",
   "execution_count": 3,
   "metadata": {
    "collapsed": true,
    "deletable": true,
    "editable": true
   },
   "outputs": [],
   "source": [
    "# short function to copy metadata file from sketch_paths to partial_sketches\n",
    "\n",
    "# import shutil, os\n",
    "# final_sketch_folder = '/home/rslee/sketch_data'\n",
    "\n",
    "# def get_csv(path, ext='csv'):\n",
    "#     result = [y for x in os.walk(path)\n",
    "#               for y in glob(os.path.join(x[0], '*.%s' % ext))]\n",
    "#     return result\n",
    "\n",
    "# sketch_csv = get_csv(final_sketch_folder)\n",
    "\n",
    "# psketch_folder = '/home/rslee/partial_sketches/'\n",
    "# psketch_dest_folders = glob(os.path.join(psketch_folder, '*'))\n",
    "\n",
    "# for src, dest in zip(sketch_csv, psketch_dest_folders):\n",
    "#     shutil.copy(src, dest)"
   ]
  },
  {
   "cell_type": "code",
   "execution_count": 5,
   "metadata": {
    "collapsed": false,
    "deletable": true,
    "editable": true
   },
   "outputs": [
    {
     "name": "stdout",
     "output_type": "stream",
     "text": [
      "Number of train sketches: 1567\n"
     ]
    }
   ],
   "source": [
    "# we will train the network on the baseline_sketches (or sketches from a different dataset)\n",
    "\n",
    "# get metadata\n",
    "\n",
    "\n",
    "def get_train_label_from_path(path):\n",
    "    return path.split('/')[-1].split('_')[0]\n",
    "\n",
    "\n",
    "def get_train_viewpoint_from_path(path):\n",
    "    return path.split('/')[-1].split('_')[1]\n",
    "\n",
    "def get_train_ID_from_path(path):\n",
    "    return path.split('/')[-1].split('.')[0]\n",
    "\n",
    "\n",
    "    \n",
    "# extract metadata\n",
    "path_to_train = '/home/rslee/baseline_sketches' \n",
    "train_paths = list_files(path_to_train)\n",
    "train_labels = map(get_train_label_from_path,train_paths)\n",
    "train_viewpoint = map(get_train_viewpoint_from_path, train_paths)\n",
    "train_ID = map(get_train_ID_from_path, train_paths)\n",
    "\n",
    "num_train = len(train_paths)\n",
    "\n",
    "# organize into dataframe\n",
    "Tr = pd.DataFrame([train_ID, train_labels, train_viewpoint, train_paths])\n",
    "Tr = Tr.transpose()\n",
    "Tr.columns = ['trainID', 'label', 'viewpoint', 'path']\n",
    "\n",
    "print('Number of train sketches: {:d}'.format(len(train_paths)))"
   ]
  },
  {
   "cell_type": "code",
   "execution_count": 11,
   "metadata": {
    "collapsed": false,
    "deletable": true,
    "editable": true,
    "scrolled": false
   },
   "outputs": [
    {
     "name": "stdout",
     "output_type": "stream",
     "text": [
      "Batch 5\n",
      "Batch 10\n",
      "Batch 15\n",
      "Batch 20\n",
      "Batch 25\n",
      "stopped!\n"
     ]
    }
   ],
   "source": [
    "extractor = FeatureExtractor(train_paths,6)\n",
    "X_train, _ = extractor.extract_feature_matrix()"
   ]
  },
  {
   "cell_type": "code",
   "execution_count": 12,
   "metadata": {
    "collapsed": false
   },
   "outputs": [
    {
     "name": "stdout",
     "output_type": "stream",
     "text": [
      "Batch 5\n",
      "Batch 10\n",
      "Batch 15\n",
      "Batch 20\n",
      "Batch 25\n",
      "stopped!\n"
     ]
    }
   ],
   "source": [
    "extractor = FeatureExtractor(train_paths,7)\n",
    "X_train7, _ = extractor.extract_feature_matrix()"
   ]
  },
  {
   "cell_type": "code",
   "execution_count": 13,
   "metadata": {
    "collapsed": false,
    "deletable": true,
    "editable": true
   },
   "outputs": [],
   "source": [
    "train_u = X_train.mean()\n",
    "train_std = X_train.std()\n",
    "_X_train = normalize(X_train, X_train7.mean(), X_train7.std())"
   ]
  },
  {
   "cell_type": "code",
   "execution_count": 14,
   "metadata": {
    "collapsed": false,
    "deletable": true,
    "editable": true
   },
   "outputs": [],
   "source": [
    "# logreg = linear_model.LogisticRegression(solver = 'lbfgs', multi_class = 'multinomial')\n",
    "logreg = linear_model.LogisticRegression(penalty = 'l2')\n",
    "\n",
    "trained_classifier = logreg.fit(_X_train, train_labels)"
   ]
  },
  {
   "cell_type": "markdown",
   "metadata": {
    "deletable": true,
    "editable": true
   },
   "source": [
    "# Sanity check \n",
    "\n",
    "To run thru the log regression "
   ]
  },
  {
   "cell_type": "code",
   "execution_count": null,
   "metadata": {
    "collapsed": false,
    "deletable": true,
    "editable": true
   },
   "outputs": [],
   "source": [
    "def get_test_label_from_path(path):\n",
    "    return path.split('.')[-2].split('_')[-1] \n",
    "\n",
    "def get_subj_from_path(path):\n",
    "    return path.split('/')[-2]\n",
    "\n",
    "path_to_test = '/home/rslee/sketch_data'\n",
    "test_paths = list_files(path_to_test)\n",
    "test_labels = map(get_test_label_from_path,test_paths)\n",
    "subj = map(get_subj_from_path,test_paths)\n",
    "\n",
    "\n",
    "print('Number of test sketches: {:d}'.format(len(test_paths)))\n",
    "print('Number of test subjects: {:d}'.format(len(np.unique(subj))))"
   ]
  },
  {
   "cell_type": "code",
   "execution_count": null,
   "metadata": {
    "collapsed": false,
    "deletable": true,
    "editable": true,
    "scrolled": true
   },
   "outputs": [],
   "source": [
    "extractor = FeatureExtractor(test_paths,6)\n",
    "X_test, _ = extractor.extract_feature_matrix()"
   ]
  },
  {
   "cell_type": "code",
   "execution_count": null,
   "metadata": {
    "collapsed": false,
    "deletable": true,
    "editable": true
   },
   "outputs": [],
   "source": [
    "#load an normalize\n",
    "_X_test = normalize(X_test, train_u, train_std)"
   ]
  },
  {
   "cell_type": "code",
   "execution_count": null,
   "metadata": {
    "collapsed": false,
    "deletable": true,
    "editable": true,
    "scrolled": true
   },
   "outputs": [],
   "source": [
    "trained_classifier.score(_X_test, test_labels)"
   ]
  },
  {
   "cell_type": "markdown",
   "metadata": {
    "deletable": true,
    "editable": true
   },
   "source": [
    "# Run thru one sketch progression \n",
    "\n",
    "Just a first step "
   ]
  },
  {
   "cell_type": "code",
   "execution_count": 17,
   "metadata": {
    "collapsed": true,
    "deletable": true,
    "editable": true
   },
   "outputs": [],
   "source": [
    "# for testing data, we will test for every partial sketch. To just test this, let's just try one set of partial sketches\n",
    "def get_psketch_ID_from_path(path):\n",
    "    return path.split('/')[-1].split('.')[0]\n",
    "\n",
    "def get_marg_for_psketch(path_to_test, plot = 0):\n",
    "    test_paths = list_files(path_to_test)\n",
    "    test_psketch_ID = map(get_psketch_ID_from_path, test_paths)\n",
    "    # sort by psketchID\n",
    "    psketch_order = np.argsort(np.asarray(test_psketch_ID).astype(int))\n",
    "    _test_paths = [test_paths[i] for i in psketch_order] \n",
    "\n",
    "     # extract and normalize\n",
    "    extractor = FeatureExtractor(_test_paths,6)\n",
    "    X_test, _ = extractor.extract_feature_matrix()\n",
    "    _X_test = normalize(X_test, X_train7.mean(), X_train7.std())\n",
    "    # calculate marginals\n",
    "    prob = np.squeeze(trained_classifier.predict_proba(_X_test))\n",
    "\n",
    "    # plot\n",
    "    \n",
    "    if plot:\n",
    "        plt.plot(prob)\n",
    "        plt.legend(trained_classifier.classes_, bbox_to_anchor=(0., 1.02, 1., .102), loc=3,\n",
    "                   ncol=4, mode=\"expand\", borderaxespad=0.)\n",
    "\n",
    "        \n",
    "    return prob\n"
   ]
  },
  {
   "cell_type": "code",
   "execution_count": 19,
   "metadata": {
    "collapsed": false,
    "deletable": true,
    "editable": true
   },
   "outputs": [
    {
     "name": "stdout",
     "output_type": "stream",
     "text": [
      "stopped!\n"
     ]
    },
    {
     "data": {
      "image/png": "[encoded data removed]",
      "text/plain": [
       "<matplotlib.figure.Figure at 0x7fc4614169d0>"
      ]
     },
     "metadata": {},
     "output_type": "display_data"
    }
   ],
   "source": [
    "get_marg_for_psketch('/home/rslee/partial_sketches/0110171_neurosketch/bench_323', 1);"
   ]
  },
  {
   "cell_type": "code",
   "execution_count": null,
   "metadata": {
    "collapsed": false,
    "deletable": true,
    "editable": true
   },
   "outputs": [],
   "source": [
    "path_to_test = '/home/rslee/partial_sketches/0110171_neurosketch/bed_320'\n",
    "test_paths = list_files(path_to_test)\n",
    "test_psketch_ID = map(get_psketch_ID_from_path, test_paths)\n",
    "# sort by psketchID\n",
    "psketch_order = np.argsort(np.asarray(test_psketch_ID).astype(int))\n",
    "_test_paths = [test_paths[i] for i in psketch_order] \n",
    "\n",
    " # extract and normalize\n",
    "extractor6 = FeatureExtractor(_test_paths,6)\n",
    "X_test6, _ = extractor6.extract_feature_matrix()\n",
    "_X_test6 = normalize(X_test6, train_u6, train_std6)\n",
    "\n",
    "# calculate marginals\n",
    "prob = np.squeeze(trained_classifier6.predict_proba(_X_test6))\n",
    "\n",
    "# plot \n",
    "plt.plot(prob)\n",
    "plt.legend(trained_classifier.classes_, bbox_to_anchor=(0., 1.02, 1., .102), loc=3,\n",
    "           ncol=4, mode=\"expand\", borderaxespad=0.)"
   ]
  },
  {
   "cell_type": "code",
   "execution_count": null,
   "metadata": {
    "collapsed": false,
    "deletable": true,
    "editable": true
   },
   "outputs": [],
   "source": [
    "path_to_test = '/home/rslee/partial_sketches/0110171_neurosketch/bench_323'\n",
    "test_paths = list_files(path_to_test)\n",
    "test_psketch_ID = map(get_psketch_ID_from_path, test_paths)\n",
    "# sort by psketchID\n",
    "psketch_order = np.argsort(np.asarray(test_psketch_ID).astype(int))\n",
    "_test_paths = [test_paths[i] for i in psketch_order] \n",
    "\n",
    "extractor6 = FeatureExtractor(_test_paths,6)\n",
    "X_test6, _ = extractor6.extract_feature_matrix()\n",
    "\n",
    "_X_test6 = normalize(X_test6, train_u6, train_std6)\n",
    "\n",
    "prob = np.squeeze(trained_classifier6.predict_proba(_X_test6))\n",
    "\n",
    "plt.plot(prob)\n",
    "\n",
    "plt.legend(trained_classifier.classes_, bbox_to_anchor=(0., 1.02, 1., .102), loc=3,\n",
    "           ncol=4, mode=\"expand\", borderaxespad=0.)"
   ]
  },
  {
   "cell_type": "code",
   "execution_count": null,
   "metadata": {
    "collapsed": false,
    "deletable": true,
    "editable": true
   },
   "outputs": [],
   "source": [
    "path_to_test = '/home/rslee/partial_sketches/0110171_neurosketch/bench_331'\n",
    "test_paths = list_files(path_to_test)\n",
    "test_psketch_ID = map(get_psketch_ID_from_path, test_paths)\n",
    "# sort by psketchID\n",
    "psketch_order = np.argsort(np.asarray(test_psketch_ID).astype(int))\n",
    "_test_paths = [test_paths[i] for i in psketch_order] \n",
    "\n",
    " # extract and normalize\n",
    "extractor6 = FeatureExtractor(_test_paths,6)\n",
    "X_test6, _ = extractor6.extract_feature_matrix()\n",
    "_X_test6 = normalize(X_test6, train_u6, train_std6)\n",
    "\n",
    "# calculate marginals\n",
    "prob = np.squeeze(trained_classifier6.predict_proba(_X_test6))\n",
    "\n",
    "# plot \n",
    "plt.plot(prob)\n",
    "plt.legend(trained_classifier.classes_, bbox_to_anchor=(0., 1.02, 1., .102), loc=3,\n",
    "           ncol=4, mode=\"expand\", borderaxespad=0.)"
   ]
  },
  {
   "cell_type": "code",
   "execution_count": null,
   "metadata": {
    "collapsed": true,
    "deletable": true,
    "editable": true
   },
   "outputs": [],
   "source": []
  }
 ],
 "metadata": {
  "kernelspec": {
   "display_name": "Python 2",
   "language": "python",
   "name": "python2"
  },
  "language_info": {
   "codemirror_mode": {
    "name": "ipython",
    "version": 2
   },
   "file_extension": ".py",
   "mimetype": "text/x-python",
   "name": "python",
   "nbconvert_exporter": "python",
   "pygments_lexer": "ipython2",
   "version": "2.7.12"
  }
 },
 "nbformat": 4,
 "nbformat_minor": 2
}
