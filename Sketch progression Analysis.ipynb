{
 "cells": [
  {
   "cell_type": "code",
   "execution_count": 47,
   "metadata": {
    "collapsed": false,
    "deletable": true,
    "editable": true
   },
   "outputs": [],
   "source": [
    "from __future__ import division\n",
    "\n",
    "import numpy as np\n",
    "import os\n",
    "from glob import glob\n",
    "import scipy\n",
    "\n",
    "from PIL import Image\n",
    "from copy import deepcopy\n",
    "\n",
    "from sklearn import linear_model, datasets, neighbors\n",
    "from sklearn.model_selection import train_test_split, cross_val_score\n",
    "from sklearn import svm\n",
    "\n",
    "%matplotlib inline\n",
    "from scipy.misc import imread, imresize\n",
    "import matplotlib.pyplot as plt\n",
    "import matplotlib.image as mpimg\n",
    "\n",
    "import torch\n",
    "import torchvision.models as models\n",
    "import torch.nn as nn\n",
    "import torchvision.transforms as transforms\n",
    "import torch.nn.functional as F\n",
    "from torch.autograd import Variable\n",
    "\n",
    "import pandas as pd\n",
    "import pickle\n",
    "\n",
    "VGG_SIZE_X = 224\n",
    "VGG_SIZE_Y = 224\n",
    "VGG_SIZE_Z = 3\n",
    "\n",
    "import sys\n",
    "sys.path.insert(0, '/home/rslee/sketchfeat/sketches')\n",
    "\n",
    "\n",
    "import embedding as emb\n",
    "reload(emb)\n",
    "from embedding import *\n"
   ]
  },
  {
   "cell_type": "code",
   "execution_count": 2,
   "metadata": {
    "collapsed": true,
    "deletable": true,
    "editable": true
   },
   "outputs": [],
   "source": [
    "def normalize(X, u, std):\n",
    "\n",
    "    X = X - u\n",
    "    X = X / std\n",
    "    return X\n",
    "\n",
    "def list_files(path, ext='png'):\n",
    "    result = [y for x in os.walk(path)\n",
    "              for y in glob(os.path.join(x[0], '*.%s' % ext))]\n",
    "    return result\n",
    "\n",
    "def load_images(paths, num_sketches):\n",
    "    X = np.empty((num_sketches, VGG_SIZE_X * VGG_SIZE_Y* VGG_SIZE_Z), np.uint8)\n",
    "\n",
    "    for p_i, p in enumerate(paths):\n",
    "        im = Image.open(p)\n",
    "        im = im.convert('RGB')\n",
    "        im.thumbnail((VGG_SIZE_X, VGG_SIZE_Y), Image.ANTIALIAS)\n",
    "        img = PIL2array(im)\n",
    "\n",
    "        X[p_i, :] = img.flatten()\n",
    "    \n",
    "    return X\n",
    "\n",
    "# normalizes images and re-saves accordingly.... \n",
    "def normalize_images(paths, num_sketches, train_u, train_std):\n",
    "    X = np.empty((num_sketches, VGG_SIZE_X * VGG_SIZE_Y* VGG_SIZE_Z), np.uint8)\n",
    "\n",
    "    for p_i, p in enumerate(paths):\n",
    "        im = Image.open(p)\n",
    "        im = im.convert('RGB')\n",
    "        im.thumbnail((VGG_SIZE_X, VGG_SIZE_Y), Image.ANTIALIAS)\n",
    "        img = PIL2array(im)\n",
    "\n",
    "        X[p_i, :] = img.flatten()\n",
    "    \n",
    "    return X\n",
    "\n",
    "def PIL2array(img):\n",
    "\n",
    "    return np.array(img.getdata(),\n",
    "                    np.uint8).reshape(img.size[1], img.size[0], 3)"
   ]
  },
  {
   "cell_type": "code",
   "execution_count": 17,
   "metadata": {
    "collapsed": false,
    "deletable": true,
    "editable": true
   },
   "outputs": [
    {
     "name": "stdout",
     "output_type": "stream",
     "text": [
      "Number of train sketches: 1567\n"
     ]
    }
   ],
   "source": [
    "# we will train the network on the baseline_sketches (or sketches from a different dataset)\n",
    "# TODO: maybe just use the direct matadata file. the only difference should be the \n",
    "\n",
    "# get metadata\n",
    "\n",
    "\n",
    "def get_train_label_from_path(path):\n",
    "    return path.split('/')[-1].split('_')[0]\n",
    "\n",
    "\n",
    "def get_train_viewpoint_from_path(path):\n",
    "    return path.split('/')[-1].split('_')[1]\n",
    "\n",
    "def get_train_ID_from_path(path):\n",
    "    return path.split('/')[-1].split('.')[0]\n",
    "\n",
    "\n",
    "    \n",
    "# extract metadata\n",
    "path_to_train = '/home/rslee/baseline_sketches' \n",
    "train_paths = list_files(path_to_train)\n",
    "train_labels = map(get_train_label_from_path,train_paths)\n",
    "train_viewpoint = map(get_train_viewpoint_from_path, train_paths)\n",
    "train_ID = map(get_train_ID_from_path, train_paths)\n",
    "\n",
    "num_train = len(train_paths)\n",
    "\n",
    "# organize into dataframe\n",
    "Tr = pd.DataFrame([train_ID, train_labels, train_viewpoint, train_paths])\n",
    "Tr = Tr.transpose()\n",
    "Tr.columns = ['trainID', 'label', 'viewpoint', 'path']\n",
    "\n",
    "print('Number of train sketches: {:d}'.format(len(train_paths)))"
   ]
  },
  {
   "cell_type": "code",
   "execution_count": 4,
   "metadata": {
    "collapsed": false,
    "deletable": true,
    "editable": true
   },
   "outputs": [],
   "source": [
    "# TODO: do I whiten the image ahead of time or can i just normalize the features? \n",
    "\n",
    "# X_train = load_images(train_paths, num_train)\n",
    "\n",
    "# # save the parameters\n",
    "# train_u = X_train.mean()\n",
    "# train_std = X_train.std()\n",
    "    \n",
    "# _X_train = normalize(X_train, train_u, train_std)"
   ]
  },
  {
   "cell_type": "code",
   "execution_count": 80,
   "metadata": {
    "collapsed": false,
    "deletable": true,
    "editable": true
   },
   "outputs": [
    {
     "name": "stdout",
     "output_type": "stream",
     "text": [
      "Batch 5\n",
      "Batch 10\n",
      "Batch 15\n",
      "Batch 20\n",
      "Batch 25\n",
      "stopped!\n"
     ]
    }
   ],
   "source": [
    "extractor = FeatureExtractor(train_paths,7)\n",
    "X_train, _ = extractor.extract_feature_matrix()"
   ]
  },
  {
   "cell_type": "code",
   "execution_count": 81,
   "metadata": {
    "collapsed": true,
    "deletable": true,
    "editable": true
   },
   "outputs": [],
   "source": [
    "\n",
    "train_u = X_train.mean()\n",
    "train_std = X_train.std()\n",
    "_X_train = normalize(X_train, train_u, train_std)"
   ]
  },
  {
   "cell_type": "code",
   "execution_count": 82,
   "metadata": {
    "collapsed": false,
    "deletable": true,
    "editable": true
   },
   "outputs": [],
   "source": [
    "logreg = linear_model.LogisticRegression(solver = 'lbfgs', multi_class = 'multinomial')\n",
    "trained_classifier = logreg.fit(_X_train, train_labels)"
   ]
  },
  {
   "cell_type": "code",
   "execution_count": 92,
   "metadata": {
    "collapsed": false,
    "deletable": true,
    "editable": true
   },
   "outputs": [],
   "source": [
    "logreg = linear_model.LogisticRegression(penalty = 'l2')\n",
    "trained_classifier = logreg.fit(_X_train, train_labels)"
   ]
  },
  {
   "cell_type": "markdown",
   "metadata": {
    "deletable": true,
    "editable": true
   },
   "source": [
    "# Sanity check \n",
    "\n",
    "To run thru the log regression "
   ]
  },
  {
   "cell_type": "code",
   "execution_count": 83,
   "metadata": {
    "collapsed": false,
    "deletable": true,
    "editable": true
   },
   "outputs": [
    {
     "name": "stdout",
     "output_type": "stream",
     "text": [
      "Number of test sketches: 1400\n",
      "Number of test subjects: 35\n"
     ]
    }
   ],
   "source": [
    "def get_test_label_from_path(path):\n",
    "    return path.split('.')[-2].split('_')[-1] \n",
    "\n",
    "def get_subj_from_path(path):\n",
    "    return path.split('/')[-2]\n",
    "\n",
    "path_to_test = '/home/rslee/sketch_data'\n",
    "test_paths = list_files(path_to_test)\n",
    "test_labels = map(get_test_label_from_path,test_paths)\n",
    "subj = map(get_subj_from_path,test_paths)\n",
    "\n",
    "\n",
    "print('Number of test sketches: {:d}'.format(len(test_paths)))\n",
    "print('Number of test subjects: {:d}'.format(len(np.unique(subj))))"
   ]
  },
  {
   "cell_type": "code",
   "execution_count": 85,
   "metadata": {
    "collapsed": false,
    "deletable": true,
    "editable": true
   },
   "outputs": [
    {
     "name": "stdout",
     "output_type": "stream",
     "text": [
      "Batch 5\n",
      "Batch 10\n",
      "Batch 15\n",
      "Batch 20\n",
      "stopped!\n"
     ]
    }
   ],
   "source": [
    "extractor = FeatureExtractor(test_paths,7)\n",
    "X_test, _ = extractor.extract_feature_matrix()"
   ]
  },
  {
   "cell_type": "code",
   "execution_count": 88,
   "metadata": {
    "collapsed": true,
    "deletable": true,
    "editable": true
   },
   "outputs": [],
   "source": [
    "#load an normalize\n",
    "_X_test = normalize(X_test, train_u, train_std)"
   ]
  },
  {
   "cell_type": "code",
   "execution_count": 93,
   "metadata": {
    "collapsed": false,
    "deletable": true,
    "editable": true
   },
   "outputs": [
    {
     "data": {
      "text/plain": [
       "0.76928571428571424"
      ]
     },
     "execution_count": 93,
     "metadata": {},
     "output_type": "execute_result"
    }
   ],
   "source": [
    "# for time's sake, test on a subset \n",
    "trained_classifier.score(_X_test, test_labels)"
   ]
  },
  {
   "cell_type": "markdown",
   "metadata": {
    "deletable": true,
    "editable": true
   },
   "source": [
    "## with fc6 instead"
   ]
  },
  {
   "cell_type": "code",
   "execution_count": 210,
   "metadata": {
    "collapsed": false,
    "deletable": true,
    "editable": true
   },
   "outputs": [
    {
     "name": "stdout",
     "output_type": "stream",
     "text": [
      "Number of test sketches: 1400\n",
      "Number of test subjects: 35\n"
     ]
    }
   ],
   "source": [
    "path_to_test = '/home/rslee/sketch_data/'\n",
    "test_paths = list_files(path_to_test)\n",
    "test_labels = map(get_test_label_from_path,test_paths)\n",
    "subj = map(get_subj_from_path,test_paths)\n",
    "\n",
    "print('Number of test sketches: {:d}'.format(len(test_paths)))\n",
    "print('Number of test subjects: {:d}'.format(len(np.unique(subj))))"
   ]
  },
  {
   "cell_type": "code",
   "execution_count": 211,
   "metadata": {
    "collapsed": false,
    "deletable": true,
    "editable": true,
    "scrolled": false
   },
   "outputs": [
    {
     "name": "stdout",
     "output_type": "stream",
     "text": [
      "Batch 5\n",
      "Batch 10\n",
      "Batch 15\n",
      "Batch 20\n",
      "Batch 25\n",
      "stopped!\n"
     ]
    }
   ],
   "source": [
    "extractor6 = FeatureExtractor(train_paths,6)\n",
    "X_train6, _ = extractor6.extract_feature_matrix()"
   ]
  },
  {
   "cell_type": "code",
   "execution_count": 212,
   "metadata": {
    "collapsed": true,
    "deletable": true,
    "editable": true
   },
   "outputs": [],
   "source": [
    "train_u6 = X_train.mean()\n",
    "train_std6 = X_train.std()\n",
    "_X_train6 = normalize(X_train6, train_u6, train_std6)"
   ]
  },
  {
   "cell_type": "code",
   "execution_count": 213,
   "metadata": {
    "collapsed": false,
    "deletable": true,
    "editable": true
   },
   "outputs": [],
   "source": [
    "# logreg6 = linear_model.LogisticRegression(solver = 'lbfgs', multi_class = 'multinomial')\n",
    "logreg6 = linear_model.LogisticRegression(penalty = 'l2')\n",
    "\n",
    "trained_classifier6 = logreg6.fit(_X_train6, train_labels)"
   ]
  },
  {
   "cell_type": "code",
   "execution_count": 214,
   "metadata": {
    "collapsed": false,
    "deletable": true,
    "editable": true,
    "scrolled": true
   },
   "outputs": [
    {
     "name": "stdout",
     "output_type": "stream",
     "text": [
      "Batch 5\n",
      "Batch 10\n",
      "Batch 15\n",
      "Batch 20\n",
      "stopped!\n"
     ]
    }
   ],
   "source": [
    "extractor = FeatureExtractor(test_paths,6)\n",
    "X_test6, _ = extractor.extract_feature_matrix()"
   ]
  },
  {
   "cell_type": "code",
   "execution_count": 215,
   "metadata": {
    "collapsed": true,
    "deletable": true,
    "editable": true
   },
   "outputs": [],
   "source": [
    "#load an normalize\n",
    "_X_test6 = normalize(X_test6, train_u6, train_std6)"
   ]
  },
  {
   "cell_type": "code",
   "execution_count": 216,
   "metadata": {
    "collapsed": false,
    "deletable": true,
    "editable": true,
    "scrolled": true
   },
   "outputs": [
    {
     "data": {
      "text/plain": [
       "0.80428571428571427"
      ]
     },
     "execution_count": 216,
     "metadata": {},
     "output_type": "execute_result"
    }
   ],
   "source": [
    "trained_classifier6.score(_X_test6, test_labels)"
   ]
  },
  {
   "cell_type": "markdown",
   "metadata": {
    "deletable": true,
    "editable": true
   },
   "source": [
    "## sanity checking with subset of final sketches"
   ]
  },
  {
   "cell_type": "code",
   "execution_count": 192,
   "metadata": {
    "collapsed": false,
    "deletable": true,
    "editable": true
   },
   "outputs": [
    {
     "name": "stdout",
     "output_type": "stream",
     "text": [
      "Number of test sketches: 1400\n",
      "Number of test subjects: 35\n"
     ]
    }
   ],
   "source": [
    "path_to_test = '/home/rslee/sketch_data/'\n",
    "test_paths = list_files(path_to_test)\n",
    "test_labels = map(get_test_label_from_path,test_paths)\n",
    "subj = map(get_subj_from_path,test_paths)\n",
    "\n",
    "print('Number of test sketches: {:d}'.format(len(test_paths)))\n",
    "print('Number of test subjects: {:d}'.format(len(np.unique(subj))))"
   ]
  },
  {
   "cell_type": "code",
   "execution_count": 194,
   "metadata": {
    "collapsed": false,
    "deletable": true,
    "editable": true,
    "scrolled": false
   },
   "outputs": [
    {
     "name": "stdout",
     "output_type": "stream",
     "text": [
      "Batch 5\n",
      "Batch 10\n",
      "Batch 15\n",
      "Batch 20\n",
      "stopped!\n"
     ]
    }
   ],
   "source": [
    "extractor6 = FeatureExtractor(test_paths,6)\n",
    "X_test6, _ = extractor6.extract_feature_matrix()"
   ]
  },
  {
   "cell_type": "code",
   "execution_count": 196,
   "metadata": {
    "collapsed": false,
    "deletable": true,
    "editable": true
   },
   "outputs": [],
   "source": [
    "# logreg6 = linear_model.LogisticRegression(solver = 'lbfgs', multi_class = 'multinomial')\n",
    "clf = linear_model.LogisticRegression(penalty='l2')\n",
    "scores = cross_val_score(clf,X_test6,test_labels , cv=5)"
   ]
  },
  {
   "cell_type": "code",
   "execution_count": 200,
   "metadata": {
    "collapsed": false,
    "deletable": true,
    "editable": true
   },
   "outputs": [
    {
     "name": "stdout",
     "output_type": "stream",
     "text": [
      "Accuracy for final tested sketches are 0.87 (+/- 0.08)\n"
     ]
    }
   ],
   "source": [
    "print(\"Accuracy for cross-val of sketches used for testing are %0.2f (+/- %0.2f)\" % ( scores.mean(), scores.std() * 2))"
   ]
  },
  {
   "cell_type": "code",
   "execution_count": 209,
   "metadata": {
    "collapsed": false,
    "deletable": true,
    "editable": true
   },
   "outputs": [
    {
     "name": "stdout",
     "output_type": "stream",
     "text": [
      "Accuracy for cross-val of sketches used for training (baseline sketches) are 0.85 (+/- 0.02)\n"
     ]
    }
   ],
   "source": [
    "scores = cross_val_score(clf,X_train6,train_labels , cv=5)\n",
    "print(\"Accuracy for cross-val of sketches used for training (baseline sketches) are %0.2f (+/- %0.2f)\" % ( scores.mean(), scores.std() * 2))"
   ]
  },
  {
   "cell_type": "markdown",
   "metadata": {
    "deletable": true,
    "editable": true
   },
   "source": [
    "## with fc6 instead"
   ]
  },
  {
   "cell_type": "code",
   "execution_count": 183,
   "metadata": {
    "collapsed": false,
    "deletable": true,
    "editable": true
   },
   "outputs": [
    {
     "name": "stdout",
     "output_type": "stream",
     "text": [
      "Number of test sketches: 40\n",
      "Number of test subjects: 1\n"
     ]
    }
   ],
   "source": [
    "path_to_test = '/home/rslee/sketch_data/0110171_neurosketch/'\n",
    "test_paths = list_files(path_to_test)\n",
    "test_labels = map(get_test_label_from_path,test_paths)\n",
    "subj = map(get_subj_from_path,test_paths)\n",
    "\n",
    "print('Number of test sketches: {:d}'.format(len(test_paths)))\n",
    "print('Number of test subjects: {:d}'.format(len(np.unique(subj))))"
   ]
  },
  {
   "cell_type": "code",
   "execution_count": 184,
   "metadata": {
    "collapsed": false,
    "deletable": true,
    "editable": true,
    "scrolled": false
   },
   "outputs": [
    {
     "name": "stdout",
     "output_type": "stream",
     "text": [
      "Batch 5\n",
      "Batch 10\n",
      "Batch 15\n",
      "Batch 20\n",
      "Batch 25\n",
      "stopped!\n"
     ]
    }
   ],
   "source": [
    "extractor6 = FeatureExtractor(train_paths,6)\n",
    "X_train6, _ = extractor6.extract_feature_matrix()"
   ]
  },
  {
   "cell_type": "code",
   "execution_count": 185,
   "metadata": {
    "collapsed": true,
    "deletable": true,
    "editable": true
   },
   "outputs": [],
   "source": [
    "train_u6 = X_train.mean()\n",
    "train_std6 = X_train.std()\n",
    "_X_train6 = normalize(X_train6, train_u6, train_std6)"
   ]
  },
  {
   "cell_type": "code",
   "execution_count": 186,
   "metadata": {
    "collapsed": false,
    "deletable": true,
    "editable": true
   },
   "outputs": [],
   "source": [
    "# logreg6 = linear_model.LogisticRegression(solver = 'lbfgs', multi_class = 'multinomial')\n",
    "logreg6 = linear_model.LogisticRegression(penalty = 'l2')\n",
    "\n",
    "trained_classifier6 = logreg6.fit(_X_train6, train_labels)"
   ]
  },
  {
   "cell_type": "code",
   "execution_count": 187,
   "metadata": {
    "collapsed": false,
    "deletable": true,
    "editable": true,
    "scrolled": true
   },
   "outputs": [
    {
     "name": "stdout",
     "output_type": "stream",
     "text": [
      "stopped!\n"
     ]
    }
   ],
   "source": [
    "extractor = FeatureExtractor(test_paths,6)\n",
    "X_test6, _ = extractor.extract_feature_matrix()"
   ]
  },
  {
   "cell_type": "code",
   "execution_count": 188,
   "metadata": {
    "collapsed": true,
    "deletable": true,
    "editable": true
   },
   "outputs": [],
   "source": [
    "#load an normalize\n",
    "_X_test6 = normalize(X_test6, train_u6, train_std6)"
   ]
  },
  {
   "cell_type": "code",
   "execution_count": 189,
   "metadata": {
    "collapsed": false,
    "deletable": true,
    "editable": true,
    "scrolled": true
   },
   "outputs": [
    {
     "data": {
      "text/plain": [
       "0.67500000000000004"
      ]
     },
     "execution_count": 189,
     "metadata": {},
     "output_type": "execute_result"
    }
   ],
   "source": [
    "trained_classifier6.score(_X_test6, test_labels)"
   ]
  },
  {
   "cell_type": "markdown",
   "metadata": {
    "deletable": true,
    "editable": true
   },
   "source": [
    "# Run thru one sketch progression \n",
    "\n",
    "Just a first step "
   ]
  },
  {
   "cell_type": "code",
   "execution_count": null,
   "metadata": {
    "collapsed": true,
    "deletable": true,
    "editable": true
   },
   "outputs": [],
   "source": [
    "# for testing data, we will test for every partial sketch. To just test this, let's just try one set of partial sketches\n",
    "def get_psketch_ID_from_path(path):\n",
    "    return path.split('/')[-1].split('.')[0]"
   ]
  },
  {
   "cell_type": "code",
   "execution_count": 217,
   "metadata": {
    "collapsed": false,
    "deletable": true,
    "editable": true
   },
   "outputs": [
    {
     "data": {
      "text/plain": [
       "array(['bed', 'bench', 'chair', 'table'],\n",
       "      dtype='|S5')"
      ]
     },
     "execution_count": 217,
     "metadata": {},
     "output_type": "execute_result"
    }
   ],
   "source": [
    "trained_classifier.classes_"
   ]
  },
  {
   "cell_type": "code",
   "execution_count": 152,
   "metadata": {
    "collapsed": false,
    "deletable": true,
    "editable": true
   },
   "outputs": [
    {
     "name": "stdout",
     "output_type": "stream",
     "text": [
      "stopped!\n"
     ]
    },
    {
     "data": {
      "text/plain": [
       "<matplotlib.legend.Legend at 0x7f9035470c10>"
      ]
     },
     "execution_count": 152,
     "metadata": {},
     "output_type": "execute_result"
    },
    {
     "data": {
      "image/png": "[encoded data removed]",
      "text/plain": [
       "<matplotlib.figure.Figure at 0x7f903ece2fd0>"
      ]
     },
     "metadata": {},
     "output_type": "display_data"
    }
   ],
   "source": [
    "path_to_test = '/home/rslee/partial_sketches/0110171_neurosketch/bed_320'\n",
    "test_paths = list_files(path_to_test)\n",
    "test_psketch_ID = map(get_psketch_ID_from_path, test_paths)\n",
    "# sort by psketchID\n",
    "psketch_order = np.argsort(np.asarray(test_psketch_ID).astype(int))\n",
    "_test_paths = [test_paths[i] for i in psketch_order] \n",
    "\n",
    " # extract and normalize\n",
    "extractor6 = FeatureExtractor(_test_paths,6)\n",
    "X_test6, _ = extractor6.extract_feature_matrix()\n",
    "_X_test6 = normalize(X_test6, train_u6, train_std6)\n",
    "\n",
    "# calculate marginals\n",
    "prob = np.squeeze(trained_classifier6.predict_proba(_X_test6))\n",
    "\n",
    "# plot \n",
    "plt.plot(prob)\n",
    "plt.legend(trained_classifier.classes_, bbox_to_anchor=(0., 1.02, 1., .102), loc=3,\n",
    "           ncol=4, mode=\"expand\", borderaxespad=0.)"
   ]
  },
  {
   "cell_type": "code",
   "execution_count": 154,
   "metadata": {
    "collapsed": false,
    "deletable": true,
    "editable": true
   },
   "outputs": [
    {
     "name": "stdout",
     "output_type": "stream",
     "text": [
      "stopped!\n"
     ]
    },
    {
     "data": {
      "text/plain": [
       "<matplotlib.legend.Legend at 0x7f9035376cd0>"
      ]
     },
     "execution_count": 154,
     "metadata": {},
     "output_type": "execute_result"
    },
    {
     "data": {
      "image/png": "[encoded data removed]",
      "text/plain": [
       "<matplotlib.figure.Figure at 0x7f903523b390>"
      ]
     },
     "metadata": {},
     "output_type": "display_data"
    }
   ],
   "source": [
    "path_to_test = '/home/rslee/partial_sketches/0110171_neurosketch/bench_323'\n",
    "test_paths = list_files(path_to_test)\n",
    "test_psketch_ID = map(get_psketch_ID_from_path, test_paths)\n",
    "# sort by psketchID\n",
    "psketch_order = np.argsort(np.asarray(test_psketch_ID).astype(int))\n",
    "_test_paths = [test_paths[i] for i in psketch_order] \n",
    "\n",
    "extractor6 = FeatureExtractor(_test_paths,6)\n",
    "X_test6, _ = extractor6.extract_feature_matrix()\n",
    "\n",
    "_X_test6 = normalize(X_test6, train_u6, train_std6)\n",
    "\n",
    "prob = np.squeeze(trained_classifier6.predict_proba(_X_test6))\n",
    "\n",
    "plt.plot(prob)\n",
    "\n",
    "plt.legend(trained_classifier.classes_, bbox_to_anchor=(0., 1.02, 1., .102), loc=3,\n",
    "           ncol=4, mode=\"expand\", borderaxespad=0.)"
   ]
  },
  {
   "cell_type": "code",
   "execution_count": 151,
   "metadata": {
    "collapsed": false,
    "deletable": true,
    "editable": true
   },
   "outputs": [
    {
     "name": "stdout",
     "output_type": "stream",
     "text": [
      "stopped!\n"
     ]
    },
    {
     "data": {
      "text/plain": [
       "<matplotlib.legend.Legend at 0x7f90355e0150>"
      ]
     },
     "execution_count": 151,
     "metadata": {},
     "output_type": "execute_result"
    },
    {
     "data": {
      "image/png": "[encoded data removed]",
      "text/plain": [
       "<matplotlib.figure.Figure at 0x7f90355e0650>"
      ]
     },
     "metadata": {},
     "output_type": "display_data"
    }
   ],
   "source": [
    "path_to_test = '/home/rslee/partial_sketches/0110171_neurosketch/bench_331'\n",
    "test_paths = list_files(path_to_test)\n",
    "test_psketch_ID = map(get_psketch_ID_from_path, test_paths)\n",
    "# sort by psketchID\n",
    "psketch_order = np.argsort(np.asarray(test_psketch_ID).astype(int))\n",
    "_test_paths = [test_paths[i] for i in psketch_order] \n",
    "\n",
    " # extract and normalize\n",
    "extractor6 = FeatureExtractor(_test_paths,6)\n",
    "X_test6, _ = extractor6.extract_feature_matrix()\n",
    "_X_test6 = normalize(X_test6, train_u6, train_std6)\n",
    "\n",
    "# calculate marginals\n",
    "prob = np.squeeze(trained_classifier6.predict_proba(_X_test6))\n",
    "\n",
    "# plot \n",
    "plt.plot(prob)\n",
    "plt.legend(trained_classifier.classes_, bbox_to_anchor=(0., 1.02, 1., .102), loc=3,\n",
    "           ncol=4, mode=\"expand\", borderaxespad=0.)"
   ]
  },
  {
   "cell_type": "code",
   "execution_count": null,
   "metadata": {
    "collapsed": true,
    "deletable": true,
    "editable": true
   },
   "outputs": [],
   "source": []
  }
 ],
 "metadata": {
  "kernelspec": {
   "display_name": "Python 2",
   "language": "python",
   "name": "python2"
  },
  "language_info": {
   "codemirror_mode": {
    "name": "ipython",
    "version": 2
   },
   "file_extension": ".py",
   "mimetype": "text/x-python",
   "name": "python",
   "nbconvert_exporter": "python",
   "pygments_lexer": "ipython2",
   "version": "2.7.12"
  }
 },
 "nbformat": 4,
 "nbformat_minor": 2
}
