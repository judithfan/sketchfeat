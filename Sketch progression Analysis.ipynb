{
 "cells": [
  {
   "cell_type": "code",
   "execution_count": 1,
   "metadata": {
    "collapsed": false,
    "deletable": true,
    "editable": true
   },
   "outputs": [],
   "source": [
    "from __future__ import division\n",
    "\n",
    "import numpy as np\n",
    "import os\n",
    "from glob import glob\n",
    "import scipy\n",
    "\n",
    "from PIL import Image\n",
    "from copy import deepcopy\n",
    "\n",
    "from sklearn import linear_model, datasets, neighbors\n",
    "from sklearn.model_selection import train_test_split, cross_val_score\n",
    "from sklearn import svm\n",
    "\n",
    "%matplotlib inline\n",
    "from scipy.misc import imread, imresize\n",
    "import matplotlib.pyplot as plt\n",
    "import matplotlib.image as mpimg\n",
    "\n",
    "import torch\n",
    "import torchvision.models as models\n",
    "import torch.nn as nn\n",
    "import torchvision.transforms as transforms\n",
    "import torch.nn.functional as F\n",
    "from torch.autograd import Variable\n",
    "\n",
    "import pandas as pd\n",
    "import pickle\n",
    "\n",
    "VGG_SIZE_X = 224\n",
    "VGG_SIZE_Y = 224\n",
    "VGG_SIZE_Z = 3\n",
    "\n",
    "\n",
    "\n"
   ]
  },
  {
   "cell_type": "code",
   "execution_count": 14,
   "metadata": {
    "collapsed": true,
    "deletable": true,
    "editable": true
   },
   "outputs": [],
   "source": [
    "def normalize(X, u, std):\n",
    "\n",
    "    X = X - u\n",
    "    X = X / std\n",
    "    return X\n",
    "\n",
    "def list_files(path, ext='png'):\n",
    "    result = [y for x in os.walk(path)\n",
    "              for y in glob(os.path.join(x[0], '*.%s' % ext))]\n",
    "    return result\n",
    "\n",
    "def load_images(paths, num_sketches):\n",
    "    X = np.empty((num_sketches, VGG_SIZE_X * VGG_SIZE_Y* VGG_SIZE_Z), np.uint8)\n",
    "\n",
    "    for p_i, p in enumerate(paths):\n",
    "        im = Image.open(p)\n",
    "        im = im.convert('RGB')\n",
    "        im.thumbnail((VGG_SIZE_X, VGG_SIZE_Y), Image.ANTIALIAS)\n",
    "        img = PIL2array(im)\n",
    "\n",
    "        X[p_i, :] = img.flatten()\n",
    "    \n",
    "    return X\n",
    "\n",
    "def PIL2array(img):\n",
    "\n",
    "    return np.array(img.getdata(),\n",
    "                    np.uint8).reshape(img.size[1], img.size[0], 3)"
   ]
  },
  {
   "cell_type": "code",
   "execution_count": 3,
   "metadata": {
    "collapsed": true,
    "deletable": true,
    "editable": true
   },
   "outputs": [],
   "source": [
    "# we will train the network on the baseline_sketches (or sketches from a different dataset)\n",
    "# TODO: maybe just use the direct matadata file. the only difference should be the \n",
    "\n",
    "# get metadata\n",
    "\n",
    "\n",
    "def get_train_label_from_path(path):\n",
    "    return path.split('/')[-1].split('_')[0]\n",
    "\n",
    "\n",
    "def get_train_viewpoint_from_path(path):\n",
    "    return path.split('/')[-1].split('_')[1]\n",
    "\n",
    "def get_train_ID_from_path(path):\n",
    "    return path.split('/')[-1].split('.')[0]\n",
    "\n",
    "\n",
    "    \n",
    "# extract metadata\n",
    "path_to_train = '/home/rslee/baseline_sketches' \n",
    "train_paths = list_files(path_to_train)\n",
    "train_labels = map(get_train_label_from_path,train_paths)\n",
    "train_viewpoint = map(get_train_viewpoint_from_path, train_paths)\n",
    "train_ID = map(get_train_ID_from_path, train_paths)\n",
    "\n",
    "num_train = len(train_paths)\n",
    "\n",
    "# organize into dataframe\n",
    "Tr = pd.DataFrame([train_ID, train_labels, train_viewpoint, train_paths])\n",
    "Tr = Tr.transpose()\n",
    "Tr.columns = ['trainID', 'label', 'viewpoint', 'path']\n",
    "\n",
    "# Load all the data ahead of time\n",
    "\n",
    "X_train = load_images(train_paths, num_train)"
   ]
  },
  {
   "cell_type": "code",
   "execution_count": 42,
   "metadata": {
    "collapsed": false,
    "deletable": true,
    "editable": true
   },
   "outputs": [],
   "source": [
    "# whiten all images and save the parameters\n",
    "train_u = X_train.mean()\n",
    "train_std = X_train.std()\n",
    "    \n",
    "_X_train = normalize(X_train, train_u, train_std)"
   ]
  },
  {
   "cell_type": "code",
   "execution_count": 43,
   "metadata": {
    "collapsed": false,
    "deletable": true,
    "editable": true
   },
   "outputs": [],
   "source": [
    "logreg = linear_model.LogisticRegression(solver = 'lbfgs', multi_class = 'multinomial')"
   ]
  },
  {
   "cell_type": "code",
   "execution_count": 44,
   "metadata": {
    "collapsed": false,
    "deletable": true,
    "editable": true
   },
   "outputs": [],
   "source": [
    "trained_classifier = logreg.fit(_X_train, train_labels)"
   ]
  },
  {
   "cell_type": "code",
   "execution_count": 76,
   "metadata": {
    "collapsed": true,
    "deletable": true,
    "editable": true
   },
   "outputs": [],
   "source": [
    "non_norm_trained_classifier = logreg.fit(X_train, train_labels)"
   ]
  },
  {
   "cell_type": "code",
   "execution_count": 153,
   "metadata": {
    "collapsed": true,
    "deletable": true,
    "editable": true
   },
   "outputs": [],
   "source": [
    "# for testing data, we will test for every partial sketch. To just test this, let's just try one set of partial sketches\n",
    "def get_psketch_ID_from_path(path):\n",
    "    return path.split('/')[-1].split('.')[0]\n",
    "\n",
    "path_to_test = '/home/rslee/partial_sketches/0110171_neurosketch/bench_331'\n",
    "test_paths = list_files(path_to_test)\n",
    "test_psketch_ID = map(get_psketch_ID_from_path, test_paths)\n",
    "# sort by psketchID\n",
    "psketch_order = np.argsort(np.asarray(test_psketch_ID).astype(int))\n",
    "_test_paths = [test_paths[i] for i in psketch_order] \n",
    "\n",
    "\n",
    "\n",
    "test_label = 'bed' # hardcoding for now\n",
    "\n",
    "X_test = load_images(_test_paths, len(test_paths))"
   ]
  },
  {
   "cell_type": "code",
   "execution_count": 154,
   "metadata": {
    "collapsed": true,
    "deletable": true,
    "editable": true
   },
   "outputs": [],
   "source": [
    "_X_test = normalize(X_test, train_u, train_std)"
   ]
  },
  {
   "cell_type": "code",
   "execution_count": 155,
   "metadata": {
    "collapsed": false,
    "deletable": true,
    "editable": true
   },
   "outputs": [
    {
     "data": {
      "text/plain": [
       "<matplotlib.image.AxesImage at 0x7f6162ac30d0>"
      ]
     },
     "execution_count": 155,
     "metadata": {},
     "output_type": "execute_result"
    },
    {
     "data": {
      "image/png": "[encoded data removed]",
      "text/plain": [
       "<matplotlib.figure.Figure at 0x7f6162b02bd0>"
      ]
     },
     "metadata": {},
     "output_type": "display_data"
    }
   ],
   "source": [
    "plt.imshow(X_test[-1].reshape(VGG_SIZE_X, VGG_SIZE_Y, VGG_SIZE_Z))"
   ]
  },
  {
   "cell_type": "code",
   "execution_count": 156,
   "metadata": {
    "collapsed": false,
    "deletable": true,
    "editable": true
   },
   "outputs": [],
   "source": [
    "# as first pass\n",
    "prob = np.squeeze(trained_classifier.predict_proba(_X_test))\n"
   ]
  },
  {
   "cell_type": "code",
   "execution_count": 149,
   "metadata": {
    "collapsed": false,
    "deletable": true,
    "editable": true
   },
   "outputs": [
    {
     "data": {
      "text/plain": [
       "<matplotlib.legend.Legend at 0x7f6162da6410>"
      ]
     },
     "execution_count": 149,
     "metadata": {},
     "output_type": "execute_result"
    },
    {
     "data": {
      "image/png": "[encoded data removed]",
      "text/plain": [
       "<matplotlib.figure.Figure at 0x7f6162da6450>"
      ]
     },
     "metadata": {},
     "output_type": "display_data"
    }
   ],
   "source": [
    "plt.plot(prob)\n",
    "plt.legend(trained_classifier.classes_)"
   ]
  },
  {
   "cell_type": "code",
   "execution_count": 144,
   "metadata": {
    "collapsed": false,
    "deletable": true,
    "editable": true
   },
   "outputs": [
    {
     "data": {
      "text/plain": [
       "<matplotlib.legend.Legend at 0x7f6162a44a50>"
      ]
     },
     "execution_count": 144,
     "metadata": {},
     "output_type": "execute_result"
    },
    {
     "data": {
      "image/png": "[encoded data removed]",
      "text/plain": [
       "<matplotlib.figure.Figure at 0x7f6162a44a90>"
      ]
     },
     "metadata": {},
     "output_type": "display_data"
    }
   ],
   "source": [
    "plt.plot(prob)\n",
    "plt.legend(trained_classifier.classes_)"
   ]
  },
  {
   "cell_type": "code",
   "execution_count": null,
   "metadata": {
    "collapsed": true,
    "deletable": true,
    "editable": true
   },
   "outputs": [],
   "source": []
  }
 ],
 "metadata": {
  "kernelspec": {
   "display_name": "Python 2",
   "language": "python",
   "name": "python2"
  },
  "language_info": {
   "codemirror_mode": {
    "name": "ipython",
    "version": 2
   },
   "file_extension": ".py",
   "mimetype": "text/x-python",
   "name": "python",
   "nbconvert_exporter": "python",
   "pygments_lexer": "ipython2",
   "version": "2.7.12"
  }
 },
 "nbformat": 4,
 "nbformat_minor": 2
}
