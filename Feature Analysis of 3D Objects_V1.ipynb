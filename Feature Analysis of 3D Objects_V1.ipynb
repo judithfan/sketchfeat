{
 "cells": [
  {
   "cell_type": "markdown",
   "metadata": {
    "deletable": true,
    "editable": true
   },
   "source": [
    "# I. Set up\n",
    "\n",
    "## dependencies"
   ]
  },
  {
   "cell_type": "code",
   "execution_count": 1,
   "metadata": {
    "collapsed": true,
    "deletable": true,
    "editable": true
   },
   "outputs": [],
   "source": [
    "import numpy as np\n",
    "import utils\n",
    "import pickle\n",
    "import scipy\n",
    "from sklearn import linear_model, datasets, neighbors\n",
    "from sklearn.model_selection import train_test_split\n",
    "\n",
    "\n",
    "\n",
    "%matplotlib inline\n",
    "from scipy.misc import imread, imresize\n",
    "import matplotlib.pyplot as plt\n",
    "import matplotlib.image as mpimg\n",
    "\n"
   ]
  },
  {
   "cell_type": "markdown",
   "metadata": {
    "deletable": true,
    "editable": true
   },
   "source": [
    "## Constants"
   ]
  },
  {
   "cell_type": "code",
   "execution_count": 2,
   "metadata": {
    "collapsed": true,
    "deletable": true,
    "editable": true
   },
   "outputs": [],
   "source": [
    "\n",
    "\n",
    "# I pulled activations of 8 layers. Here is the index ref to the layers\n",
    "LAYERS = {'pool1': 0, 'pool2': 1, 'pool3': 2, 'pool4': 3,\n",
    "          'pool5': 4, 'fc6': 5, 'fc7': 6, 'prob': 7}\n",
    "\n",
    "# constants for the images\n",
    "NUM_VIEWS = 40\n",
    "CARS = ['limo', 'suv', 'smart', 'sedan']\n",
    "FURNITURES = ['bed', 'chair', 'table', 'bench']\n",
    "OBJECTS = CARS + FURNITURES\n",
    "# sample image url: https://s3.amazonaws.com/morphrecog-images-1/limoToSUV_10_10_99.png.png\n",
    "# CARS_label = ['limoToSUV_10','limoToSUV_99','smartToSedan_10','smartToSedan_99'];\n",
    "# FIURNITURES_label = ['bedChair_1', 'bedChair_100', 'tableBench_1', 'tableBench_100']\n",
    "\n",
    " \n",
    "\n",
    "# constants for train/test for the linear discriminability\n",
    "TRAIN_SZ = 0.80\n",
    "TEST_SZ = 1 - TRAIN_SZ\n",
    "\n",
    "\n"
   ]
  },
  {
   "cell_type": "markdown",
   "metadata": {
    "deletable": true,
    "editable": true
   },
   "source": [
    "## pulling and cleaning up the data "
   ]
  },
  {
   "cell_type": "code",
   "execution_count": 3,
   "metadata": {
    "collapsed": true,
    "deletable": true,
    "editable": true
   },
   "outputs": [],
   "source": [
    "# downloading the activations. I had to split the sample (each act has 160 images) because they're about 3GB each. \n",
    "act1 = pickle.load(open('activations.p', 'rb'))\n",
    "act2 = pickle.load(open('activations2.p', 'rb'))"
   ]
  },
  {
   "cell_type": "code",
   "execution_count": 4,
   "metadata": {
    "collapsed": true,
    "deletable": true,
    "editable": true
   },
   "outputs": [],
   "source": [
    "# pulling out all the fc6, fc7 layers for all images to have a smaller set to work with. \n",
    "fc6 = np.vstack((np.asarray(act1[LAYERS['fc6']]), np.asarray(act2[LAYERS['fc6']])))\n",
    "fc7 = np.vstack((np.asarray(act1[LAYERS['fc7']]), np.asarray(act2[LAYERS['fc7']])))\n"
   ]
  },
  {
   "cell_type": "code",
   "execution_count": 5,
   "metadata": {
    "collapsed": true,
    "deletable": true,
    "editable": true
   },
   "outputs": [],
   "source": [
    "# pulling out remaining pooling layers\n",
    "pool = [] \n",
    "\n",
    "for i in xrange(0,5):\n",
    "    pool1_i, pool2_i = np.asarray(act1[i]), np.asarray(act2[i])\n",
    "\n",
    "    pool_i = np.vstack((pool1_i.reshape(pool1_i.shape[0], pool1_i.shape[1] * pool1_i.shape[2] * pool1_i.shape[3]), \n",
    "                     pool2_i.reshape(pool2_i.shape[0], pool2_i.shape[1] * pool2_i.shape[2] * pool2_i.shape[3])))\n",
    "    pool.append(pool_i)\n",
    "\n",
    "# checking that i'm pulling the arrays correctly.... \n",
    "# using pool5 because it's the smallest. \n",
    "# pool[4][20][10:50]\n",
    "# foo = act1[4][20].flatten()\n",
    "# foo[10:50]"
   ]
  },
  {
   "cell_type": "markdown",
   "metadata": {
    "deletable": true,
    "editable": true
   },
   "source": [
    "# II. Representational Similarity Analysis"
   ]
  },
  {
   "cell_type": "code",
   "execution_count": 6,
   "metadata": {
    "collapsed": true,
    "deletable": true,
    "editable": true
   },
   "outputs": [],
   "source": [
    "# getMeanVector gets the mean vector across number of views for num_objects \n",
    "def getMeanVector(full_batch, num_views, num_objects):\n",
    "    meanVector = np.empty((num_objects, full_batch.shape[1]), float)\n",
    "    for i in xrange(0, num_objects):\n",
    "        # pull out the views of the particular object \n",
    "        all_views = full_batch[i * num_views: (i + 1) * num_views, :]\n",
    "        meanVector[i] = np.mean(all_views, axis = 0)\n",
    "\n",
    "    \n",
    "    return meanVector\n",
    "# might need to normalize when takigng mean vector "
   ]
  },
  {
   "cell_type": "code",
   "execution_count": 7,
   "metadata": {
    "collapsed": false,
    "deletable": true,
    "editable": true
   },
   "outputs": [
    {
     "name": "stdout",
     "output_type": "stream",
     "text": [
      "['limo', 'suv', 'smart', 'sedan', 'bed', 'chair', 'table', 'bench']\n"
     ]
    },
    {
     "data": {
      "image/png": "[encoded data removed]",
      "text/plain": [
       "<matplotlib.figure.Figure at 0x11270d890>"
      ]
     },
     "metadata": {},
     "output_type": "display_data"
    }
   ],
   "source": [
    "RDM_fc7 = np.corrcoef(getMeanVector(fc7, NUM_VIEWS, len(OBJECTS))) \n",
    "imgplot = plt.imshow(RDM_fc7)\n",
    "#plt.axis(['limo', 'SUV', 'smart car', 'sedan', 'bed', 'chair', 'bench', 'bed'])\n",
    "# plt.text(60, .025, r'$\\mu=100,\\ \\sigma=15$')\n",
    "plt.colorbar();\n",
    "print CARS + FURNITURES"
   ]
  },
  {
   "cell_type": "code",
   "execution_count": 8,
   "metadata": {
    "collapsed": false,
    "deletable": true,
    "editable": true
   },
   "outputs": [
    {
     "data": {
      "image/png": "[encoded data removed]",
      "text/plain": [
       "<matplotlib.figure.Figure at 0x116394d10>"
      ]
     },
     "metadata": {},
     "output_type": "display_data"
    }
   ],
   "source": [
    "RDM_fc6 = np.corrcoef(getMeanVector(fc6, NUM_VIEWS, len(OBJECTS))) \n",
    "imgplot = plt.imshow(RDM_fc6)\n",
    "plt.colorbar();"
   ]
  },
  {
   "cell_type": "code",
   "execution_count": 9,
   "metadata": {
    "collapsed": false,
    "deletable": true,
    "editable": true
   },
   "outputs": [
    {
     "name": "stdout",
     "output_type": "stream",
     "text": [
      "If the fc6 and fc7 RDM look similar, they are-- note:\n",
      "Taking the difference between fc6 and fc7, we have: 32.3581\n",
      "Taking the difference between RDM of fc6 and fc7, we have: 0.0470156385361\n"
     ]
    }
   ],
   "source": [
    "print \"If the fc6 and fc7 RDM look similar, they are-- note:\"\n",
    "print \"Taking the difference between fc6 and fc7, we have: \"  + str((fc6 - fc7).max())\n",
    "print \"Taking the difference between RDM of fc6 and fc7, we have: \" + str((RDM_fc6 - RDM_fc7).max())"
   ]
  },
  {
   "cell_type": "code",
   "execution_count": 10,
   "metadata": {
    "collapsed": false,
    "deletable": true,
    "editable": true
   },
   "outputs": [
    {
     "name": "stdout",
     "output_type": "stream",
     "text": [
      "this is original\n",
      "[[ 1  2  3  4  5  6  7  8]\n",
      " [ 9 10 11 12 13 14 15 16]\n",
      " [17 18 19 20 21 22 23 24]\n",
      " [25 26 27 28 29 30 31 32]\n",
      " [33 34 35 36 37 38 39 40]\n",
      " [41 42 43 44 45 46 47 48]\n",
      " [49 50 51 52 53 54 55 56]\n",
      " [57 58 59 60 61 62 63 64]]\n",
      "this should be the upper right triangle\n",
      "[[ 0  2  3  4  5  6  7  8]\n",
      " [ 0  0 11 12 13 14 15 16]\n",
      " [ 0  0  0 20 21 22 23 24]\n",
      " [ 0  0  0  0 29 30 31 32]\n",
      " [ 0  0  0  0  0 38 39 40]\n",
      " [ 0  0  0  0  0  0 47 48]\n",
      " [ 0  0  0  0  0  0  0 56]\n",
      " [ 0  0  0  0  0  0  0  0]]\n",
      "this should be between, the upper right block\n",
      "[[ 5  6  7  8]\n",
      " [13 14 15 16]\n",
      " [21 22 23 24]\n",
      " [29 30 31 32]]\n",
      "this should be within; the diagonal entries\n",
      "[[ 0  2  3  4  0  0  0  0]\n",
      " [ 0  0 11 12  0  0  0  0]\n",
      " [ 0  0  0 20  0  0  0  0]\n",
      " [ 0  0  0  0  0  0  0  0]\n",
      " [ 0  0  0  0  0 38 39 40]\n",
      " [ 0  0  0  0  0  0 47 48]\n",
      " [ 0  0  0  0  0  0  0 56]\n",
      " [ 0  0  0  0  0  0  0  0]]\n"
     ]
    }
   ],
   "source": [
    "# code for debugging my RDM_within/between\n",
    "# def getRDM_mean(rdm):\n",
    "if True:\n",
    "    rdm = np.arange(1,65).reshape(8,8)\n",
    "    print \"this is original\"\n",
    "    print rdm\n",
    "    # get upper triangle without diagnoal \n",
    "    rdm_all = np.triu(rdm, 1) \n",
    "    \n",
    "    print \"this should be the upper right triangle\" \n",
    "    print rdm_all\n",
    "    \n",
    "    # upper right block is the between car/furniture category  \n",
    "    rdm_between = rdm_all[:-4, 4:]\n",
    "    print \"this should be between, the upper right block\"\n",
    "    print rdm_between\n",
    "    mean_between = rdm_between.flatten().sum()/16\n",
    "    \n",
    "    \n",
    "    # everything else is within categories \n",
    "    rdm_within = rdm_all\n",
    "    rdm_within[:-4, 4:] = 0\n",
    "    print \"this should be within; the diagonal entries\" \n",
    "    print rdm_within\n",
    "    mean_within = rdm_all.flatten().sum()/12\n",
    "\n",
    "#    return (mean_within, mean_between, abs(mean_within - mean_between))\n",
    "        \n",
    "    \n",
    "    "
   ]
  },
  {
   "cell_type": "code",
   "execution_count": 11,
   "metadata": {
    "collapsed": false,
    "deletable": true,
    "editable": true
   },
   "outputs": [
    {
     "name": "stdout",
     "output_type": "stream",
     "text": [
      "this is original\n",
      "[[   1    2    3 ...,   30   31   32]\n",
      " [  33   34   35 ...,   62   63   64]\n",
      " [  65   66   67 ...,   94   95   96]\n",
      " ..., \n",
      " [ 929  930  931 ...,  958  959  960]\n",
      " [ 961  962  963 ...,  990  991  992]\n",
      " [ 993  994  995 ..., 1022 1023 1024]]\n",
      "this should be the upper right triangle\n",
      "[[  0   2   3 ...,  30  31  32]\n",
      " [  0   0  35 ...,  62  63  64]\n",
      " [  0   0   0 ...,  94  95  96]\n",
      " ..., \n",
      " [  0   0   0 ...,   0 959 960]\n",
      " [  0   0   0 ...,   0   0 992]\n",
      " [  0   0   0 ...,   0   0   0]]\n",
      "this should be the lower right\n",
      "[[  0 530 531 532 533 534 535 536 537 538 539 540 541 542 543 544]\n",
      " [  0   0 563 564 565 566 567 568 569 570 571 572 573 574 575 576]\n",
      " [  0   0   0 596 597 598 599 600 601 602 603 604 605 606 607 608]\n",
      " [  0   0   0   0 629 630 631 632 633 634 635 636 637 638 639 640]\n",
      " [  0   0   0   0   0 662 663 664 665 666 667 668 669 670 671 672]\n",
      " [  0   0   0   0   0   0 695 696 697 698 699 700 701 702 703 704]\n",
      " [  0   0   0   0   0   0   0 728 729 730 731 732 733 734 735 736]\n",
      " [  0   0   0   0   0   0   0   0 761 762 763 764 765 766 767 768]\n",
      " [  0   0   0   0   0   0   0   0   0 794 795 796 797 798 799 800]\n",
      " [  0   0   0   0   0   0   0   0   0   0 827 828 829 830 831 832]\n",
      " [  0   0   0   0   0   0   0   0   0   0   0 860 861 862 863 864]\n",
      " [  0   0   0   0   0   0   0   0   0   0   0   0 893 894 895 896]\n",
      " [  0   0   0   0   0   0   0   0   0   0   0   0   0 926 927 928]\n",
      " [  0   0   0   0   0   0   0   0   0   0   0   0   0   0 959 960]\n",
      " [  0   0   0   0   0   0   0   0   0   0   0   0   0   0   0 992]\n",
      " [  0   0   0   0   0   0   0   0   0   0   0   0   0   0   0   0]]\n",
      "now we want to take the daigonal matrix elements\n",
      "[[  0 530 531 532]\n",
      " [  0   0 563 564]\n",
      " [  0   0   0 596]\n",
      " [  0   0   0   0]]\n",
      "[[  0 662 663 664]\n",
      " [  0   0 695 696]\n",
      " [  0   0   0 728]\n",
      " [  0   0   0   0]]\n",
      "[[  0 794 795 796]\n",
      " [  0   0 827 828]\n",
      " [  0   0   0 860]\n",
      " [  0   0   0   0]]\n",
      "[[  0 926 927 928]\n",
      " [  0   0 959 960]\n",
      " [  0   0   0 992]\n",
      " [  0   0   0   0]]\n",
      "now we want the rest\n",
      "[[  0   0   0   0 533 534 535 536 537 538 539 540 541 542 543 544]\n",
      " [  0   0   0   0 565 566 567 568 569 570 571 572 573 574 575 576]\n",
      " [  0   0   0   0 597 598 599 600 601 602 603 604 605 606 607 608]\n",
      " [  0   0   0   0 629 630 631 632 633 634 635 636 637 638 639 640]\n",
      " [  0   0   0   0   0   0   0   0 665 666 667 668 669 670 671 672]\n",
      " [  0   0   0   0   0   0   0   0 697 698 699 700 701 702 703 704]\n",
      " [  0   0   0   0   0   0   0   0 729 730 731 732 733 734 735 736]\n",
      " [  0   0   0   0   0   0   0   0 761 762 763 764 765 766 767 768]\n",
      " [  0   0   0   0   0   0   0   0   0   0   0   0 797 798 799 800]\n",
      " [  0   0   0   0   0   0   0   0   0   0   0   0 829 830 831 832]\n",
      " [  0   0   0   0   0   0   0   0   0   0   0   0 861 862 863 864]\n",
      " [  0   0   0   0   0   0   0   0   0   0   0   0 893 894 895 896]\n",
      " [  0   0   0   0   0   0   0   0   0   0   0   0   0   0   0   0]\n",
      " [  0   0   0   0   0   0   0   0   0   0   0   0   0   0   0   0]\n",
      " [  0   0   0   0   0   0   0   0   0   0   0   0   0   0   0   0]\n",
      " [  0   0   0   0   0   0   0   0   0   0   0   0   0   0   0   0]]\n"
     ]
    }
   ],
   "source": [
    "# def getRDM_mean_full(rdm, num_objects, num_views):\n",
    "if True:\n",
    "    num_objects = len(OBJECTS)\n",
    "    num_views = 4\n",
    "    rdm = np.arange(1,1025).reshape(32,32)\n",
    "    print \"this is original\"\n",
    "    print rdm\n",
    "    # get upper triangle without diagnoal \n",
    "    rdm_all = np.triu(rdm, 1)    \n",
    "    print \"this should be the upper right triangle\" \n",
    "    print rdm_all\n",
    "    \n",
    "    # just get within category for now-- take the furniture category for now. \n",
    "    rdm_furniture = rdm_all[-16:, -16:]\n",
    "    print \"this should be the lower right\"\n",
    "    print rdm_furniture\n",
    "    \n",
    "     \n",
    "    # then we get all the diagonal matrix elements\n",
    "    within_object_i = np.arange(16)\n",
    "    print \"now we want to take the daigonal matrix elements\"\n",
    "    within_object_sum = 0\n",
    "    for i in xrange(0,num_objects/2):\n",
    "        ind_start = i * (num_views )\n",
    "        ind_end = (i + 1) * (num_views) \n",
    "        print rdm_furniture[ind_start:ind_end, ind_start:ind_end]\n",
    "        within_object_sum += np.sum(rdm_furniture[ind_start:ind_end, ind_start:ind_end].flatten())\n",
    "    \n",
    "    within_object_mean = within_object_sum/ (6 * num_objects/2)\n",
    "    \n",
    "    \n",
    "    # then we get mean cross object, within the same category\n",
    "    rdm_across_obj_furniture = rdm_furniture\n",
    "    for i in xrange(0,num_objects/2):\n",
    "        ind_start = i * (num_views)\n",
    "        ind_end = (i + 1) * (num_views) \n",
    "    \n",
    "        rdm_across_obj_furniture[ind_start:ind_end, ind_start:ind_end] = 0 \n",
    "    print \"now we want the rest\"\n",
    "    print rdm_across_obj_furniture\n",
    "    mean_within = rdm_all.flatten().sum()/96\n",
    "\n",
    "#    return (mean_within, mean_between, abs(mean_within - mean_between))\n",
    "        "
   ]
  },
  {
   "cell_type": "code",
   "execution_count": 12,
   "metadata": {
    "collapsed": false,
    "deletable": true,
    "editable": true
   },
   "outputs": [
    {
     "ename": "IndentationError",
     "evalue": "unexpected indent (<ipython-input-12-f72c78cb56da>, line 4)",
     "output_type": "error",
     "traceback": [
      "\u001b[0;36m  File \u001b[0;32m\"<ipython-input-12-f72c78cb56da>\"\u001b[0;36m, line \u001b[0;32m4\u001b[0m\n\u001b[0;31m    rdm_all = np.triu(rdm, 1)\u001b[0m\n\u001b[0m    ^\u001b[0m\n\u001b[0;31mIndentationError\u001b[0m\u001b[0;31m:\u001b[0m unexpected indent\n"
     ]
    }
   ],
   "source": [
    "def getRDM_mean_furn(rdm, num_objects, num_views):\n",
    "\n",
    "    # get upper triangle without diagnoal \n",
    "    rdm_all = np.triu(rdm, 1)    \n",
    "\n",
    "    \n",
    "    # just get within category for now-- take the furniture category for now. \n",
    "    rdm_furniture = rdm_all[-160:, -160:]\n",
    "\n",
    "    \n",
    "     \n",
    "    # then we get all the diagonal matrix elements\n",
    "    within_object_i = np.arange(160)\n",
    "    within_object_sum = 0\n",
    "    for i in xrange(0,num_objects):\n",
    "        ind_start = i * (num_views)\n",
    "        ind_end = (i + 1) * (num_views) \n",
    "        within_object_sum += np.sum(rdm_furniture[ind_start:ind_end, ind_start:ind_end].flatten())\n",
    "    \n",
    "    mean_within_object_furniture = within_object_sum/ ((num_views * num_views)/2 - num_views/2 * num_objects)\n",
    "    \n",
    "    \n",
    "    # then we get mean cross object, within the same category\n",
    "    rdm_across_obj_furniture = rdm_furniture\n",
    "    for i in xrange(0,num_objects):\n",
    "        ind_start = i * (num_views)\n",
    "        ind_end = (i + 1) * (num_views) \n",
    "        \n",
    "        rdm_across_obj_furniture[ind_start:ind_end, ind_start:ind_end] = 0 \n",
    "\n",
    "    mean_across_obj_furniture = (rdm_across_obj_furniture.flatten().sum())/960\n",
    "\n",
    "    return (mean_within_object_furniture, mean_across_obj_furniture, abs(mean_within_object_furniture -mean_across_obj_furniture))\n",
    "\n"
   ]
  },
  {
   "cell_type": "code",
   "execution_count": 14,
   "metadata": {
    "collapsed": true,
    "deletable": true,
    "editable": true
   },
   "outputs": [],
   "source": [
    "# code from stack exchange (https://goo.gl/MRHFQw) \n",
    "# Extracts blocks of size M from the kth diagonal\n",
    "# of square matrix A, whose size must be a multiple of n.\n",
    "def extract_block_diag(a, n, k=0):\n",
    "\n",
    "    a = np.asarray(a)\n",
    "    if a.ndim != 2:\n",
    "        raise ValueError(\"Only 2-D arrays handled\")\n",
    "    if not (n > 0):\n",
    "        raise ValueError(\"Must have n >= 0\")\n",
    "\n",
    "    if k > 0:\n",
    "        a = a[:,n*k:] \n",
    "    else:\n",
    "        a = a[-n*k:]\n",
    "\n",
    "    n_blocks = min(a.shape[0]//n, a.shape[1]//n)\n",
    "\n",
    "    new_shape = (n_blocks, n, n)\n",
    "    new_strides = (n*a.strides[0] + n*a.strides[1],\n",
    "                   a.strides[0], a.strides[1])\n",
    "\n",
    "    return np.lib.stride_tricks.as_strided(a, new_shape, new_strides)\n",
    "\n"
   ]
  },
  {
   "cell_type": "code",
   "execution_count": null,
   "metadata": {
    "collapsed": true,
    "deletable": true,
    "editable": true
   },
   "outputs": [],
   "source": []
  },
  {
   "cell_type": "markdown",
   "metadata": {
    "deletable": true,
    "editable": true
   },
   "source": [
    "# III. Linear Discriminability"
   ]
  },
  {
   "cell_type": "code",
   "execution_count": null,
   "metadata": {
    "collapsed": true,
    "deletable": true,
    "editable": true
   },
   "outputs": [],
   "source": [
    "\n",
    "# full_batch: the full batch of images. I am assuming that the full_batch is arranged as 40 views of obj1, 40 objects of obj2... so forth.  \n",
    "# train_sz: needs to be a probability, s.t. test_sz = 1 - train-sz. \n",
    "def getData(full_batch, num_views, num_objects, test_sz):\n",
    "    \n",
    "    num_train = int(num_views * (1 - test_sz))\n",
    "    num_test = num_views - num_train\n",
    "    \n",
    "    X_train = np.ones((num_train * num_objects, full_batch.shape[1]), float)\n",
    "    X_test = np.ones((num_test * num_objects, full_batch.shape[1]), float)\n",
    "    \n",
    "    for i in xrange(0, num_objects):\n",
    "        X = full_batch[i * num_views: (i + 1) * num_views, :]\n",
    "        \n",
    "        # randomly shuffle the train/test for the x \n",
    "        X_train_i, X_test_i = train_test_split(X, test_size=test_sz)\n",
    "        X_train[i * num_train: (i + 1) * num_train, :] = X_train_i\n",
    "        X_test[i * num_test: (i + 1) * num_test, :] = X_test_i\n",
    "        \n",
    "        \n",
    "\n",
    "    y_train = np.repeat(xrange(0, num_objects), num_train)\n",
    "    y_test = np.repeat(xrange(0, num_objects), num_test)\n",
    "\n",
    "    return (X_train, y_train, X_test, y_test)\n",
    "\n",
    "# mini-test for the fnc \n",
    "# X_train, y_train, X_test, y_test = getData(fc6, NUM_VIEWS, len(OBJECTS), TEST_SZ)\n",
    "# print \"here is the full thing\" \n",
    "# print np.sort(fc6[0:40,1])\n",
    "# print \"X_train\"\n",
    "# print np.sort(X_train[0:32,1])\n",
    "# print \"X_test\"\n",
    "# print np.sort(X_test[0:8, 1])\n"
   ]
  },
  {
   "cell_type": "code",
   "execution_count": null,
   "metadata": {
    "collapsed": true,
    "deletable": true,
    "editable": true
   },
   "outputs": [],
   "source": [
    "logreg = linear_model.LogisticRegression()\n",
    "X_train, y_train, X_test, y_test = getData(fc6, NUM_VIEWS, len(OBJECTS), TEST_SZ)\n",
    "# for sanity check: X_test_r = np.random.rand(X_test.shape[0], X_test.shape[1])\n",
    "print('LogisticRegression score: %f'\n",
    "      % logreg.fit(X_test, y_test).score(X_train, y_train))"
   ]
  },
  {
   "cell_type": "code",
   "execution_count": null,
   "metadata": {
    "collapsed": true,
    "deletable": true,
    "editable": true
   },
   "outputs": [],
   "source": [
    "logreg = linear_model.LogisticRegression()\n",
    "X_train, y_train, X_test, y_test = getData(fc7, NUM_VIEWS, len(OBJECTS), TEST_SZ)\n",
    "# for sanity check: X_test_r = np.random.rand(X_test.shape[0], X_test.shape[1])\n",
    "print('LogisticRegression score: %f'\n",
    "      % logreg.fit(X_test, y_test).score(X_train, y_train))"
   ]
  },
  {
   "cell_type": "code",
   "execution_count": null,
   "metadata": {
    "collapsed": true,
    "deletable": true,
    "editable": true
   },
   "outputs": [],
   "source": [
    "# grab 5000 random features\n",
    "np.random.seed(0)\n",
    "x = np.arange(np.shape(pool[0])[1])\n",
    "np.random.shuffle(x)\n",
    "random5000 = x[:5000]\n",
    "_pool0 = pool[0][:,random5000]\n",
    "\n",
    "# compute 3-fold cross-validated accuracy \n",
    "from sklearn.model_selection import cross_val_score\n",
    "X = _pool0\n",
    "y = np.repeat(OBJECTS,40)\n",
    "logreg = linear_model.LogisticRegression()\n",
    "y_score = cross_val_score(logreg, X, y)\n",
    "print y_score"
   ]
  }
 ],
 "metadata": {
  "kernelspec": {
   "display_name": "Python 2",
   "language": "python",
   "name": "python2"
  },
  "language_info": {
   "codemirror_mode": {
    "name": "ipython",
    "version": 2
   },
   "file_extension": ".py",
   "mimetype": "text/x-python",
   "name": "python",
   "nbconvert_exporter": "python",
   "pygments_lexer": "ipython2",
   "version": "2.7.12"
  }
 },
 "nbformat": 4,
 "nbformat_minor": 2
}
