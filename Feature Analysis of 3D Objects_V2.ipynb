{
 "cells": [
  {
   "cell_type": "raw",
   "metadata": {
    "deletable": true,
    "editable": true
   },
   "source": [
    "<script>\n",
    "  function code_toggle() {\n",
    "    if (code_shown){\n",
    "      $('div.input').hide('500');\n",
    "      $('#toggleButton').val('Show Code')\n",
    "    } else {\n",
    "      $('div.input').show('500');\n",
    "      $('#toggleButton').val('Hide Code')\n",
    "    }\n",
    "    code_shown = !code_shown\n",
    "  }\n",
    "\n",
    "  $( document ).ready(function(){\n",
    "    code_shown=false;\n",
    "    $('div.input').hide()\n",
    "  });\n",
    "</script>\n",
    "<form action=\"javascript:code_toggle()\"><input type=\"submit\" id=\"toggleButton\" value=\"Show Code\"></form>"
   ]
  },
  {
   "cell_type": "markdown",
   "metadata": {
    "deletable": true,
    "editable": true
   },
   "source": [
    "# Model feature analysis of 3D objects\n",
    "\n",
    "As a starting point, we extract features of the stimuli we used in the neurosketch study: four cars, four furniture items.\n",
    "We use VGG16 as our feature extractor.  This will allow us to directly relate these object stimuli to our sketch data using the same feature embedding. Later, we will use these embeddings to connect to the neural data. \n"
   ]
  },
  {
   "cell_type": "code",
   "execution_count": 1,
   "metadata": {
    "collapsed": true,
    "deletable": true,
    "editable": true
   },
   "outputs": [],
   "source": [
    "# here are some set up code to ignore \n",
    "import numpy as np\n",
    "import utils\n",
    "import pickle\n",
    "import scipy\n",
    "from sklearn import linear_model, datasets, neighbors\n",
    "from sklearn.model_selection import train_test_split\n",
    "from scipy.linalg import block_diag\n",
    "\n",
    "\n",
    "\n",
    "%matplotlib inline\n",
    "from scipy.misc import imread, imresize\n",
    "import matplotlib.pyplot as plt\n",
    "import matplotlib.image as mpimg"
   ]
  },
  {
   "cell_type": "code",
   "execution_count": 2,
   "metadata": {
    "collapsed": true,
    "deletable": true,
    "editable": true
   },
   "outputs": [],
   "source": [
    "# Constants \n",
    "\n",
    "# I pulled activations of 8 layers. Here is the index ref to the layers\n",
    "LAYERS = {'pool1': 0, 'pool2': 1, 'pool3': 2, 'pool4': 3,\n",
    "          'pool5': 4, 'fc6': 5, 'fc7': 6} # 'prob': 7} taking out probability layer for now. \n",
    "\n",
    "LAYERS_NM = ['pool1', 'pool2', 'pool3', 'pool4', 'pool5', 'fc6', 'fc7']\n",
    "# constants for the images\n",
    "NUM_VIEWS = 40\n",
    "CARS = ['limo', 'suv', 'smart', 'sedan']\n",
    "FURNITURES = ['bed', 'chair', 'table', 'bench']\n",
    "OBJECTS = CARS + FURNITURES\n",
    "# sample image url: https://s3.amazonaws.com/morphrecog-images-1/limoToSUV_10_10_99.png.png\n",
    "CARS_label = ['limoToSUV_10','limoToSUV_99','smartToSedan_10','smartToSedan_99'];\n",
    "FURNITURES_label = ['bedChair_1', 'bedChair_100', 'tableBench_1', 'tableBench_100']\n",
    "OBJECTS_label = CARS_label + FURNITURES_label \n",
    "\n",
    "VGG_SIZE_X = 224\n",
    "VGG_SIZE_Y = 224\n",
    "VGG_SIZE_Z = 3\n",
    "\n",
    "# constants for train/test for the linear discriminability\n",
    "TRAIN_SZ = 0.50\n",
    "TEST_SZ = 1 - TRAIN_SZ\n"
   ]
  },
  {
   "cell_type": "code",
   "execution_count": 3,
   "metadata": {
    "collapsed": false,
    "deletable": true,
    "editable": true
   },
   "outputs": [
    {
     "ename": "IOError",
     "evalue": "[Errno 2] No such file or directory: 'activations.p'",
     "output_type": "error",
     "traceback": [
      "\u001b[0;31m---------------------------------------------------------------------------\u001b[0m",
      "\u001b[0;31mIOError\u001b[0m                                   Traceback (most recent call last)",
      "\u001b[0;32m<ipython-input-3-899213cc298d>\u001b[0m in \u001b[0;36m<module>\u001b[0;34m()\u001b[0m\n\u001b[1;32m      2\u001b[0m \u001b[0;34m\u001b[0m\u001b[0m\n\u001b[1;32m      3\u001b[0m \u001b[0;31m# downloading the activations. I had to split the sample (each act has 160 images) because they're about 3GB each.\u001b[0m\u001b[0;34m\u001b[0m\u001b[0;34m\u001b[0m\u001b[0m\n\u001b[0;32m----> 4\u001b[0;31m \u001b[0mact1\u001b[0m \u001b[0;34m=\u001b[0m \u001b[0mpickle\u001b[0m\u001b[0;34m.\u001b[0m\u001b[0mload\u001b[0m\u001b[0;34m(\u001b[0m\u001b[0mopen\u001b[0m\u001b[0;34m(\u001b[0m\u001b[0;34m'activations.p'\u001b[0m\u001b[0;34m,\u001b[0m \u001b[0;34m'rb'\u001b[0m\u001b[0;34m)\u001b[0m\u001b[0;34m)\u001b[0m\u001b[0;34m\u001b[0m\u001b[0m\n\u001b[0m\u001b[1;32m      5\u001b[0m \u001b[0mact2\u001b[0m \u001b[0;34m=\u001b[0m \u001b[0mpickle\u001b[0m\u001b[0;34m.\u001b[0m\u001b[0mload\u001b[0m\u001b[0;34m(\u001b[0m\u001b[0mopen\u001b[0m\u001b[0;34m(\u001b[0m\u001b[0;34m'activations2.p'\u001b[0m\u001b[0;34m,\u001b[0m \u001b[0;34m'rb'\u001b[0m\u001b[0;34m)\u001b[0m\u001b[0;34m)\u001b[0m\u001b[0;34m\u001b[0m\u001b[0m\n",
      "\u001b[0;31mIOError\u001b[0m: [Errno 2] No such file or directory: 'activations.p'"
     ]
    }
   ],
   "source": [
    "# pulling/cleaning up the data\n",
    "\n",
    "# downloading the activations. I had to split the sample (each act has 160 images) because they're about 3GB each. \n",
    "act1 = pickle.load(open('activations.p', 'rb'))\n",
    "act2 = pickle.load(open('activations2.p', 'rb'))"
   ]
  },
  {
   "cell_type": "code",
   "execution_count": null,
   "metadata": {
    "collapsed": true,
    "deletable": true,
    "editable": true
   },
   "outputs": [],
   "source": [
    "# pulling out all the fc6, fc7 layers for all images to have a smaller set to work with. \n",
    "fc6 = np.vstack((np.asarray(act1[LAYERS['fc6']]), np.asarray(act2[LAYERS['fc6']])))\n",
    "fc7 = np.vstack((np.asarray(act1[LAYERS['fc7']]), np.asarray(act2[LAYERS['fc7']])))\n",
    "\n",
    "\n",
    "# pulling out remaining pooling layers\n",
    "pool = [] \n",
    "\n",
    "for i in xrange(0,5):\n",
    "    pool1_i, pool2_i = np.asarray(act1[i]), np.asarray(act2[i])\n",
    "\n",
    "    pool_i = np.vstack((pool1_i.reshape(pool1_i.shape[0], pool1_i.shape[1] * pool1_i.shape[2] * pool1_i.shape[3]), \n",
    "                     pool2_i.reshape(pool2_i.shape[0], pool2_i.shape[1] * pool2_i.shape[2] * pool2_i.shape[3])))\n",
    "    pool.append(pool_i)\n",
    "\n"
   ]
  },
  {
   "cell_type": "code",
   "execution_count": null,
   "metadata": {
    "collapsed": true,
    "deletable": true,
    "editable": true
   },
   "outputs": [],
   "source": [
    "all_layers = pool\n",
    "all_layers.append(fc6)\n",
    "all_layers.append(fc7)"
   ]
  },
  {
   "cell_type": "markdown",
   "metadata": {
    "deletable": true,
    "editable": true
   },
   "source": [
    "## 1. Representational Similarity Analysis\n",
    "\n",
    "We want to relate the model's feature representation of the actual 3D objects participants viewed to its representation of the sketches people produced during training. As a first step, we analyze the category-level and object-level similarity for the 3D objects, at each layer of VGG.\n",
    "\n",
    "To do this, we extract one feature vector for each of the 40 views of each object, take the mean vector within object, and compute the correlations between these mean vectors. We use raw activations for this analysis. This yields an 8x8 correlation matrix for each VGG layer.\n",
    "\n"
   ]
  },
  {
   "cell_type": "code",
   "execution_count": null,
   "metadata": {
    "collapsed": true,
    "deletable": true,
    "editable": true
   },
   "outputs": [],
   "source": [
    "# getMeanVector gets the mean vector across number of views for num_objects \n",
    "def getMeanVector(full_batch, num_views, num_objects):\n",
    "    meanVector = np.empty((num_objects, full_batch.shape[1]), float)\n",
    "    for i in xrange(0, num_objects):\n",
    "        # pull out the views of the particular object \n",
    "        all_views = full_batch[i * num_views: (i + 1) * num_views, :]\n",
    "        meanVector[i,:] = np.mean(all_views, axis = 0)\n",
    "\n",
    "    \n",
    "    return meanVector"
   ]
  },
  {
   "cell_type": "code",
   "execution_count": null,
   "metadata": {
    "collapsed": true,
    "deletable": true,
    "editable": true
   },
   "outputs": [],
   "source": [
    "RDM_fc7 = np.corrcoef(getMeanVector(fc7, NUM_VIEWS, len(OBJECTS))) \n",
    "RDM_fc6 = np.corrcoef(getMeanVector(fc6, NUM_VIEWS, len(OBJECTS))) \n",
    "\n",
    "RDM_pool = []\n",
    "for pool_layer in xrange(0,5):\n",
    "    RDM_pool_i = np.corrcoef(getMeanVector(pool[pool_layer], NUM_VIEWS, len(OBJECTS)))\n",
    "    RDM_pool.append(RDM_pool_i)\n"
   ]
  },
  {
   "cell_type": "code",
   "execution_count": 1,
   "metadata": {
    "collapsed": false,
    "deletable": true,
    "editable": true
   },
   "outputs": [
    {
     "ename": "NameError",
     "evalue": "name 'plt' is not defined",
     "output_type": "error",
     "traceback": [
      "\u001b[0;31m---------------------------------------------------------------------------\u001b[0m",
      "\u001b[0;31mNameError\u001b[0m                                 Traceback (most recent call last)",
      "\u001b[0;32m<ipython-input-1-667fe732e83f>\u001b[0m in \u001b[0;36m<module>\u001b[0;34m()\u001b[0m\n\u001b[0;32m----> 1\u001b[0;31m \u001b[0mfig\u001b[0m \u001b[0;34m=\u001b[0m \u001b[0mplt\u001b[0m\u001b[0;34m.\u001b[0m\u001b[0mfigure\u001b[0m\u001b[0;34m(\u001b[0m\u001b[0;36m1\u001b[0m\u001b[0;34m,\u001b[0m  \u001b[0mfigsize\u001b[0m\u001b[0;34m=\u001b[0m\u001b[0;34m(\u001b[0m\u001b[0;36m15\u001b[0m\u001b[0;34m,\u001b[0m \u001b[0;36m5\u001b[0m\u001b[0;34m)\u001b[0m\u001b[0;34m,\u001b[0m \u001b[0mdpi\u001b[0m\u001b[0;34m=\u001b[0m\u001b[0;36m80\u001b[0m\u001b[0;34m,\u001b[0m \u001b[0mfacecolor\u001b[0m\u001b[0;34m=\u001b[0m\u001b[0;34m'w'\u001b[0m\u001b[0;34m,\u001b[0m \u001b[0medgecolor\u001b[0m\u001b[0;34m=\u001b[0m\u001b[0;34m'k'\u001b[0m\u001b[0;34m)\u001b[0m\u001b[0;34m\u001b[0m\u001b[0m\n\u001b[0m\u001b[1;32m      2\u001b[0m \u001b[0;34m\u001b[0m\u001b[0m\n\u001b[1;32m      3\u001b[0m \u001b[0;34m\u001b[0m\u001b[0m\n\u001b[1;32m      4\u001b[0m \u001b[0;32mfor\u001b[0m \u001b[0mpool_layer\u001b[0m \u001b[0;32min\u001b[0m \u001b[0mxrange\u001b[0m\u001b[0;34m(\u001b[0m\u001b[0;36m0\u001b[0m\u001b[0;34m,\u001b[0m\u001b[0;36m5\u001b[0m\u001b[0;34m)\u001b[0m\u001b[0;34m:\u001b[0m\u001b[0;34m\u001b[0m\u001b[0m\n\u001b[1;32m      5\u001b[0m     \u001b[0mpltname\u001b[0m \u001b[0;34m=\u001b[0m \u001b[0;34m\"Pool \"\u001b[0m \u001b[0;34m+\u001b[0m \u001b[0mstr\u001b[0m\u001b[0;34m(\u001b[0m\u001b[0mpool_layer\u001b[0m \u001b[0;34m+\u001b[0m \u001b[0;36m1\u001b[0m\u001b[0;34m)\u001b[0m\u001b[0;34m\u001b[0m\u001b[0m\n",
      "\u001b[0;31mNameError\u001b[0m: name 'plt' is not defined"
     ]
    }
   ],
   "source": [
    "fig = plt.figure(1,  figsize=(15, 5), dpi=80, facecolor='w', edgecolor='k')\n",
    "\n",
    "\n",
    "for pool_layer in xrange(0,5):\n",
    "    pltname = \"Pool \" + str(pool_layer + 1)\n",
    "    plt.subplot(1, 5, pool_layer + 1)\n",
    "    plt.title(pltname)\n",
    "    plt.imshow(RDM_pool[pool_layer])\n",
    "    plt.xticks(xrange(0,len(OBJECTS)), OBJECTS, rotation='vertical')\n",
    "    \n",
    "    if pool_layer == 0:\n",
    "        plt.yticks(xrange(0,len(OBJECTS)), OBJECTS)\n",
    "    else:\n",
    "        plt.yticks([])\n",
    "\n",
    "fig2 = plt.figure(2,  figsize=(15, 5), dpi=80, facecolor='w', edgecolor='k')\n",
    "plt.subplot(121)\n",
    "plt.imshow(RDM_fc6)\n",
    "plt.title(\"fc6\")\n",
    "plt.xticks(xrange(0,len(OBJECTS)), OBJECTS, rotation='vertical')\n",
    "plt.yticks(xrange(0,len(OBJECTS)), OBJECTS)\n",
    "\n",
    "plt.subplot(122)\n",
    "plt.imshow(RDM_fc7)\n",
    "plt.title(\"fc7\")\n",
    "plt.xticks(xrange(0,len(OBJECTS)), OBJECTS, rotation='vertical')\n",
    "plt.yticks(xrange(0,len(OBJECTS)), OBJECTS)\n",
    "\n",
    "cax = fig.add_axes([0.12, 0.1, 0.78, 0.4])\n",
    "cax.get_xaxis().set_visible(False)\n",
    "cax.get_yaxis().set_visible(False)\n",
    "cax.patch.set_alpha(0)\n",
    "cax.set_frame_on(False)\n",
    "plt.colorbar(orientation='horizontal', ax=cax)\n",
    "plt.show()"
   ]
  },
  {
   "cell_type": "markdown",
   "metadata": {
    "deletable": true,
    "editable": true
   },
   "source": [
    "Note that the category-level and object-level discriminability increases by model layer. Visually, this is captured by comparing the off-diagonal entries of the 4x4 on-diagonal blocks (“within”) to the 4x4 off-diagonal block (“between”). To quantify the strength of category-level clustering by model layer, we compute the difference between the mean “within” and the mean of the “between” entries, and visualize this below)\n",
    "\n",
    "\n"
   ]
  },
  {
   "cell_type": "code",
   "execution_count": null,
   "metadata": {
    "collapsed": true,
    "deletable": true,
    "editable": true
   },
   "outputs": [],
   "source": [
    "def getRDM_mean(rdm):\n",
    "\n",
    "    # get upper triangle without diagnoal \n",
    "    rdm_all = np.triu(rdm, 1) \n",
    "    \n",
    "\n",
    "    \n",
    "    # upper right block is the between car/furniture category  \n",
    "    rdm_between = rdm_all[:-4, 4:]\n",
    "    mean_between = rdm_between.flatten().sum()/16\n",
    "    \n",
    "    \n",
    "    # everything else is within categories \n",
    "    rdm_within = rdm_all\n",
    "    rdm_within[:-4, 4:] = 0\n",
    "    mean_within = rdm_within.flatten().sum()/12\n",
    "\n",
    "    return (mean_within, mean_between, abs(mean_within - mean_between))\n",
    "        "
   ]
  },
  {
   "cell_type": "code",
   "execution_count": null,
   "metadata": {
    "collapsed": true,
    "deletable": true,
    "editable": true
   },
   "outputs": [],
   "source": [
    "\n",
    "RDM_meanWithin = [] #np.ones((1,len(LAYERS)), float)\n",
    "RDM_meanBetween = [] #np.ones((1,len(LAYERS)), float)\n",
    "RDM_meanDiff = [] # np.ones((1,len(LAYERS)), float)\n",
    "for pool_layer in xrange(0,5):\n",
    "    mean_vals_i = getRDM_mean(RDM_pool[pool_layer])\n",
    "    RDM_meanWithin.append(mean_vals_i[0])\n",
    "    RDM_meanBetween.append(mean_vals_i[1])\n",
    "    RDM_meanDiff.append(mean_vals_i[2])\n",
    "\n",
    "\n",
    "for layer in (RDM_fc6, RDM_fc7):\n",
    "    mean_vals_i = getRDM_mean(layer)\n",
    "    RDM_meanWithin.append(mean_vals_i[0])\n",
    "    RDM_meanBetween.append(mean_vals_i[1])\n",
    "    RDM_meanDiff.append(mean_vals_i[2])\n",
    "\n"
   ]
  },
  {
   "cell_type": "code",
   "execution_count": null,
   "metadata": {
    "collapsed": true,
    "deletable": true,
    "editable": true
   },
   "outputs": [],
   "source": [
    "fig = plt.figure(1,  figsize=(8,8), dpi=80, facecolor='w', edgecolor='k')\n",
    "plt.title(\"RDM Mean within and between categories\")\n",
    "plt.ylabel(\"Mean\")\n",
    "plt.xlabel(\"Layer\")\n",
    "\n",
    "plt.bar(np.arange(len(LAYERS_NM))-0.2, RDM_meanWithin, width = 0.2, label= \"mean within categories\")\n",
    "plt.bar(np.arange(len(LAYERS_NM)),RDM_meanBetween,width = 0.2, label = \"mean between categories\")\n",
    "plt.plot(RDM_meanDiff, label = \"difference between the means\", color='k')\n",
    "plt.legend(bbox_to_anchor=(1.05, 1), loc=2, borderaxespad=0.)\n",
    "\n",
    "plt.xticks(xrange(0,len(LAYERS)), LAYERS_NM);\n",
    "axes = plt.gca()\n",
    "axes.set_ylim([0,1]);"
   ]
  },
  {
   "cell_type": "markdown",
   "metadata": {
    "deletable": true,
    "editable": true
   },
   "source": [
    "\n",
    "We also expect to see that object-level discriminability increases by model layer. To do this, we take the full 320x320 image matrix, and perform an analogous computation where we compare the within-object similarities across views to the between-object similarities within class. In other words, the mean similarity across views of a chair compared to the mean similarity between chair and the other three furniture items. We plot this below:\n",
    "\n"
   ]
  },
  {
   "cell_type": "code",
   "execution_count": null,
   "metadata": {
    "collapsed": true,
    "deletable": true,
    "editable": true
   },
   "outputs": [],
   "source": [
    "# code from stack exchange (https://goo.gl/MRHFQw) \n",
    "# Extracts blocks of size M from the kth diagonal\n",
    "# of square matrix A, whose size must be a multiple of n.\n",
    "def extract_block_diag(a, n, k=0):\n",
    "\n",
    "    a = np.asarray(a)\n",
    "    if a.ndim != 2:\n",
    "        raise ValueError(\"Only 2-D arrays handled\")\n",
    "    if not (n > 0):\n",
    "        raise ValueError(\"Must have n >= 0\")\n",
    "\n",
    "    if k > 0:\n",
    "        a = a[:,n*k:] \n",
    "    else:\n",
    "        a = a[-n*k:]\n",
    "\n",
    "    n_blocks = min(a.shape[0]//n, a.shape[1]//n)\n",
    "\n",
    "    new_shape = (n_blocks, n, n)\n",
    "    new_strides = (n*a.strides[0] + n*a.strides[1],\n",
    "                   a.strides[0], a.strides[1])\n",
    "\n",
    "    return np.lib.stride_tricks.as_strided(a, new_shape, new_strides)\n",
    "\n"
   ]
  },
  {
   "cell_type": "code",
   "execution_count": null,
   "metadata": {
    "collapsed": true,
    "deletable": true,
    "editable": true
   },
   "outputs": [],
   "source": [
    "# making the RDM for all \n",
    "RDM_fc7_a = np.corrcoef(fc7) \n",
    "RDM_fc6_a = np.corrcoef(fc6)\n",
    "\n",
    "RDM_pool_a = []\n",
    "for pool_layer in xrange(0,5):\n",
    "    RDM_pool_i = np.corrcoef(pool[pool_layer])\n",
    "    \n",
    "    RDM_pool_a.append(RDM_pool_i)\n",
    "\n"
   ]
  },
  {
   "cell_type": "code",
   "execution_count": null,
   "metadata": {
    "collapsed": true,
    "deletable": true,
    "editable": true
   },
   "outputs": [],
   "source": [
    "\n",
    "\n",
    "fig = plt.figure(1,  figsize=(15, 5), dpi=80, facecolor='w', edgecolor='k')\n",
    "\n",
    "\n",
    "for pool_layer in xrange(0,5):\n",
    "    pltname = \"Pool \" + str(pool_layer + 1)\n",
    "    plt.subplot(1, 5, pool_layer + 1)\n",
    "    plt.title(pltname)\n",
    "    plt.imshow(RDM_pool_a[pool_layer])\n",
    "    \n",
    "    plt.xticks(np.arange(NUM_VIEWS/2, len(OBJECTS) * NUM_VIEWS, NUM_VIEWS), OBJECTS, rotation='vertical')\n",
    "    if pool_layer == 0: \n",
    "        plt.yticks(np.arange(NUM_VIEWS/2, len(OBJECTS) * NUM_VIEWS, NUM_VIEWS), OBJECTS)\n",
    "    else: \n",
    "        plt.yticks([])\n",
    "\n",
    "\n",
    "fig2 = plt.figure(2,  figsize=(15, 5), dpi=80, facecolor='w', edgecolor='k')\n",
    "plt.subplot(121)\n",
    "plt.imshow(RDM_fc6_a)\n",
    "plt.title(\"fc6\")\n",
    "plt.xticks(np.arange(NUM_VIEWS/2, len(OBJECTS) * NUM_VIEWS, NUM_VIEWS), OBJECTS, rotation='vertical')\n",
    "plt.yticks(np.arange(NUM_VIEWS/2, len(OBJECTS) * NUM_VIEWS, NUM_VIEWS), OBJECTS)\n",
    "\n",
    "\n",
    "plt.subplot(122)\n",
    "plt.imshow(RDM_fc7_a)\n",
    "plt.title(\"fc7\")\n",
    "plt.xticks(np.arange(NUM_VIEWS/2, len(OBJECTS) * NUM_VIEWS, NUM_VIEWS), OBJECTS, rotation='vertical')\n",
    "plt.yticks(np.arange(NUM_VIEWS/2, len(OBJECTS) * NUM_VIEWS, NUM_VIEWS), OBJECTS)\n",
    "\n",
    "\n",
    "cax = fig.add_axes([0.12, 0.1, 0.78, 0.4])\n",
    "cax.get_xaxis().set_visible(False)\n",
    "cax.get_yaxis().set_visible(False)\n",
    "cax.patch.set_alpha(0)\n",
    "cax.set_frame_on(False)\n",
    "plt.colorbar(orientation='horizontal', ax=cax)\n",
    "plt.show()"
   ]
  },
  {
   "cell_type": "code",
   "execution_count": null,
   "metadata": {
    "collapsed": true,
    "deletable": true,
    "editable": true
   },
   "outputs": [],
   "source": [
    "# we'll only look at the furnitures for now \n",
    "RDM_fc7_f = RDM_fc7_a[-160:, -160:]\n",
    "RDM_fc6_f = RDM_fc6_a[-160:, -160:]\n",
    "\n",
    "RDM_pool_f = []\n",
    "for pool_layer in xrange(0,5):\n",
    "    \n",
    "    RDM_pool_f.append(RDM_pool_a[pool_layer][-160:, -160:])\n"
   ]
  },
  {
   "cell_type": "code",
   "execution_count": null,
   "metadata": {
    "collapsed": true,
    "deletable": true,
    "editable": true
   },
   "outputs": [],
   "source": [
    "# calculating the within object and cross object mean within the same class\n",
    "\n",
    "def getMeanWithinClass(rdm, num_views, num_objects):\n",
    "    if num_objects != 4: # && num_objects != 8: \n",
    "        print \"need to alter this fnc for getting mean across class.\" \n",
    "        \n",
    "    # take out the upper triangle first + get the diagnoals \n",
    "    within_object_blocks = extract_block_diag(np.triu(rdm, 1) , num_views)\n",
    "    within_object_mean = within_object_blocks.flatten().sum()/np.count_nonzero(within_object_blocks)\n",
    "\n",
    "\n",
    "        \n",
    "    # clear out the diagonal blocks. warning: this is really hacky. \n",
    "    diag_blocks = np.ones((num_views,num_views)) * -1 \n",
    "    rdm_cross = np.triu(rdm, 1) * (block_diag(diag_blocks, diag_blocks, diag_blocks, diag_blocks) + 1 )\n",
    "    \n",
    "    cross_object_mean = rdm_cross.flatten().sum()/np.count_nonzero(rdm_cross)\n",
    "\n",
    "    return (within_object_mean, cross_object_mean, abs(within_object_mean - cross_object_mean))\n",
    "\n",
    "\n"
   ]
  },
  {
   "cell_type": "code",
   "execution_count": null,
   "metadata": {
    "collapsed": true,
    "deletable": true,
    "editable": true
   },
   "outputs": [],
   "source": [
    "\n",
    "RDM_meanWithin_f = [] #np.ones((1,len(LAYERS)), float)\n",
    "RDM_meanCross_f = [] #np.ones((1,len(LAYERS)), float)\n",
    "RDM_meanDiff_f = [] # np.ones((1,len(LAYERS)), float)\n",
    "for pool_layer in xrange(0,5):\n",
    "    mean_vals_i = getMeanWithinClass(RDM_pool_f[pool_layer], NUM_VIEWS, len(FURNITURES))\n",
    "    RDM_meanWithin_f.append(mean_vals_i[0])\n",
    "    RDM_meanCross_f.append(mean_vals_i[1])\n",
    "    RDM_meanDiff_f.append(mean_vals_i[2])\n",
    "\n",
    "\n",
    "for layer in (RDM_fc6_f, RDM_fc7_f):\n",
    "    mean_vals_i = getMeanWithinClass(layer, NUM_VIEWS, len(FURNITURES))\n",
    "    RDM_meanWithin_f.append(mean_vals_i[0])\n",
    "    RDM_meanCross_f.append(mean_vals_i[1])\n",
    "    RDM_meanDiff_f.append(mean_vals_i[2])\n",
    "\n"
   ]
  },
  {
   "cell_type": "code",
   "execution_count": null,
   "metadata": {
    "collapsed": true,
    "deletable": true,
    "editable": true
   },
   "outputs": [],
   "source": [
    "fig = plt.figure(1,  figsize=(8,8), dpi=80, facecolor='w', edgecolor='k')\n",
    "\n",
    "plt.title(\"RDM Mean between-objects and within-objects for furnitures \")\n",
    "plt.ylabel(\"Mean\")\n",
    "plt.xlabel(\"Layer\")\n",
    "plt.bar(np.arange(len(LAYERS_NM))-0.2, RDM_meanWithin_f, width = 0.2, label= \"mean within 40 views of objects\")\n",
    "plt.bar(np.arange(len(LAYERS_NM)),RDM_meanCross_f,width = 0.2, label = \"mean between objects (within same categories)\")\n",
    "plt.plot(RDM_meanDiff_f, label = \"difference between the means\", color='k')\n",
    "plt.legend(bbox_to_anchor=(1.05, 1), loc=2, borderaxespad=0.)\n",
    "\n",
    "plt.xticks(xrange(0,len(LAYERS)), LAYERS_NM);\n",
    "axes = plt.gca()\n",
    "axes.set_ylim([0,1.0]);"
   ]
  },
  {
   "cell_type": "markdown",
   "metadata": {
    "deletable": true,
    "editable": true
   },
   "source": [
    "## Classifier-based Discriminability\n",
    "\n",
    "To directly measure object-level discriminability across model layer, we also train a 4-way (& 8-way) logistic regression classifier. We used a 50/50 train/test split within object class. We did not L2-normalize feature vectors prior to training classifier.\n",
    "\n",
    "However, our imageset was sufficiently clean that even training the model on the first pool layer would lead to a ceiling performance (100% accuracy).  \n",
    "\n",
    "\n"
   ]
  },
  {
   "cell_type": "code",
   "execution_count": 10,
   "metadata": {
    "collapsed": true,
    "deletable": true,
    "editable": true
   },
   "outputs": [],
   "source": [
    "\n",
    "# full_batch: the full batch of images. I am assuming that the full_batch is arranged as 40 views of obj1, 40 objects of obj2... so forth.  \n",
    "# train_sz: needs to be a probability, s.t. test_sz = 1 - train-sz. \n",
    "def getData(full_batch, num_views, num_objects, test_sz):\n",
    "    \n",
    "    num_train = int(num_views * (1 - test_sz))\n",
    "    num_test = num_views - num_train\n",
    "    \n",
    "    X_train = np.ones((num_train * num_objects, full_batch.shape[1]), float)\n",
    "    X_test = np.ones((num_test * num_objects, full_batch.shape[1]), float)\n",
    "    \n",
    "    for i in xrange(0, num_objects):\n",
    "        X = full_batch[i * num_views: (i + 1) * num_views, :]\n",
    "        \n",
    "        # randomly shuffle the train/test for the x \n",
    "        X_train_i, X_test_i = train_test_split(X, test_size=test_sz)\n",
    "        X_train[i * num_train: (i + 1) * num_train, :] = X_train_i\n",
    "        X_test[i * num_test: (i + 1) * num_test, :] = X_test_i\n",
    "        \n",
    "        \n",
    "\n",
    "    y_train = np.repeat(xrange(0, num_objects), num_train)\n",
    "    y_test = np.repeat(xrange(0, num_objects), num_test)\n",
    "\n",
    "    return (X_train, y_train, X_test, y_test)"
   ]
  },
  {
   "cell_type": "code",
   "execution_count": 18,
   "metadata": {
    "collapsed": true,
    "deletable": true,
    "editable": true
   },
   "outputs": [],
   "source": [
    "# checking pixel level classifier(move this up later so we can include this in the line graph) \n",
    "\n",
    "pixel = np.empty((NUM_VIEWS * len(OBJECTS), VGG_SIZE_X * VGG_SIZE_Y* VGG_SIZE_Z), float)\n",
    "pixel_i = 0 # used for the batch index \n",
    "for obj in CARS_label + FURNITURES_label:\n",
    "    for view in xrange(0,NUM_VIEWS):        \n",
    "        imgname = obj + '_' + str(view) + '.png.png'\n",
    "        imgloc = 'object_data/' + imgname\n",
    "        img = utils.load_image(imgloc)\n",
    "\n",
    "        img = np.asarray(img.flatten()).reshape(1, VGG_SIZE_X * VGG_SIZE_Y* VGG_SIZE_Z)\n",
    "        \n",
    "        pixel[pixel_i, :] = img\n",
    "        pixel_i += 1 \n",
    "\n",
    "\n"
   ]
  },
  {
   "cell_type": "code",
   "execution_count": 20,
   "metadata": {
    "collapsed": false,
    "deletable": true,
    "editable": true
   },
   "outputs": [
    {
     "name": "stdout",
     "output_type": "stream",
     "text": [
      "('Logistic Regression score on pixel layer is %f', 0.98124999999999996)\n",
      "('Logistic Regression score on layer %s is %f', 'pool1', 0.99375000000000002)\n",
      "('Logistic Regression score on layer %s is %f', 'pool2', 1.0)\n",
      "('Logistic Regression score on layer %s is %f', 'pool3', 0.98750000000000004)\n",
      "('Logistic Regression score on layer %s is %f', 'pool4', 0.98750000000000004)\n",
      "('Logistic Regression score on layer %s is %f', 'pool5', 1.0)\n",
      "('Logistic Regression score on layer %s is %f', 'fc6', 0.99375000000000002)\n",
      "('Logistic Regression score on layer %s is %f', 'fc7', 0.98750000000000004)\n"
     ]
    }
   ],
   "source": [
    "layer_score = []\n",
    "\n",
    "# pixel layer first\n",
    "logreg = linear_model.LogisticRegression()\n",
    "X_train, y_train, X_test, y_test = getData(pixel, NUM_VIEWS, len(OBJECTS), TEST_SZ)\n",
    "score = logreg.fit(X_train, y_train).score(X_test, y_test)\n",
    "print (\"Logistic Regression score on pixel layer is %f\", score)\n",
    "layer_score.append(score) \n",
    "\n",
    "\n",
    "for i in xrange(0,len(LAYERS_NM)):\n",
    "    logreg = linear_model.LogisticRegression()\n",
    "    X_train, y_train, X_test, y_test = getData(all_layers[i], NUM_VIEWS, len(OBJECTS), TEST_SZ)\n",
    "    score = logreg.fit(X_train, y_train).score(X_test, y_test)\n",
    "    print (\"Logistic Regression score on layer %s is %f\", LAYERS_NM[i], score)\n",
    "    layer_score.append(score) \n"
   ]
  },
  {
   "cell_type": "code",
   "execution_count": 23,
   "metadata": {
    "collapsed": false,
    "deletable": true,
    "editable": true
   },
   "outputs": [
    {
     "data": {
      "image/png": "[encoded data removed]",
      "text/plain": [
       "<matplotlib.figure.Figure at 0x11b5a2a90>"
      ]
     },
     "metadata": {},
     "output_type": "display_data"
    }
   ],
   "source": [
    "fig = plt.figure(1,  figsize=(8,8), dpi=80, facecolor='w', edgecolor='k')\n",
    "\n",
    "plt.title(\"8-way logistic regression classifier performanceon VGG layers \")\n",
    "plt.plot(np.arange(len(LAYERS_NM) + 1 ), layer_score)\n",
    "plt.xlabel('Layers')\n",
    "plt.ylabel('Performance')\n",
    "\n",
    "x_label = LAYERS_NM\n",
    "x_label.insert(0, \"pixels\")\n",
    "\n",
    "plt.xticks(xrange(0,len(LAYERS) + 1), x_label);\n",
    "axes = plt.gca()\n",
    "axes.set_ylim([0.95,1.01]);\n",
    "vals = axes.get_yticks()\n",
    "axes.set_yticklabels(['{:3.2f}%'.format(x*100) for x in vals]);"
   ]
  },
  {
   "cell_type": "raw",
   "metadata": {
    "collapsed": true,
    "deletable": true,
    "editable": true
   },
   "source": [
    "<script>\n",
    "  $(document).ready(function(){\n",
    "    $('div.prompt').hide();\n",
    "    $('div.back-to-top').hide();\n",
    "    $('nav#menubar').hide();\n",
    "    $('.breadcrumb').hide();\n",
    "    $('.hidden-print').hide();\n",
    "  });\n",
    "</script>\n",
    "\n",
    "<footer id=\"attribution\" style=\"float:right; color:#999; background:#fff;\">\n",
    "Created with Jupyter, delivered by Fastly, rendered by Rackspace.\n",
    "</footer>"
   ]
  }
 ],
 "metadata": {
  "kernelspec": {
   "display_name": "Python 2",
   "language": "python",
   "name": "python2"
  },
  "language_info": {
   "codemirror_mode": {
    "name": "ipython",
    "version": 2
   },
   "file_extension": ".py",
   "mimetype": "text/x-python",
   "name": "python",
   "nbconvert_exporter": "python",
   "pygments_lexer": "ipython2",
   "version": "2.7.12"
  }
 },
 "nbformat": 4,
 "nbformat_minor": 2
}
