{
 "cells": [
  {
   "cell_type": "code",
   "execution_count": 146,
   "metadata": {
    "collapsed": true
   },
   "outputs": [],
   "source": [
    "from __future__ import division\n",
    "\n",
    "import numpy as np\n",
    "import os\n",
    "from glob import glob\n",
    "\n",
    "from PIL import Image\n",
    "from copy import deepcopy\n",
    "\n",
    "from sklearn import linear_model, datasets, neighbors\n",
    "from sklearn.model_selection import train_test_split, cross_val_score\n",
    "from sklearn import svm\n",
    "\n",
    "%matplotlib inline\n",
    "from scipy.misc import imread, imresize\n",
    "import matplotlib.pyplot as plt\n",
    "import matplotlib.image as mpimg\n",
    "import seaborn as sns\n",
    "\n",
    "import torch\n",
    "import torchvision.models as models\n",
    "import torch.nn as nn\n",
    "import torchvision.transforms as transforms\n",
    "import torch.nn.functional as F\n",
    "from torch.autograd import Variable\n",
    "\n",
    "import pandas as pd\n",
    "\n",
    "import scipy.stats as stats\n",
    "from scipy.stats import norm\n",
    "import sklearn\n",
    "\n",
    "import embedding as emb\n",
    "reload(emb)\n",
    "from embedding import *"
   ]
  },
  {
   "cell_type": "markdown",
   "metadata": {},
   "source": [
    "### retrieve experimental sketch data and metadata"
   ]
  },
  {
   "cell_type": "code",
   "execution_count": 138,
   "metadata": {},
   "outputs": [
    {
     "name": "stdout",
     "output_type": "stream",
     "text": [
      "Number of sketches: 1400\n",
      "Number of subjects: 35\n"
     ]
    }
   ],
   "source": [
    "def list_files(path, ext='png'):\n",
    "    result = [y for x in os.walk(path)\n",
    "              for y in glob(os.path.join(x[0], '*.%s' % ext))]\n",
    "    return result\n",
    "\n",
    "def get_label_from_path(path):\n",
    "    return path.split('.')[-2].split('_')[-1]    \n",
    "\n",
    "def get_trial_from_path(path):\n",
    "    return path.split('_')[-2]\n",
    "\n",
    "def get_subj_from_path(path):\n",
    "    return path.split('/')[1]\n",
    "\n",
    "# extract metadata\n",
    "path_to_sketches = 'subject_data'\n",
    "sketch_paths = sorted(list_files(path_to_sketches))\n",
    "labels = map(get_label_from_path,sketch_paths)\n",
    "trialNum = map(get_trial_from_path,sketch_paths)\n",
    "subj = map(get_subj_from_path,sketch_paths)\n",
    "\n",
    "# augment with additional metadata from each subject's metadata file\n",
    "sub_dirs = [i for i in sorted(os.listdir(path_to_sketches)) if i[-11:]=='neurosketch']\n",
    "path_to_sub_meta = [os.path.join(path_to_sketches,s,s+'_metadata.csv') for s in sub_dirs]\n",
    "\n",
    "# concatenate all subjects' metadata files\n",
    "Y = []\n",
    "for p in path_to_sub_meta:\n",
    "    _Y = pd.read_csv(p)\n",
    "    if len(Y)==0:\n",
    "        Y = _Y\n",
    "    else:\n",
    "        Y = pd.concat([Y,_Y],ignore_index=True)\n",
    "        \n",
    "# validate that the order is the same in the supersubject metadata file (Y) and the lists generated from sketch_paths        \n",
    "subs = list(Y.wID.values)\n",
    "merged = zip(subj,subs)\n",
    "assert len([(i,j) for (i,j) in merged if i != j])==0        \n",
    "\n",
    "competitors = list(Y.competitor.values)\n",
    "version = list(Y.version.values)\n",
    "viewpoint = list(Y.viewpoint.values)\n",
    "\n",
    "objpose = [i+str(j) for (i,j) in zip(list(labels),list(viewpoint))]\n",
    "\n",
    "# organize into dataframe\n",
    "X = pd.DataFrame([subj,trialNum,labels,competitors,version,viewpoint,sketch_paths,objpose])\n",
    "X = X.transpose()\n",
    "X.columns = ['subj','trial','label','competitor','version','viewpoint','path','objpose']\n",
    "\n",
    "print 'Number of sketches: ' + str(len(sketch_paths))\n",
    "print 'Number of subjects: ' + str(len(np.unique(subj)))\n",
    "\n",
    "num_sketches = len(sketch_paths)\n",
    "\n",
    "############### assign axis to metadata file ##################\n",
    "unique_axes = ['bed_bench','bed_chair','bed_table','bench_chair','bench_table','chair_table']\n",
    "\n",
    "def assign_axis_to_metadata(_X):\n",
    "    _combos = [i+'_'+j for (i,j) in zip(list(_X.label.values),list(_X.competitor.values))]\n",
    "    lookup = {'bed_bench':'bed_bench',\n",
    "              'bench_bed':'bed_bench',\n",
    "              'bed_chair':'bed_chair',\n",
    "              'chair_bed':'bed_chair',\n",
    "              'bed_table':'bed_table',\n",
    "              'table_bed':'bed_table',\n",
    "              'bench_chair':'bench_chair',\n",
    "              'chair_bench':'bench_chair',\n",
    "              'bench_table':'bench_table',\n",
    "              'table_bench':'bench_table',\n",
    "              'chair_table':'chair_table',\n",
    "              'table_chair':'chair_table',          \n",
    "             }\n",
    "    axis = [lookup[c] for c in _combos]\n",
    "    _X = _X.assign(axis=pd.Series(axis).values)\n",
    "    return _X\n",
    "\n",
    "X = assign_axis_to_metadata(X)\n",
    "X.to_csv('METADATA_RAW.csv')\n",
    "\n",
    "############ BASELINE sketch paths ##############\n",
    "path_to_baselines = '../baseline_sketches'\n",
    "baseline_paths = sorted(list_files(path_to_baselines))\n",
    "def get_label_from_baseline_path(path):\n",
    "    return path.split('/')[-1].split('_')[0]\n",
    "def get_view_from_baseline_path(path):\n",
    "    return path.split('/')[-1].split('_')[1]\n",
    "def get_instance_from_baseline_path(path):\n",
    "    return path.split('/')[-1].split('_')[2]\n",
    "\n",
    "baseline_labels = map(get_label_from_baseline_path,baseline_paths)\n",
    "baseline_views = map(get_view_from_baseline_path,baseline_paths)\n",
    "baseline_instances = map(get_instance_from_baseline_path,baseline_paths)\n",
    "B = pd.read_csv(os.path.join(path_to_baselines,'baseline_sketches_metadata.csv'))"
   ]
  },
  {
   "cell_type": "markdown",
   "metadata": {
    "collapsed": true
   },
   "source": [
    "### extract vgg19 features from main dataset"
   ]
  },
  {
   "cell_type": "code",
   "execution_count": 43,
   "metadata": {},
   "outputs": [
    {
     "name": "stdout",
     "output_type": "stream",
     "text": [
      "Batch 1\n",
      "Batch 2\n",
      "Batch 3\n",
      "Batch 4\n",
      "Batch 5\n",
      "Batch 6\n",
      "Batch 7\n",
      "Batch 8\n",
      "Batch 9\n",
      "Batch 10\n",
      "Batch 11\n",
      "Batch 12\n",
      "Batch 13\n",
      "Batch 14\n",
      "Batch 15\n",
      "Batch 16\n",
      "Batch 17\n",
      "Batch 18\n",
      "Batch 19\n",
      "Batch 20\n",
      "Batch 21\n",
      "Batch 22\n",
      "stopped!\n"
     ]
    }
   ],
   "source": [
    "extractor = FeatureExtractor(sketch_paths,6)\n",
    "Features, Labels = extractor.extract_feature_matrix()"
   ]
  },
  {
   "cell_type": "code",
   "execution_count": 44,
   "metadata": {
    "collapsed": true,
    "scrolled": false
   },
   "outputs": [],
   "source": [
    "extract_baseline = 0\n",
    "if extract_baseline:\n",
    "    BaselineFeatureExtractor = FeatureExtractor(baseline_paths,6)\n",
    "    BaselineFeatures, BaselineLabels = BaselineFeatureExtractor.extract_feature_matrix()"
   ]
  },
  {
   "cell_type": "markdown",
   "metadata": {},
   "source": [
    "### preprocess features, save out, basic visualizations"
   ]
  },
  {
   "cell_type": "code",
   "execution_count": 143,
   "metadata": {
    "collapsed": true
   },
   "outputs": [],
   "source": [
    "# z-score normalization to \"center\" the sketch embeddings\n",
    "def normalize(X):\n",
    "    X = X - X.mean(0)\n",
    "    X = X / np.maximum(X.std(0), 1e-5)\n",
    "    return X\n",
    "\n",
    "def preprocess_features(Features, Labels, X):\n",
    "    # normalize feature vectors & plot full image-level similarity matrix\n",
    "    _X = X.sort_values(['label','viewpoint','subj'])\n",
    "    inds = np.array(_X.index)\n",
    "    _Features = normalize(Features[inds])\n",
    "    _Labels = Labels[inds]\n",
    "    return _Features, _Labels, _X\n",
    "\n",
    "def save_features(Features, Labels, X, layer_num):\n",
    "    layers = ['P1','P2','P3','P4','P5','FC6','FC7']\n",
    "    np.save('FEATURES_{}.npy'.format(layers[layer_num]), Features)\n",
    "    np.save('LABELS.npy', Labels)\n",
    "    X.to_csv('METADATA.csv')\n",
    "    return layer_num\n",
    "\n",
    "def get_class_means(X, labels):    \n",
    "    # load in and normalize features \n",
    "    _mu = np.zeros((len(np.unique(labels)), np.shape(X)[1]))        \n",
    "    X = normalize(X)\n",
    "    for vi, v in enumerate(np.unique(np.asarray(labels))):\n",
    "        Xv = X[labels == v]\n",
    "        nv = float(Xv.shape[0])\n",
    "        if nv > 0:\n",
    "            _mu[vi] = Xv.mean(0)\n",
    "    return _mu\n",
    "\n",
    "def normalize_RDM(MAT):\n",
    "    X = MAT - MAT.mean(0).mean(0)\n",
    "    X = X / np.maximum(MAT.std(0).std(0), 1e-5)\n",
    "    return X\n",
    "\n",
    "def plot_rdm_by_views(Features,X,layer_num):\n",
    "    layers = ['P1','P2','P3','P4','P5','FC6','FC7']        \n",
    "    sns.set_style('white')\n",
    "    fig = plt.figure(figsize=(6,6))\n",
    "    views = _X.objpose.values\n",
    "    means = get_class_means(Features, views)\n",
    "    CORRMAT = np.corrcoef(means)\n",
    "    plt.matshow(CORRMAT)\n",
    "    plt.colorbar()\n",
    "    plt.savefig('./plots/RDM_by_view_{}.pdf'.format(layers[layer_num]))\n",
    "    plt.close()        "
   ]
  },
  {
   "cell_type": "markdown",
   "metadata": {},
   "source": [
    "### Extracting, preprocessing, and saving out all layers"
   ]
  },
  {
   "cell_type": "code",
   "execution_count": 142,
   "metadata": {},
   "outputs": [
    {
     "name": "stdout",
     "output_type": "stream",
     "text": [
      "Extracting Layer FC7\n",
      "Batch 5\n",
      "Batch 10\n",
      "Batch 15\n",
      "Batch 20\n",
      "stopped!\n",
      "Preprocessing features...\n"
     ]
    },
    {
     "data": {
      "text/plain": [
       "<matplotlib.figure.Figure at 0x7f285d71bf90>"
      ]
     },
     "metadata": {},
     "output_type": "display_data"
    }
   ],
   "source": [
    "X = pd.read_csv('METADATA_RAW.csv')\n",
    "for layer_ind in np.arange(6,7):\n",
    "    layers = ['P1','P2','P3','P4','P5','FC6','FC7']    \n",
    "    print('Extracting Layer {}'.format(layers[layer_ind]))\n",
    "    extractor = FeatureExtractor(sketch_paths,layer_ind)\n",
    "    Features, Labels = extractor.extract_feature_matrix()    \n",
    "    print('Preprocessing features...')\n",
    "    subset_size = 25000 ## if num feature dimensions exceeds this value, take random subset of features\n",
    "    if Features.shape[1]>25000:\n",
    "        subset_inds = np.random.RandomState(0).permutation(Features.shape[1])[:subset_size]\n",
    "        Features = Features[:,subset_inds]        \n",
    "    _Features, _Labels, _X = preprocess_features(Features, Labels, X)\n",
    "    _X = assign_axis_to_metadata(_X)\n",
    "    layer_num = save_features(_Features, _Labels, _X, layer_ind)\n",
    "    plot_rdm_by_views(_Features, _X, layer_ind)"
   ]
  },
  {
   "cell_type": "code",
   "execution_count": null,
   "metadata": {
    "collapsed": true
   },
   "outputs": [],
   "source": []
  },
  {
   "cell_type": "markdown",
   "metadata": {
    "collapsed": true
   },
   "source": [
    "### Load in features \n"
   ]
  },
  {
   "cell_type": "code",
   "execution_count": 144,
   "metadata": {
    "collapsed": true
   },
   "outputs": [],
   "source": [
    "layers = ['P1','P2','P3','P4','P5','FC6','FC7']\n",
    "layer_names = ['pool1','pool2','pool3','pool4','pool5','fc6','fc7']\n",
    "which_feat = 'pool1'\n",
    "_X = pd.read_csv('METADATA.csv') # metadata is the same for all layers\n",
    "_Labels = np.load('LABELS.npy')\n",
    "_Features = np.load('FEATURES_{}.npy'.format(layers[layer_names.index(which_feat)]))"
   ]
  },
  {
   "cell_type": "markdown",
   "metadata": {},
   "source": [
    "### Softmax classifier test"
   ]
  },
  {
   "cell_type": "code",
   "execution_count": 121,
   "metadata": {
    "collapsed": true
   },
   "outputs": [],
   "source": [
    "FEAT = _Features\n",
    "LABELS = _Labels\n",
    "# compute cross-validated softmax classifier accuracy \n",
    "# clf = svm.SVC(kernel='linear', C=1)\n",
    "run_this = 0\n",
    "if run_this:\n",
    "    clf = linear_model.LogisticRegression(penalty='l2')\n",
    "    scores = cross_val_score(clf, FEAT, LABELS, cv=5)\n",
    "    print(\"Accuracy: %0.2f (+/- %0.2f)\" % (scores.mean(), scores.std() * 2))"
   ]
  },
  {
   "cell_type": "code",
   "execution_count": 122,
   "metadata": {},
   "outputs": [
    {
     "name": "stdout",
     "output_type": "stream",
     "text": [
      "0.65\n"
     ]
    }
   ],
   "source": [
    "# single train/test split\n",
    "X_train, X_test, y_train, y_test = train_test_split(\n",
    "    FEAT, LABELS, test_size=0.2, random_state=0)\n",
    "clf = svm.SVC(kernel='linear', C=1).fit(X_train, y_train)\n",
    "print clf.score(X_test, y_test)"
   ]
  },
  {
   "cell_type": "code",
   "execution_count": null,
   "metadata": {
    "collapsed": true
   },
   "outputs": [],
   "source": []
  },
  {
   "cell_type": "markdown",
   "metadata": {},
   "source": [
    "## Analyze time course during training "
   ]
  },
  {
   "cell_type": "markdown",
   "metadata": {},
   "source": [
    "#### moving window across whole training phase"
   ]
  },
  {
   "cell_type": "code",
   "execution_count": 145,
   "metadata": {},
   "outputs": [
    {
     "data": {
      "image/png": "[encoded data removed]",
      "text/plain": [
       "<matplotlib.figure.Figure at 0x7f285c8f0a90>"
      ]
     },
     "metadata": {},
     "output_type": "display_data"
    }
   ],
   "source": [
    "### which feature embedding are you using?\n",
    "which_feat = 'pool1'\n",
    "FEATMAT = np.load('FEATURES_{}.npy'.format(layers[layer_names.index(which_feat)]))\n",
    "_X = pd.read_csv('METADATA.csv') # metadata is the same for all layers\n",
    "_Labels = np.load('LABELS.npy')\n",
    "\n",
    "# width of moving window in # of trials    \n",
    "window_size = 4 \n",
    "first_trial = int(min(X.trial))\n",
    "last_trial = int(max(X.trial))\n",
    "num_windows = last_trial-first_trial-window_size+2 ##     \n",
    "\n",
    "import scipy.stats as stats\n",
    "SIM = []\n",
    "subs = np.unique(_X.subj)\n",
    "for sub in subs:\n",
    "    sim = []\n",
    "    for n in np.arange(num_windows):\n",
    "        start = first_trial + n\n",
    "        end = first_trial + n + window_size\n",
    "        span = np.arange(start,end)\n",
    "        axis = np.unique(_X[_X.subj==sub].axis.values)[0]\n",
    "        o1 = axis.split('_')[0]\n",
    "        o2 = axis.split('_')[1]\n",
    "        o1_inds = (_X.label==o1) & (_X.subj==sub) & (pd.to_numeric(_X['trial'])>=start) & (pd.to_numeric(_X['trial'])<end)\n",
    "        o2_inds = (_X.label==o2) & (_X.subj==sub) & (pd.to_numeric(_X['trial'])>=start) & (pd.to_numeric(_X['trial'])<end)\n",
    "        assert sum(o1_inds)==window_size/2\n",
    "        assert sum(o2_inds)==window_size/2        \n",
    "        FEAT_o1 = FEATMAT[o1_inds]\n",
    "        FEAT_o2 = FEATMAT[o2_inds]\n",
    "        MEANFEAT_o1 = FEATMAT[o1_inds].mean(0)\n",
    "        MEANFEAT_o2 = FEATMAT[o2_inds].mean(0)\n",
    "        sim.append(stats.pearsonr(MEANFEAT_o1,MEANFEAT_o2)[0])\n",
    "    SIM.append(sim)\n",
    "SIM = np.array(SIM)\n",
    "\n",
    "## plot time series across runs of training\n",
    "sns.set_context('poster')\n",
    "sns.set_style('dark')\n",
    "fig = plt.figure(figsize=(8,6))\n",
    "plt.xlabel('repetitions')\n",
    "plt.ylabel('correlation distance')\n",
    "plt.xlim(0,36)\n",
    "for i,j in zip([0,10,20,30],[7,17,27,37]):\n",
    "    x_inds = list(np.arange(i,j))\n",
    "    y_vals = 1-SIM.mean(0)[x_inds]\n",
    "    plt.plot(x_inds,y_vals,'k',linewidth=4)  \n",
    "for i,j in zip([6,16,26],[10,20,30]):\n",
    "    plt.axvspan(i,j, alpha=0.75, color='white') \n",
    "run_labels = ['run 1','run 2','run 3', 'run 4']    \n",
    "tick = plt.xticks(np.arange(3.5, 36,10.0),run_labels) \n",
    "plt.tight_layout()\n",
    "if not os.path.exists('./plots'):\n",
    "    os.makedirs('./plots')\n",
    "plt.savefig(os.path.join('./plots','similarity_sketch_timecourse_allruns_{}.pdf'.format(which_feat)))"
   ]
  },
  {
   "cell_type": "code",
   "execution_count": null,
   "metadata": {
    "collapsed": true
   },
   "outputs": [],
   "source": []
  },
  {
   "cell_type": "markdown",
   "metadata": {},
   "source": [
    "#### across-run dynamics"
   ]
  },
  {
   "cell_type": "code",
   "execution_count": 353,
   "metadata": {},
   "outputs": [
    {
     "data": {
      "image/png": "[encoded data removed]",
      "text/plain": [
       "<matplotlib.figure.Figure at 0x7f284439e850>"
      ]
     },
     "metadata": {},
     "output_type": "display_data"
    }
   ],
   "source": [
    "### which feature embedding are you using?\n",
    "layers = ['P1','P2','P3','P4','P5','FC6','FC7']\n",
    "layer_names = ['pool1','pool2','pool3','pool4','pool5','fc6','fc7']\n",
    "colors = sns.color_palette(\"viridis\", 8)\n",
    "sns.set_context('poster')\n",
    "sns.set_style('dark')\n",
    "fig = plt.figure(figsize=(8,6))\n",
    "ax = plt.subplot(111)\n",
    "layer_counter = []\n",
    "sub_counter = []\n",
    "run_counter = []\n",
    "SUPERSIM = []\n",
    "FLATSIM = []\n",
    "for f, which_feat in enumerate(layer_names):\n",
    "    FEATMAT = np.load('FEATURES_{}.npy'.format(layers[layer_names.index(which_feat)]))\n",
    "    _X = pd.read_csv('METADATA.csv') # metadata is the same for all layers\n",
    "    _Labels = np.load('LABELS.npy')\n",
    "\n",
    "    import scipy.stats as stats\n",
    "    run_starts = [320,330,340,350]\n",
    "    run_stops = [329,339,349,359]\n",
    "\n",
    "    SIM = []\n",
    "    subs = np.unique(_X.subj)\n",
    "    for i, sub in enumerate(subs):\n",
    "        sim = []\n",
    "        for start,end in zip(run_starts,run_stops):\n",
    "            span = np.arange(start,end)\n",
    "            axis = np.unique(_X[_X.subj==sub].axis.values)[0]\n",
    "            o1 = axis.split('_')[0]\n",
    "            o2 = axis.split('_')[1]\n",
    "            o1_inds = (_X.label==o1) & (_X.subj==sub) & (pd.to_numeric(_X['trial'])>=start) & (pd.to_numeric(_X['trial'])<=end)\n",
    "            o2_inds = (_X.label==o2) & (_X.subj==sub) & (pd.to_numeric(_X['trial'])>=start) & (pd.to_numeric(_X['trial'])<=end)\n",
    "            assert sum(o1_inds)==5\n",
    "            assert sum(o2_inds)==5\n",
    "            FEAT_o1 = FEATMAT[o1_inds]\n",
    "            FEAT_o2 = FEATMAT[o2_inds]\n",
    "            MEANFEAT_o1 = FEATMAT[o1_inds].mean(0)\n",
    "            MEANFEAT_o2 = FEATMAT[o2_inds].mean(0)\n",
    "            sim.append(stats.pearsonr(MEANFEAT_o1,MEANFEAT_o2)[0])\n",
    "            FLATSIM.append(stats.pearsonr(MEANFEAT_o1,MEANFEAT_o2)[0])\n",
    "            \n",
    "            layer_counter.append(layer_names.index(which_feat))\n",
    "            sub_counter.append(sub)\n",
    "            run_counter.append(run_starts.index(start)+1)\n",
    "        SIM.append(sim)\n",
    "    SIM = np.array(SIM)\n",
    "    \n",
    "    if len(SUPERSIM)==0:\n",
    "        SUPERSIM = SIM\n",
    "    else:\n",
    "        SUPERSIM = np.dstack((SUPERSIM,SIM))\n",
    "\n",
    "    ## spearman correlation over the mean for each timewindow in each run\n",
    "    sub_spearman2 = []\n",
    "    for i, s in enumerate(SIM):\n",
    "        assert s.shape==(SIM.shape[1],)\n",
    "        sub_spearman2.append(1 - stats.spearmanr(np.arange(SIM.shape[1]),s)[0])    \n",
    "\n",
    "    ## plot time series across runs of training\n",
    "    plt.xlabel('runs')\n",
    "    plt.ylabel('correlation distance')\n",
    "    xinds = np.arange(4)\n",
    "    yvals = 1 - SIM.mean(0)\n",
    "    plt.xlim(0,3)\n",
    "    plt.plot(xinds,yvals,color=colors[f],linewidth=4,label=which_feat)    \n",
    "    run_labels = ['run 1','run 2','run 3', 'run 4']    \n",
    "    tick = plt.xticks(xinds,run_labels) \n",
    "    plt.title(which_feat)\n",
    "    plt.ylim(0.72,0.98)   \n",
    "    plt.legend() \n",
    "    ax.legend(bbox_to_anchor=(1.1, 1.1))\n",
    "    plt.tight_layout()    \n",
    "    plt.savefig(os.path.join('./plots','similarity_sketch_timecourse_acrossruns_{}.pdf'.format(which_feat)))  \n",
    "    \n",
    "    W = pd.DataFrame([subs,sub_spearman2])\n",
    "    W = W.transpose()\n",
    "    W.columns = ['subj','runwise_similarity_change']\n",
    "    W.to_csv('sketch_similarity_timecourse_across_runs_{}.csv'.format(which_feat))"
   ]
  },
  {
   "cell_type": "code",
   "execution_count": 354,
   "metadata": {
    "collapsed": true
   },
   "outputs": [],
   "source": [
    "Z = pd.DataFrame([FLATSIM, layer_counter, sub_counter, run_counter])\n",
    "Z = Z.transpose()\n",
    "Z.columns = ['similarity','layer','subj','run']"
   ]
  },
  {
   "cell_type": "code",
   "execution_count": 391,
   "metadata": {
    "collapsed": true
   },
   "outputs": [],
   "source": [
    "ZFC7 = Z[Z['layer']==6]\n",
    "# W = ZFC7.groupby('run')['similarity'].apply(lambda x: np.mean(x))\n",
    "# Wsem = ZFC7.groupby('run')['similarity'].apply(lambda x: np.std(x)/np.sqrt(len(x)))\n",
    "plt.figure(figsize=(6,6))\n",
    "sns.pointplot(x=\"run\", \n",
    "              y=\"similarity\", \n",
    "              data=ZFC7, \n",
    "              color=(0.6,0.2,0.2))\n",
    "plt.ylim([0.0,0.5])\n",
    "plt.savefig('./plots/across_run_fc7_similarity_timecourse.pdf')\n",
    "plt.close()"
   ]
  },
  {
   "cell_type": "markdown",
   "metadata": {
    "collapsed": true
   },
   "source": [
    "#### within-run dynamics "
   ]
  },
  {
   "cell_type": "code",
   "execution_count": 204,
   "metadata": {},
   "outputs": [
    {
     "name": "stdout",
     "output_type": "stream",
     "text": [
      "pool1\n",
      "pool2\n",
      "pool3\n",
      "pool4\n",
      "pool5\n",
      "fc6\n",
      "fc7\n"
     ]
    },
    {
     "data": {
      "image/png": "[encoded data removed]",
      "text/plain": [
       "<matplotlib.figure.Figure at 0x7f2844dc2810>"
      ]
     },
     "metadata": {},
     "output_type": "display_data"
    }
   ],
   "source": [
    "### which feature embedding are you using?\n",
    "which_feat = 'pool1'\n",
    "\n",
    "_X = pd.read_csv('METADATA.csv') # metadata is the same for all layers\n",
    "_Labels = np.load('LABELS.npy')    \n",
    "\n",
    "colors = sns.color_palette(\"viridis\", 8)\n",
    "sns.set_context('poster')\n",
    "sns.set_style('dark')\n",
    "fig = plt.figure(figsize=(8,6))\n",
    "ax = plt.subplot(111)\n",
    "\n",
    "num_runs = 4\n",
    "run_length = 10\n",
    "first_trial = int(min(X.trial))\n",
    "last_trial = int(max(X.trial)) \n",
    "window_size = 4 # width of moving window in # of trials\n",
    "\n",
    "for f, which_feat in enumerate(layer_names):\n",
    "    print(which_feat)\n",
    "    FEATMAT = np.load('FEATURES_{}.npy'.format(layers[layer_names.index(which_feat)]))    \n",
    "    _X = pd.read_csv('METADATA.csv') # metadata is the same for all layers\n",
    "    _Labels = np.load('LABELS.npy')\n",
    "    \n",
    "    subs = np.unique(_X.subj)\n",
    "    SIM = []\n",
    "    for sub in subs:\n",
    "        Sim = []\n",
    "        for n in np.arange(num_runs):\n",
    "            sim = []\n",
    "            start = first_trial + run_length*n\n",
    "            end = first_trial + run_length*(n+1) - 1\n",
    "            num_windows = end-start-window_size+2 ## \n",
    "            for _n in np.arange(num_windows):\n",
    "                _start = start + _n\n",
    "                _end = start + _n + window_size                \n",
    "                axis = np.unique(_X[_X.subj==sub].axis.values)[0]\n",
    "                o1 = axis.split('_')[0]\n",
    "                o2 = axis.split('_')[1]\n",
    "                o1_inds = (_X.label==o1) & (_X.subj==sub) & (pd.to_numeric(_X['trial'])>=_start) & (pd.to_numeric(_X['trial'])<_end)\n",
    "                o2_inds = (_X.label==o2) & (_X.subj==sub) & (pd.to_numeric(_X['trial'])>=_start) & (pd.to_numeric(_X['trial'])<_end)\n",
    "                assert sum(o1_inds)==window_size/2\n",
    "                assert sum(o2_inds)==window_size/2        \n",
    "                FEAT_o1 = FEATMAT[o1_inds]\n",
    "                FEAT_o2 = FEATMAT[o2_inds]\n",
    "                MEANFEAT_o1 = FEAT_o1.mean(0)\n",
    "                MEANFEAT_o2 = FEAT_o2.mean(0)\n",
    "                sim.append(stats.pearsonr(MEANFEAT_o1,MEANFEAT_o2)[0])\n",
    "            Sim.append(sim)\n",
    "        SIM.append(Sim)\n",
    "    SIM = np.array(SIM)\n",
    "\n",
    "    plt.plot(SIM.mean(0).mean(0),color=colors[f],linewidth=4,label=which_feat)\n",
    "    plt.xlabel('time window (size = {})'.format(window_size))\n",
    "    plt.ylabel('feature similarity')\n",
    "    plt.title('within-run change in similarity between sketches {}'.format(which_feat))\n",
    "    plt.legend() \n",
    "    ax.legend(bbox_to_anchor=(1.1, 1.1))\n",
    "    plt.tight_layout()  \n",
    "    plt.savefig('./plots/within_run_similarity_timecourse_{}.pdf'.format(which_feat))\n",
    "    plt.close()\n",
    "\n",
    "    ## compute spearman correlation between time window and feature similarity within-run as index of learning\n",
    "    ## spearman correlation over each run separately, then mean\n",
    "    sub_spearman = []\n",
    "    runwise = []\n",
    "    for sub in SIM:\n",
    "        run_spearman = []\n",
    "        for run in sub:\n",
    "            assert run.shape==(SIM.shape[2],)\n",
    "            run_spearman.append(stats.spearmanr(np.arange(SIM.shape[2]),run)[0])\n",
    "        runwise.append(run_spearman)\n",
    "        sub_spearman.append(1 - np.mean(run_spearman))\n",
    "\n",
    "    ## spearman correlation over the mean for each timewindow in each run\n",
    "    sub_spearman2 = []\n",
    "    for i, s in enumerate(SIM.mean(1)):\n",
    "        assert s.shape==(SIM.shape[2],)\n",
    "        sub_spearman2.append(1 - stats.spearmanr(np.arange(SIM.shape[2]),s)[0])    \n",
    "\n",
    "    W = pd.DataFrame([subs,sub_spearman2])\n",
    "    W = W.transpose()\n",
    "    W.columns = ['subj','runwise_similarity_change']\n",
    "    W.to_csv('sketch_similarity_timecourse_within_run_{}.csv'.format(which_feat))"
   ]
  },
  {
   "cell_type": "code",
   "execution_count": null,
   "metadata": {
    "collapsed": true
   },
   "outputs": [],
   "source": []
  },
  {
   "cell_type": "code",
   "execution_count": 230,
   "metadata": {
    "collapsed": true
   },
   "outputs": [],
   "source": [
    "## grand-mean normalize subjects (subtract subject mean, add back grand mean)\n",
    "sub_means = SIM.mean(1).mean(1)\n",
    "grand_mean = SIM.mean(0).mean(0).mean(0)\n",
    "normed_SIM = []\n",
    "for i,s in enumerate(SIM):\n",
    "    normed_SIM.append(s - sub_means[i] + grand_mean)\n",
    "normed_SIM = np.array(normed_SIM)    \n",
    "\n",
    "##################  SIMILARITY   ####################################\n",
    "\n",
    "### plot the timecourse with within-subject error bars\n",
    "hfont = {'fontname':'Helvetica Neue'}\n",
    "sns.set_context('poster')\n",
    "sns.set_style('dark')\n",
    "fig = plt.figure(figsize=(4,4))\n",
    "sem = normed_SIM.mean(0).std(0)/np.sqrt(normed_SIM.shape[0])*1\n",
    "plt.errorbar(np.arange(1,normed_SIM.shape[2]+1),\n",
    "             normed_SIM.mean(0).mean(0),\n",
    "             yerr=sem,color=(0.05,0.05,0.05),\n",
    "             linewidth=5)\n",
    "# lim = plt.ylim([0.145,0.185])\n",
    "xlims = [0.95,normed_SIM.shape[2]+0.05]\n",
    "lim = plt.xlim([xlims[0],xlims[1]])\n",
    "# plt.axvspan(xlims[0],xlims[1], alpha=0.4, color='red')    \n",
    "plt.xlabel('sketch number (window size = 4)', **hfont)\n",
    "plt.ylabel('feature similarity', **hfont)\n",
    "plt.tight_layout()\n",
    "if not os.path.exists('./plots'):\n",
    "    os.makedirs('./plots')\n",
    "plt.savefig('./plots/within_run_similarity_timecourse_{}.pdf'.format(which_feat))\n",
    "\n",
    "##################        DISTANCE   ####################################\n",
    "### plot the DISTANCE timecourse with within-subject error bars\n",
    "hfont = {'fontname':'Helvetica Neue'}\n",
    "sns.set_context('poster')\n",
    "sns.set_style('dark')\n",
    "fig = plt.figure(figsize=(4,4))\n",
    "sem = normed_SIM.mean(0).std(0)/np.sqrt(normed_SIM.shape[0])*1\n",
    "plt.errorbar(np.arange(1,normed_SIM.shape[2]+1),\n",
    "             1-normed_SIM.mean(0).mean(0),\n",
    "             yerr=sem,color=(0.05,0.05,0.05),\n",
    "             linewidth=5)\n",
    "# lim = plt.ylim([0.815,0.855])\n",
    "xlims = [0.95,normed_SIM.shape[2]+0.05]\n",
    "lim = plt.xlim([xlims[0],xlims[1]])\n",
    "# plt.axvspan(xlims[0],xlims[1], alpha=0.4, color='red')    \n",
    "plt.xlabel('repetition (sliding window size = 4)', **hfont)\n",
    "plt.ylabel('correlation distance', **hfont)\n",
    "plt.tight_layout()\n",
    "if not os.path.exists('./plots'):\n",
    "    os.makedirs('./plots')\n",
    "plt.savefig('./plots/within_run_differentiation_timecourse_{}.pdf'.format(which_feat))"
   ]
  },
  {
   "cell_type": "code",
   "execution_count": 224,
   "metadata": {},
   "outputs": [
    {
     "name": "stdout",
     "output_type": "stream",
     "text": [
      "p = 0.0564\n"
     ]
    }
   ],
   "source": [
    "## bootstrap spearman correlation\n",
    "which_feat = 'fc6'\n",
    "W = pd.read_csv('sketch_similarity_timecourse_within_run_{}.csv'.format(which_feat))\n",
    "sub_spearman2 = W.runwise_similarity_change.values\n",
    "w = sub_spearman2\n",
    "nIter = 10000\n",
    "boot_sp = []\n",
    "for i in np.arange(nIter):\n",
    "    boot_sp.append(np.mean(np.random.choice(w,len(w),replace=True)))\n",
    "boot_sp = np.array(boot_sp)     \n",
    "from __future__ import division\n",
    "print 'p = ' + str(sum(boot_sp>1)/len(boot_sp)*2)"
   ]
  },
  {
   "cell_type": "code",
   "execution_count": null,
   "metadata": {
    "collapsed": true
   },
   "outputs": [],
   "source": []
  },
  {
   "cell_type": "markdown",
   "metadata": {},
   "source": [
    "#### get full 40x40 correlation matrix across sketches"
   ]
  },
  {
   "cell_type": "code",
   "execution_count": 275,
   "metadata": {
    "collapsed": true
   },
   "outputs": [],
   "source": [
    "which_feat = 'fc7'\n",
    "FEATMAT = np.load('FEATURES_{}.npy'.format(layers[layer_names.index(which_feat)]))    \n",
    "_X = pd.read_csv('METADATA.csv') # metadata is the same for all layers\n",
    "_Labels = np.load('LABELS.npy')    "
   ]
  },
  {
   "cell_type": "code",
   "execution_count": 407,
   "metadata": {
    "collapsed": true
   },
   "outputs": [],
   "source": [
    "def extract_block_diagonals(MAT,num_blocks):\n",
    "    Blocks = []\n",
    "    run_starts = map(int,np.linspace(0,MAT.shape[0],num_blocks+1))[:num_blocks]\n",
    "    run_stops = map(int,np.linspace(0,MAT.shape[0],num_blocks+1))[1:]\n",
    "    for start,stop in zip(run_starts,run_stops):\n",
    "        Blocks.append(MAT[start:stop,start:stop])\n",
    "    return np.array(Blocks)"
   ]
  },
  {
   "cell_type": "code",
   "execution_count": 436,
   "metadata": {
    "collapsed": true
   },
   "outputs": [],
   "source": [
    "import scipy\n",
    "\n",
    "O1_early_var = []\n",
    "O1_late_var = []\n",
    "O2_early_var = []\n",
    "O2_late_var = []\n",
    "\n",
    "O1_run1_var = []\n",
    "O1_run2_var = []\n",
    "O1_run3_var = []\n",
    "O1_run4_var = []\n",
    "\n",
    "O2_run1_var = []\n",
    "O2_run2_var = []\n",
    "O2_run3_var = []\n",
    "O2_run4_var = []\n",
    "\n",
    "VAR = []\n",
    "OBJ = []\n",
    "RUN = []\n",
    "SUB = []\n",
    "\n",
    "for sub in subs:\n",
    "    S = _X.sort_values(['subj','label','trial'])\n",
    "    t_inds = np.array(S.index)\n",
    "    _FEATMAT = FEATMAT[t_inds]\n",
    "    s_inds = (S.subj==sub)\n",
    "    s = S[s_inds]\n",
    "    assert s.shape==(40,11)\n",
    "    feat = _FEATMAT[s_inds]\n",
    "    MAT = 1 - np.corrcoef(feat)\n",
    "    o1_early = MAT[:10,:10]\n",
    "    o1_late = MAT[10:20,10:20]\n",
    "    o2_early = MAT[20:30,20:30]\n",
    "    o2_late = MAT[30:40,30:40]\n",
    "    Blocks = extract_block_diagonals(MAT,8)\n",
    "    \n",
    "    O1_run1 = Blocks[0]\n",
    "    O1_run2 = Blocks[1]\n",
    "    O1_run3 = Blocks[2]\n",
    "    O1_run4 = Blocks[3]\n",
    "\n",
    "    O2_run1 = Blocks[4]\n",
    "    O2_run2 = Blocks[5]\n",
    "    O2_run3 = Blocks[6]\n",
    "    O2_run4 = Blocks[7]   \n",
    "    \n",
    "    upper_inds = np.triu_indices(10,k=1) \n",
    "    upper_inds_run = np.triu_indices(5,k=1) \n",
    "    \n",
    "    O1_early_var.append(np.mean(o1_early[upper_inds]))\n",
    "    O1_late_var.append(np.mean(o1_late[upper_inds]))\n",
    "    O2_early_var.append(np.mean(o2_early[upper_inds]))\n",
    "    O2_late_var.append(np.mean(o2_late[upper_inds]))\n",
    "    \n",
    "    VAR.append([np.mean(O1_run1[upper_inds_run]),\n",
    "                np.mean(O1_run2[upper_inds_run]),\n",
    "                np.mean(O1_run3[upper_inds_run]),\n",
    "                np.mean(O1_run4[upper_inds_run]),\n",
    "                np.mean(O2_run1[upper_inds_run]),\n",
    "                np.mean(O2_run2[upper_inds_run]),\n",
    "                np.mean(O2_run3[upper_inds_run]),\n",
    "                np.mean(O2_run4[upper_inds_run])])\n",
    "\n",
    "    OBJ.append(['o1']*4 + ['o2']*4)\n",
    "    RUN.append([1,2,3,4]*2)\n",
    "    SUB.append([sub]*8)\n",
    "    \n",
    "    O1_run1_var.append(np.mean(O1_run1[upper_inds_run]))\n",
    "    O1_run2_var.append(np.mean(O1_run2[upper_inds_run]))\n",
    "    O1_run3_var.append(np.mean(O1_run3[upper_inds_run]))\n",
    "    O1_run4_var.append(np.mean(O1_run4[upper_inds_run]))\n",
    "  \n",
    "    O2_run1_var.append(np.mean(O2_run1[upper_inds_run]))\n",
    "    O2_run2_var.append(np.mean(O2_run2[upper_inds_run]))\n",
    "    O2_run3_var.append(np.mean(O2_run3[upper_inds_run]))\n",
    "    O2_run4_var.append(np.mean(O2_run4[upper_inds_run]))    "
   ]
  },
  {
   "cell_type": "code",
   "execution_count": 437,
   "metadata": {
    "collapsed": true
   },
   "outputs": [],
   "source": [
    "def flatten(x):\n",
    "    return [item for sublist in x for item in sublist]\n",
    "\n",
    "VAR, OBJ, RUN, SUB = map(flatten, [VAR, OBJ, RUN, SUB])"
   ]
  },
  {
   "cell_type": "code",
   "execution_count": 438,
   "metadata": {
    "collapsed": true
   },
   "outputs": [],
   "source": [
    "V = pd.DataFrame([VAR, OBJ, RUN, SUB])\n",
    "V = V.transpose()\n",
    "V.columns = ['var','obj','run','subj']"
   ]
  },
  {
   "cell_type": "code",
   "execution_count": null,
   "metadata": {
    "collapsed": true
   },
   "outputs": [],
   "source": []
  },
  {
   "cell_type": "code",
   "execution_count": 503,
   "metadata": {
    "collapsed": true
   },
   "outputs": [],
   "source": [
    "## grand-mean normalize subjects (subtract subject mean, add back grand mean)\n",
    "sub_means = dict(zip(np.unique(V.subj.values),V.groupby('subj')['var'].apply(lambda x: np.mean(x)).values))\n",
    "grand_mean = np.mean(V.groupby('subj')['var'].apply(lambda x: np.mean(x)).values)\n",
    "normed_var = []\n",
    "for i,d in V.iterrows():\n",
    "    normed_var.append(d['var'] - sub_means[d.subj] + grand_mean)\n",
    "V = V.assign(normed_var=pd.Series(normed_var).values)\n",
    "    "
   ]
  },
  {
   "cell_type": "code",
   "execution_count": 504,
   "metadata": {},
   "outputs": [
    {
     "data": {
      "image/png": "[encoded data removed]",
      "text/plain": [
       "<matplotlib.figure.Figure at 0x7f283f468c10>"
      ]
     },
     "metadata": {},
     "output_type": "display_data"
    }
   ],
   "source": [
    "plt.figure(figsize=(6,6))\n",
    "sns.pointplot(x=\"run\", \n",
    "              y=\"normed_var\", \n",
    "              data=V, \n",
    "              color=(0.6,0.2,0.2))\n",
    "plt.ylim([0.7,0.8])\n",
    "plt.tight_layout\n",
    "plt.savefig('./plots/across_run_fc7_similarity_timecourse.pdf')\n",
    "# plt.close()"
   ]
  },
  {
   "cell_type": "code",
   "execution_count": 497,
   "metadata": {},
   "outputs": [],
   "source": [
    "subs = np.unique(V.subj.values)\n",
    "sub_spearman = []\n",
    "sub_pearson = []\n",
    "for sub in subs:\n",
    "    _V = V[V['subj']==sub]\n",
    "    o1_trend = stats.spearmanr(np.arange(4),_V[_V['obj']=='o1']['normed_var'].values)[0]\n",
    "    o2_trend = stats.spearmanr(np.arange(4),_V[_V['obj']=='o2']['normed_var'].values)[0]  \n",
    "    sub_spearman.append(np.mean([o1_trend,o2_trend]))\n",
    "    o1_trend = stats.pearsonr(np.arange(4),_V[_V['obj']=='o1']['normed_var'].values)[0]\n",
    "    o2_trend = stats.pearsonr(np.arange(4),_V[_V['obj']=='o2']['normed_var'].values)[0]      \n",
    "    sub_pearson.append(np.mean([o1_trend, o2_trend]))"
   ]
  },
  {
   "cell_type": "code",
   "execution_count": 506,
   "metadata": {},
   "outputs": [],
   "source": [
    "W = pd.DataFrame([subs,sub_spearman,sub_pearson])\n",
    "W = W.transpose()\n",
    "W.columns = ['subj','spearman_variance','pearson_variance']\n",
    "W.to_csv('sketch_variance_timecourse_across_runs_fc7.csv')"
   ]
  },
  {
   "cell_type": "markdown",
   "metadata": {
    "collapsed": true
   },
   "source": [
    "##### dataframe with all early vs. late and runwise feature variance estimates"
   ]
  },
  {
   "cell_type": "code",
   "execution_count": 427,
   "metadata": {
    "collapsed": true
   },
   "outputs": [],
   "source": [
    "V = pd.DataFrame([O1_early_var,O1_late_var,O2_early_var,O2_late_var,list(subs),\n",
    "                 O1_run1_var,O1_run2_var,O1_run3_var,O1_run4_var,\n",
    "                 O2_run1_var,O2_run2_var,O2_run3_var,O2_run4_var])\n",
    "V = V.transpose()\n",
    "V.columns = ['o1_early_var','o1_late_var','o2_early_var','o2_late_var','subj',\n",
    "            'O1_run1_var','O1_run2_var','O1_run3_var','O1_run4_var',\n",
    "            'O2_run1_var','O2_run2_var','O2_run3_var','O2_run4_var']\n",
    "\n",
    "o1_diff = V.o1_late_var.values - V.o1_early_var.values\n",
    "o2_diff = V.o2_late_var.values - V.o2_early_var.values\n",
    "o_diff = list(np.vstack((o1_diff,o2_diff)).mean(0))"
   ]
  },
  {
   "cell_type": "code",
   "execution_count": 428,
   "metadata": {},
   "outputs": [
    {
     "name": "stdout",
     "output_type": "stream",
     "text": [
      "-0.0349428896506\n"
     ]
    }
   ],
   "source": [
    "V = V.assign(o1_diff=pd.Series(o1_diff).values)\n",
    "V = V.assign(o2_diff=pd.Series(o2_diff).values)\n",
    "V = V.assign(o_diff=pd.Series(o_diff).values)\n",
    "print np.mean(V.o_diff)"
   ]
  },
  {
   "cell_type": "code",
   "execution_count": 327,
   "metadata": {},
   "outputs": [
    {
     "data": {
      "text/plain": [
       "0.034942889650563913"
      ]
     },
     "execution_count": 327,
     "metadata": {},
     "output_type": "execute_result"
    }
   ],
   "source": [
    "def bootstrap(w,nIter=50000):\n",
    "    boot_sp = []\n",
    "    for i in np.arange(nIter):\n",
    "        boot_sp.append(np.mean(np.random.choice(w,len(w),replace=True)))\n",
    "    boot_sp = np.array(boot_sp)     \n",
    "    print 'p = ' + str(sum(boot_sp<0)/len(boot_sp)*2)\n",
    "    return boot_sp"
   ]
  },
  {
   "cell_type": "code",
   "execution_count": 331,
   "metadata": {
    "collapsed": true
   },
   "outputs": [],
   "source": [
    "bootmean = bootstrap(V.o_diff.values)\n",
    "h = plt.hist(bootmean)"
   ]
  },
  {
   "cell_type": "code",
   "execution_count": null,
   "metadata": {
    "collapsed": true
   },
   "outputs": [],
   "source": []
  },
  {
   "cell_type": "code",
   "execution_count": null,
   "metadata": {
    "collapsed": true
   },
   "outputs": [],
   "source": []
  },
  {
   "cell_type": "code",
   "execution_count": null,
   "metadata": {
    "collapsed": true
   },
   "outputs": [],
   "source": []
  },
  {
   "cell_type": "code",
   "execution_count": null,
   "metadata": {
    "collapsed": true
   },
   "outputs": [],
   "source": []
  },
  {
   "cell_type": "markdown",
   "metadata": {
    "collapsed": true
   },
   "source": [
    "### Set up test for early vs. late in training"
   ]
  },
  {
   "cell_type": "code",
   "execution_count": 520,
   "metadata": {
    "collapsed": true
   },
   "outputs": [],
   "source": [
    "first_trial = int(min(X.trial))\n",
    "last_trial = int(max(X.trial))\n",
    "num_trials = last_trial-first_trial+1"
   ]
  },
  {
   "cell_type": "code",
   "execution_count": 521,
   "metadata": {},
   "outputs": [
    {
     "name": "stdout",
     "output_type": "stream",
     "text": [
      "Now fitting first half...\n",
      "Accuracy on first half: 0.86 (+/- 0.09)\n",
      "Now fitting second half...\n",
      "Accuracy on second half: 0.88 (+/- 0.07)\n"
     ]
    }
   ],
   "source": [
    "## split up by first vs. second half of training phase\n",
    "first_half = np.arange(first_trial,last_trial-num_trials/2+1)\n",
    "second_half = np.arange(last_trial-num_trials/2+1,last_trial+1)\n",
    "\n",
    "inds1 = _X['trial']<str(max(first_half))\n",
    "inds2 = _X['trial']>=str(max(first_half))\n",
    "\n",
    "X1 = _X[inds1]\n",
    "X2 = _X[inds2]\n",
    "assert len(X1)==len(X2)\n",
    "\n",
    "FEAT1 = _Features[inds1]\n",
    "FEAT2 = _Features[inds2]\n",
    "\n",
    "LABELS1 = _Labels[inds1]\n",
    "LABELS2 = _Labels[inds2]\n",
    "\n",
    "clf = linear_model.LogisticRegression(penalty='l2')\n",
    "print(\"Now fitting first half...\")\n",
    "scores = cross_val_score(clf, FEAT1, LABELS1, cv=12)\n",
    "print(\"Accuracy on first half: %0.2f (+/- %0.2f)\" % (scores.mean(), scores.std() * 2))\n",
    "\n",
    "print(\"Now fitting second half...\")\n",
    "scores = cross_val_score(clf, FEAT2, LABELS2, cv=12)\n",
    "print(\"Accuracy on second half: %0.2f (+/- %0.2f)\" % (scores.mean(), scores.std() * 2))"
   ]
  },
  {
   "cell_type": "code",
   "execution_count": null,
   "metadata": {
    "collapsed": true
   },
   "outputs": [],
   "source": []
  },
  {
   "cell_type": "code",
   "execution_count": 524,
   "metadata": {
    "collapsed": true
   },
   "outputs": [],
   "source": [
    "_X = assign_axis_to_metadata(_X)\n",
    "inds_bed_bench = _X.axis=='bed_bench'\n",
    "inds_bed_chair = _X.axis=='bed_chair'\n",
    "inds_bed_table = _X.axis=='bed_table'\n",
    "inds_bench_chair = _X.axis=='bench_chair'\n",
    "inds_bench_table = _X.axis=='bench_table'\n",
    "inds_chair_table = _X.axis=='chair_table'"
   ]
  },
  {
   "cell_type": "code",
   "execution_count": 527,
   "metadata": {
    "collapsed": true
   },
   "outputs": [],
   "source": [
    "def subset_feats(X,Features,axis,epoch):\n",
    "    '''\n",
    "    X = metadata dataframe\n",
    "    Features = feature matrix\n",
    "    axis = which object pair is trained, e.g. 'bed_bench'\n",
    "    epoch = 'early' if first half, 'late' if second half, or 'all'\n",
    "    \n",
    "    '''\n",
    "    if epoch=='early':\n",
    "        inds = (X.axis==axis) & (pd.to_numeric(X['trial'])<max(first_half))\n",
    "    elif epoch=='late':\n",
    "        inds = (X.axis==axis) & (pd.to_numeric(X['trial'])>=max(first_half))\n",
    "    elif epoch=='initial':\n",
    "        inds = (X.axis==axis) & (pd.to_numeric(X['trial'])<=329) \n",
    "    elif epoch=='final':\n",
    "        inds = (X.axis==axis) & (pd.to_numeric(X['trial'])>349) \n",
    "    elif epoch=='all':\n",
    "        inds = (X.axis==axis)\n",
    "    _X = X[inds]\n",
    "    labels = list(_X.label.values)\n",
    "    _Features = Features[inds]\n",
    "    return _X, labels, _Features\n",
    "    \n",
    "def subset_feats_by_subject(_X,Features,epoch,subj):\n",
    "    '''\n",
    "    X = metadata dataframe\n",
    "    Features = feature matrix\n",
    "    epoch = 'early' if first half, 'late' if second half, or 'all'\n",
    "    subj = subject ID\n",
    "    \n",
    "    '''\n",
    "    axis = np.unique(_X[_X.subj==sub].axis.values)[0]    \n",
    "    if epoch=='early':\n",
    "        inds = (_X.axis==axis) & (pd.to_numeric(_X['trial'])<=max(first_half)) & (_X.subj==subj) \n",
    "    elif epoch=='late':\n",
    "        inds = (_X.axis==axis) & (pd.to_numeric(_X['trial'])>max(first_half)) & (_X.subj==subj)\n",
    "    elif epoch=='initial':\n",
    "        inds = (_X.axis==axis) & (pd.to_numeric(_X['trial'])<=329) & (_X.subj==subj) \n",
    "    elif epoch=='final':\n",
    "        inds = (_X.axis==axis) & (pd.to_numeric(_X['trial'])>349) & (_X.subj==subj) \n",
    "    elif epoch=='all':\n",
    "        inds = (_X.axis==axis) & (_X.subj==subj)\n",
    "    X = _X[inds]\n",
    "    labels = list(X.label.values)\n",
    "    _Features = Features[inds]\n",
    "    return X, labels, _Features, axis\n",
    "        \n",
    "def get_axis_from_sub(P, sub):\n",
    "    return np.unique(P[P.subj==sub].axis.values)[0]\n",
    "\n",
    "def get_objs_from_axis(axis):\n",
    "    return axis.split('_')[0], axis.split('_')[1]    "
   ]
  },
  {
   "cell_type": "code",
   "execution_count": null,
   "metadata": {
    "collapsed": true
   },
   "outputs": [],
   "source": []
  },
  {
   "cell_type": "code",
   "execution_count": 526,
   "metadata": {
    "collapsed": true
   },
   "outputs": [],
   "source": [
    "def compute_dprime(true_labels,test_data, clf, labels=['bed','bench','chair','table']):\n",
    "\n",
    "    confusion_mat = sklearn.metrics.confusion_matrix(true_labels,clf.predict(test_data),labels)\n",
    "\n",
    "    objs = labels\n",
    "    o1 = which_axis.split('_')[0]\n",
    "    o2 = which_axis.split('_')[1]\n",
    "\n",
    "    i1 = objs.index(o1)\n",
    "    i2 = objs.index(o2)\n",
    "\n",
    "    acc1 = confusion_mat[i1][i1]/confusion_mat[i1].sum()\n",
    "    acc2 = confusion_mat[i2][i2]/confusion_mat[i2].sum()\n",
    "    fa1 = confusion_mat[i2][i1]/confusion_mat[i2].sum() ## false alarm to o1 when actually o2\n",
    "    fa2 = confusion_mat[i1][i2]/confusion_mat[i1].sum() ## false alarm to o2 when actually o1\n",
    "    \n",
    "    acc = np.mean([acc1, acc2])\n",
    "    fa = np.mean([fa1, fa2])\n",
    "\n",
    "    Z = norm.ppf\n",
    "    dprime = Z(acc) - Z(fa)\n",
    "    return dprime\n",
    "    "
   ]
  },
  {
   "cell_type": "code",
   "execution_count": 814,
   "metadata": {},
   "outputs": [
    {
     "name": "stdout",
     "output_type": "stream",
     "text": [
      "Accuracy bed_bench early: 0.75\n",
      "D-prime bed_bench early: 1.42990477656\n",
      "Accuracy bed_bench late: 0.7\n",
      "D-prime bed_bench late: 1.36602174628\n",
      " \n",
      "Accuracy bed_chair early: 0.833333333333\n",
      "D-prime bed_chair early: inf\n",
      "Accuracy bed_chair late: 0.683333333333\n",
      "D-prime bed_chair late: 1.97812637453\n",
      " \n",
      "Accuracy bed_table early: 0.733333333333\n",
      "D-prime bed_table early: 2.12401166925\n",
      "Accuracy bed_table late: 0.8\n",
      "D-prime bed_table late: 2.34270717962\n",
      " \n",
      "Accuracy bench_chair early: 0.728571428571\n",
      "D-prime bench_chair early: 2.07373192719\n",
      "Accuracy bench_chair late: 0.757142857143\n",
      "D-prime bench_chair late: 2.16237522753\n",
      " \n",
      "Accuracy bench_table early: 0.733333333333\n",
      "D-prime bench_table early: 1.81474189489\n",
      "Accuracy bench_table late: 0.733333333333\n",
      "D-prime bench_table late: 2.00591985031\n",
      " \n",
      "Accuracy chair_table early: 0.716666666667\n",
      "D-prime chair_table early: 2.21782117545\n",
      "Accuracy chair_table late: 0.883333333333\n",
      "D-prime chair_table late: 3.0257308075\n",
      " \n"
     ]
    }
   ],
   "source": [
    "Early_Acc = []\n",
    "Early_Dprime = []\n",
    "Late_Acc = []\n",
    "Late_Dprime = []\n",
    "\n",
    "for a in list(unique_axes):\n",
    "\n",
    "    which_axis = a\n",
    "    # train only on baseline sketches (independent data)\n",
    "    clf = linear_model.LogisticRegression(penalty='l2',C=1,random_state=1).fit(BaselineFeatures, BaselineLabels)\n",
    "\n",
    "    X1,L1,F1 = subset_feats(_X,_Features,which_axis,'initial')\n",
    "    score = clf.score(F1, L1)\n",
    "    Early_Acc.append(score)\n",
    "    d = compute_dprime(L1,F1, clf)\n",
    "    Early_Dprime.append(d)\n",
    "    print(\"Accuracy {} early: {}\".format(which_axis, score))\n",
    "    print(\"D-prime {} early: {}\".format(which_axis, d))\n",
    "          \n",
    "    X2,L2,F2 = subset_feats(_X,_Features,which_axis,'final')\n",
    "    score = clf.score(F2, L2)\n",
    "    d = compute_dprime(L2,F2, clf)\n",
    "    print(\"Accuracy {} late: {}\".format(which_axis, score))         \n",
    "    print(\"D-prime {} late: {}\".format(which_axis, d))                       \n",
    "    Late_Acc.append(score)\n",
    "    Late_Dprime.append(d)\n",
    "\n",
    "    print ' '"
   ]
  },
  {
   "cell_type": "code",
   "execution_count": null,
   "metadata": {
    "collapsed": true
   },
   "outputs": [],
   "source": []
  },
  {
   "cell_type": "code",
   "execution_count": null,
   "metadata": {
    "collapsed": true
   },
   "outputs": [],
   "source": []
  },
  {
   "cell_type": "markdown",
   "metadata": {
    "collapsed": true
   },
   "source": [
    "#### Now break out by subject"
   ]
  },
  {
   "cell_type": "code",
   "execution_count": 786,
   "metadata": {
    "collapsed": true
   },
   "outputs": [],
   "source": [
    "subs = np.unique(_X.subj)"
   ]
  },
  {
   "cell_type": "code",
   "execution_count": 816,
   "metadata": {
    "scrolled": true
   },
   "outputs": [
    {
     "name": "stdout",
     "output_type": "stream",
     "text": [
      "For subject 0110171_neurosketch\n",
      "Accuracy chair_table initiail: 0.9\n",
      "Accuracy chair_table final: 0.7\n",
      " \n",
      "For subject 0110172_neurosketch\n",
      "Accuracy chair_table initiail: 0.8\n",
      "Accuracy chair_table final: 0.6\n",
      " \n",
      "For subject 0111171_neurosketch\n",
      "Accuracy chair_table initiail: 0.9\n",
      "Accuracy chair_table final: 0.8\n",
      " \n",
      "For subject 0112171_neurosketch\n",
      "Accuracy chair_table initiail: 0.9\n",
      "Accuracy chair_table final: 0.8\n",
      " \n",
      "For subject 0112172_neurosketch\n",
      "Accuracy chair_table initiail: 0.8\n",
      "Accuracy chair_table final: 0.8\n",
      " \n",
      "For subject 0112173_neurosketch\n",
      "Accuracy chair_table initiail: 0.7\n",
      "Accuracy chair_table final: 0.9\n",
      " \n",
      "For subject 0113171_neurosketch\n",
      "Accuracy chair_table initiail: 1.0\n",
      "Accuracy chair_table final: 0.8\n",
      " \n",
      "For subject 0115172_neurosketch\n",
      "Accuracy chair_table initiail: 0.6\n",
      "Accuracy chair_table final: 0.5\n",
      " \n",
      "For subject 0115174_neurosketch\n",
      "Accuracy chair_table initiail: 0.8\n",
      "Accuracy chair_table final: 0.7\n",
      " \n",
      "For subject 0117171_neurosketch\n",
      "Accuracy chair_table initiail: 0.8\n",
      "Accuracy chair_table final: 0.7\n",
      " \n",
      "For subject 0118171_neurosketch\n",
      "Accuracy chair_table initiail: 0.9\n",
      "Accuracy chair_table final: 0.8\n",
      " \n",
      "For subject 0118172_neurosketch\n",
      "Accuracy chair_table initiail: 0.7\n",
      "Accuracy chair_table final: 1.0\n",
      " \n",
      "For subject 0119171_neurosketch\n",
      "Accuracy chair_table initiail: 0.6\n",
      "Accuracy chair_table final: 0.9\n",
      " \n",
      "For subject 0119172_neurosketch\n",
      "Accuracy chair_table initiail: 0.6\n",
      "Accuracy chair_table final: 0.6\n",
      " \n",
      "For subject 0119173_neurosketch\n",
      "Accuracy chair_table initiail: 0.9\n",
      "Accuracy chair_table final: 0.8\n",
      " \n",
      "For subject 0119174_neurosketch\n",
      "Accuracy chair_table initiail: 0.4\n",
      "Accuracy chair_table final: 0.7\n",
      " \n",
      "For subject 0120171_neurosketch\n",
      "Accuracy chair_table initiail: 0.8\n",
      "Accuracy chair_table final: 0.7\n",
      " \n",
      "For subject 0120172_neurosketch\n",
      "Accuracy chair_table initiail: 0.7\n",
      "Accuracy chair_table final: 1.0\n",
      " \n",
      "For subject 0120173_neurosketch\n",
      "Accuracy chair_table initiail: 0.7\n",
      "Accuracy chair_table final: 0.6\n",
      " \n",
      "For subject 0123171_neurosketch\n",
      "Accuracy chair_table initiail: 0.9\n",
      "Accuracy chair_table final: 1.0\n",
      " \n",
      "For subject 0123172_neurosketch\n",
      "Accuracy chair_table initiail: 0.8\n",
      "Accuracy chair_table final: 0.7\n",
      " \n",
      "For subject 0123173_neurosketch\n",
      "Accuracy chair_table initiail: 1.0\n",
      "Accuracy chair_table final: 0.8\n",
      " \n",
      "For subject 0124171_neurosketch\n",
      "Accuracy chair_table initiail: 0.6\n",
      "Accuracy chair_table final: 0.7\n",
      " \n",
      "For subject 0125171_neurosketch\n",
      "Accuracy chair_table initiail: 0.7\n",
      "Accuracy chair_table final: 0.8\n",
      " \n",
      "For subject 0125172_neurosketch\n",
      "Accuracy chair_table initiail: 0.7\n",
      "Accuracy chair_table final: 0.7\n",
      " \n",
      "For subject 1121161_neurosketch\n",
      "Accuracy chair_table initiail: 0.5\n",
      "Accuracy chair_table final: 0.7\n",
      " \n",
      "For subject 1130161_neurosketch\n",
      "Accuracy chair_table initiail: 0.7\n",
      "Accuracy chair_table final: 0.9\n",
      " \n",
      "For subject 1201161_neurosketch\n",
      "Accuracy chair_table initiail: 0.5\n",
      "Accuracy chair_table final: 0.6\n",
      " \n",
      "For subject 1202161_neurosketch\n",
      "Accuracy chair_table initiail: 0.9\n",
      "Accuracy chair_table final: 0.8\n",
      " \n",
      "For subject 1203161_neurosketch\n",
      "Accuracy chair_table initiail: 0.7\n",
      "Accuracy chair_table final: 0.9\n",
      " \n",
      "For subject 1206161_neurosketch\n",
      "Accuracy chair_table initiail: 0.8\n",
      "Accuracy chair_table final: 0.6\n",
      " \n",
      "For subject 1206162_neurosketch\n",
      "Accuracy chair_table initiail: 1.0\n",
      "Accuracy chair_table final: 0.6\n",
      " \n",
      "For subject 1206163_neurosketch\n",
      "Accuracy chair_table initiail: 0.6\n",
      "Accuracy chair_table final: 1.0\n",
      " \n",
      "For subject 1207161_neurosketch\n",
      "Accuracy chair_table initiail: 0.8\n",
      "Accuracy chair_table final: 0.7\n",
      " \n",
      "For subject 1207162_neurosketch\n",
      "Accuracy chair_table initiail: 0.5\n",
      "Accuracy chair_table final: 0.8\n",
      " \n"
     ]
    }
   ],
   "source": [
    "Early_Acc = []\n",
    "Late_Acc = []\n",
    "TrainedAxis = []\n",
    "\n",
    "for sub in subs:\n",
    "\n",
    "    # train only on baseline sketches (independent data)\n",
    "    axis = get_axis_from_sub(_P,sub)\n",
    "    objs = get_objs_from_axis(axis)\n",
    "    _inds = [i for i,j in enumerate(BaselineLabels) if j in objs]\n",
    "    _BaselineLabels = BaselineLabels[_inds]\n",
    "    _BaselineFeatures = BaselineFeatures[_inds]                        \n",
    "    clf = linear_model.LogisticRegression(penalty='l2',C=1,random_state=1).fit(_BaselineFeatures, _BaselineLabels)\n",
    "\n",
    "    print 'For subject {}'.format(sub)\n",
    "    X1,L1,F1,A1 = subset_feats_by_subject(_X,_Features,'initial',sub)\n",
    "    score = clf.score(F1, L1)\n",
    "    Early_Acc.append(score)\n",
    "    TrainedAxis.append(A1)\n",
    "    print(\"Accuracy {} initial: {}\".format(which_axis, score))\n",
    "\n",
    "    X2,L2,F2,A2 = subset_feats_by_subject(_X,_Features,'final',sub)\n",
    "    score = clf.score(F2, L2)\n",
    "    # d = compute_dprime(L2,F2)\n",
    "    print(\"Accuracy {} final: {}\".format(which_axis, score))         \n",
    "    Late_Acc.append(score)\n",
    "\n",
    "    print ' '"
   ]
  },
  {
   "cell_type": "code",
   "execution_count": 820,
   "metadata": {
    "collapsed": true
   },
   "outputs": [],
   "source": [
    "W = pd.DataFrame([subs,Early_Acc,Late_Acc,TrainedAxis])\n",
    "W = W.transpose()\n",
    "W.columns = ['subj','early_score','late_score','axis']\n",
    "W.to_csv('sketch_recognizability_timecourse_initial10_vs_final10.csv')"
   ]
  },
  {
   "cell_type": "code",
   "execution_count": null,
   "metadata": {
    "collapsed": true
   },
   "outputs": [],
   "source": []
  },
  {
   "cell_type": "code",
   "execution_count": null,
   "metadata": {
    "collapsed": true
   },
   "outputs": [],
   "source": []
  },
  {
   "cell_type": "code",
   "execution_count": 818,
   "metadata": {},
   "outputs": [
    {
     "data": {
      "text/plain": [
       "<matplotlib.text.Text at 0x7f2b9ea666d0>"
      ]
     },
     "execution_count": 818,
     "metadata": {},
     "output_type": "execute_result"
    },
    {
     "data": {
      "image/png": "[encoded data removed]",
      "text/plain": [
       "<matplotlib.figure.Figure at 0x7f2b9eae6890>"
      ]
     },
     "metadata": {},
     "output_type": "display_data"
    }
   ],
   "source": [
    "fig = plt.figure(figsize=(5,5))\n",
    "plt.scatter(Early_Acc,Late_Acc)\n",
    "plt.xlim([0.4,1.1])\n",
    "plt.ylim([0.4,1.1])\n",
    "plt.plot([0,1.1],[0,1.1],'k:')\n",
    "plt.xlabel('early sketch recognizability')\n",
    "plt.ylabel('late sketch recognizability')"
   ]
  },
  {
   "cell_type": "code",
   "execution_count": 494,
   "metadata": {
    "collapsed": true
   },
   "outputs": [],
   "source": [
    "df = pd.DataFrame([list(subs),Early_Acc,Late_Acc,TrainedAxis])\n",
    "df = df.transpose()\n",
    "df.columns = ['subj','early_draw_score','late_draw_score','trained_axis']\n",
    "df.to_csv('sketches/drawing_recognizability_early_vs_late.csv')"
   ]
  },
  {
   "cell_type": "code",
   "execution_count": null,
   "metadata": {
    "collapsed": true
   },
   "outputs": [],
   "source": []
  },
  {
   "cell_type": "markdown",
   "metadata": {},
   "source": [
    "### Extract partial sketch features and analyze time course of recognizability within sketch"
   ]
  },
  {
   "cell_type": "code",
   "execution_count": 229,
   "metadata": {
    "collapsed": true
   },
   "outputs": [],
   "source": [
    "from embedding import *\n",
    "partial_sketch_dir = '../partial_sketches'\n",
    "partial_paths = list_files(partial_sketch_dir)\n",
    "\n",
    "def save_partial_features(Features, Labels, Chunks, Subjs, Trials, X, layer_num):\n",
    "    layers = ['P1','P2','P3','P4','P5','FC6','FC7']\n",
    "    np.save('FEATURES_PARTIAL_{}.npy'.format(layers[layer_num]), Features)\n",
    "    np.save('LABELS_PARTIAL.npy', Labels)      \n",
    "    return layer_num\n",
    "\n",
    "def preprocess_features(Features, Labels, X):\n",
    "    # normalize feature vectors & plot full image-level similarity matrix\n",
    "    _X = X.sort_values(['label','viewpoint','subj'])\n",
    "    inds = np.array(_X.index)\n",
    "    _Features = normalize(Features[inds])\n",
    "    _Labels = Labels[inds]\n",
    "    return _Features, _Labels, _X"
   ]
  },
  {
   "cell_type": "code",
   "execution_count": null,
   "metadata": {
    "collapsed": true
   },
   "outputs": [],
   "source": [
    "extractor = PartialFeatureExtractor(partial_paths,6)\n",
    "Features, Labels, Chunks, Subjs, Trials = extractor.extract_feature_matrix()"
   ]
  },
  {
   "cell_type": "code",
   "execution_count": 227,
   "metadata": {},
   "outputs": [
    {
     "data": {
      "text/plain": [
       "<module 'embedding' from 'embedding.py'>"
      ]
     },
     "execution_count": 227,
     "metadata": {},
     "output_type": "execute_result"
    }
   ],
   "source": [
    "for layer_ind in np.arange(6,7):\n",
    "    layers = ['P1','P2','P3','P4','P5','FC6','FC7']    \n",
    "    print('Extracting Layer {}'.format(layers[layer_ind]))\n",
    "    extractor = PartialFeatureExtractor(partial_paths,layer_ind)\n",
    "    Features, Labels, Chunks, Subjs, Trials = extractor.extract_feature_matrix()  \n",
    "    \n",
    "    P = pd.DataFrame([Labels,Chunks,Subjs,Trials])\n",
    "    P = P.transpose()\n",
    "    P.columns = ['label','chunk','subj','trial']\n",
    "    P.to_csv('METADATA_PARTIAL.csv')      \n",
    "        \n",
    "    print('Preprocessing features...')\n",
    "    subset_size = 10000 ## if num feature dimensions exceeds this value, take random subset of features\n",
    "    if Features.shape[1]>10000:\n",
    "        subset_inds = np.random.RandomState(0).permutation(Features.shape[1])[:subset_size]\n",
    "        Features = Features[:,subset_inds]        \n",
    "    _Features, _Labels, _P = preprocess_features(Features, Labels, P)\n",
    "    _P = assign_axis_to_metadata(_P)\n",
    "    layer_num = save_partial_features(_Features, _Labels, _Chunks, _Subjs, _Trials,  _P, layer_ind)\n"
   ]
  },
  {
   "cell_type": "code",
   "execution_count": 48,
   "metadata": {
    "collapsed": true
   },
   "outputs": [],
   "source": []
  },
  {
   "cell_type": "code",
   "execution_count": 49,
   "metadata": {
    "collapsed": true
   },
   "outputs": [],
   "source": [
    "def get_chunk_from_path(path):\n",
    "    return int(path.split('/')[-1].split('.')[0]) \n",
    "def get_trial_from_path(path):\n",
    "    return int(path.split('/')[-2].split('_')[1]) \n",
    "def get_label_from_path(path):\n",
    "    return path.split('/')[-2].split('_')[0] \n",
    "def get_subj_from_path(path):\n",
    "    return path.split('/')[-3]"
   ]
  },
  {
   "cell_type": "code",
   "execution_count": 50,
   "metadata": {
    "collapsed": true
   },
   "outputs": [],
   "source": [
    "num_sketches = len(partial_paths)"
   ]
  },
  {
   "cell_type": "code",
   "execution_count": 563,
   "metadata": {},
   "outputs": [
    {
     "name": "stdout",
     "output_type": "stream",
     "text": [
      "Batch 1\n",
      "Batch 2\n",
      "Batch 3\n",
      "Batch 4\n",
      "Batch 5\n",
      "Batch 6\n",
      "Batch 7\n",
      "Batch 8\n",
      "Batch 9\n",
      "Batch 10\n",
      "Batch 11\n",
      "Batch 12\n",
      "Batch 13\n",
      "Batch 14\n",
      "Batch 15\n",
      "Batch 16\n",
      "Batch 17\n",
      "Batch 18\n",
      "Batch 19\n",
      "Batch 20\n",
      "Batch 21\n",
      "Batch 22\n",
      "Batch 23\n",
      "Batch 24\n",
      "Batch 25\n",
      "Batch 26\n",
      "Batch 27\n",
      "Batch 28\n",
      "Batch 29\n",
      "Batch 30\n",
      "Batch 31\n",
      "Batch 32\n",
      "Batch 33\n",
      "Batch 34\n",
      "Batch 35\n",
      "Batch 36\n",
      "Batch 37\n",
      "Batch 38\n",
      "Batch 39\n",
      "Batch 40\n",
      "Batch 41\n",
      "Batch 42\n",
      "Batch 43\n",
      "Batch 44\n",
      "Batch 45\n",
      "Batch 46\n",
      "Batch 47\n",
      "Batch 48\n",
      "Batch 49\n",
      "Batch 50\n",
      "Batch 51\n",
      "Batch 52\n",
      "Batch 53\n",
      "Batch 54\n",
      "Batch 55\n",
      "Batch 56\n",
      "Batch 57\n",
      "Batch 58\n",
      "Batch 59\n",
      "Batch 60\n",
      "Batch 61\n",
      "Batch 62\n",
      "Batch 63\n",
      "Batch 64\n",
      "Batch 65\n",
      "Batch 66\n",
      "Batch 67\n",
      "Batch 68\n",
      "Batch 69\n",
      "Batch 70\n",
      "Batch 71\n",
      "Batch 72\n",
      "Batch 73\n",
      "Batch 74\n",
      "Batch 75\n",
      "Batch 76\n",
      "Batch 77\n",
      "Batch 78\n",
      "Batch 79\n",
      "Batch 80\n",
      "Batch 81\n",
      "Batch 82\n",
      "Batch 83\n",
      "Batch 84\n",
      "Batch 85\n",
      "Batch 86\n",
      "Batch 87\n",
      "Batch 88\n",
      "Batch 89\n",
      "Batch 90\n",
      "Batch 91\n",
      "Batch 92\n",
      "Batch 93\n",
      "Batch 94\n",
      "Batch 95\n",
      "Batch 96\n",
      "Batch 97\n",
      "Batch 98\n",
      "Batch 99\n",
      "Batch 100\n",
      "Batch 101\n",
      "Batch 102\n",
      "Batch 103\n",
      "Batch 104\n",
      "Batch 105\n",
      "Batch 106\n",
      "Batch 107\n",
      "Batch 108\n",
      "Batch 109\n",
      "Batch 110\n",
      "Batch 111\n",
      "Batch 112\n",
      "Batch 113\n",
      "Batch 114\n",
      "Batch 115\n",
      "Batch 116\n",
      "Batch 117\n",
      "Batch 118\n",
      "Batch 119\n",
      "Batch 120\n",
      "Batch 121\n",
      "Batch 122\n",
      "Batch 123\n",
      "Batch 124\n",
      "Batch 125\n",
      "Batch 126\n",
      "Batch 127\n",
      "Batch 128\n",
      "Batch 129\n",
      "Batch 130\n",
      "Batch 131\n",
      "Batch 132\n",
      "Batch 133\n",
      "Batch 134\n",
      "Batch 135\n",
      "Batch 136\n",
      "Batch 137\n",
      "Batch 138\n",
      "Batch 139\n",
      "Batch 140\n",
      "Batch 141\n",
      "Batch 142\n",
      "Batch 143\n",
      "Batch 144\n",
      "Batch 145\n",
      "Batch 146\n",
      "Batch 147\n",
      "Batch 148\n",
      "Batch 149\n",
      "Batch 150\n",
      "Batch 151\n",
      "Batch 152\n",
      "Batch 153\n",
      "Batch 154\n",
      "Batch 155\n",
      "Batch 156\n",
      "Batch 157\n",
      "Batch 158\n",
      "Batch 159\n",
      "Batch 160\n",
      "Batch 161\n",
      "Batch 162\n",
      "Batch 163\n",
      "Batch 164\n",
      "Batch 165\n",
      "Batch 166\n",
      "Batch 167\n",
      "Batch 168\n",
      "Batch 169\n",
      "Batch 170\n",
      "Batch 171\n",
      "Batch 172\n",
      "Batch 173\n",
      "Batch 174\n",
      "Batch 175\n",
      "Batch 176\n",
      "Batch 177\n",
      "Batch 178\n",
      "Batch 179\n",
      "Batch 180\n",
      "Batch 181\n",
      "Batch 182\n",
      "Batch 183\n",
      "Batch 184\n",
      "Batch 185\n",
      "Batch 186\n",
      "Batch 187\n",
      "Batch 188\n",
      "Batch 189\n",
      "Batch 190\n",
      "Batch 191\n",
      "Batch 192\n",
      "Batch 193\n",
      "Batch 194\n",
      "Batch 195\n",
      "Batch 196\n",
      "Batch 197\n",
      "Batch 198\n",
      "Batch 199\n",
      "Batch 200\n",
      "Batch 201\n",
      "Batch 202\n",
      "Batch 203\n",
      "Batch 204\n",
      "Batch 205\n",
      "Batch 206\n",
      "Batch 207\n",
      "Batch 208\n",
      "Batch 209\n",
      "Batch 210\n",
      "Batch 211\n",
      "Batch 212\n",
      "Batch 213\n",
      "Batch 214\n",
      "Batch 215\n",
      "Batch 216\n",
      "Batch 217\n",
      "Batch 218\n",
      "Batch 219\n",
      "Batch 220\n",
      "Batch 221\n",
      "Batch 222\n",
      "Batch 223\n",
      "Batch 224\n",
      "Batch 225\n",
      "Batch 226\n",
      "Batch 227\n",
      "Batch 228\n",
      "Batch 229\n",
      "Batch 230\n",
      "Batch 231\n",
      "Batch 232\n",
      "Batch 233\n",
      "Batch 234\n",
      "Batch 235\n",
      "Batch 236\n",
      "Batch 237\n",
      "Batch 238\n",
      "Batch 239\n",
      "Batch 240\n",
      "Batch 241\n",
      "Batch 242\n",
      "Batch 243\n",
      "Batch 244\n",
      "Batch 245\n",
      "Batch 246\n",
      "Batch 247\n",
      "Batch 248\n",
      "Batch 249\n",
      "Batch 250\n",
      "Batch 251\n",
      "Batch 252\n",
      "Batch 253\n",
      "Batch 254\n",
      "Batch 255\n",
      "Batch 256\n",
      "Batch 257\n",
      "Batch 258\n",
      "Batch 259\n",
      "Batch 260\n",
      "Batch 261\n",
      "Batch 262\n",
      "Batch 263\n",
      "Batch 264\n",
      "Batch 265\n",
      "Batch 266\n",
      "Batch 267\n",
      "Batch 268\n",
      "Batch 269\n",
      "Batch 270\n",
      "Batch 271\n",
      "Batch 272\n",
      "Batch 273\n",
      "Batch 274\n",
      "Batch 275\n",
      "Batch 276\n",
      "Batch 277\n",
      "Batch 278\n",
      "Batch 279\n",
      "Batch 280\n",
      "Batch 281\n",
      "Batch 282\n",
      "Batch 283\n",
      "Batch 284\n",
      "Batch 285\n",
      "Batch 286\n",
      "Batch 287\n",
      "Batch 288\n",
      "Batch 289\n",
      "Batch 290\n",
      "Batch 291\n",
      "Batch 292\n",
      "Batch 293\n",
      "Batch 294\n",
      "Batch 295\n",
      "Batch 296\n",
      "Batch 297\n",
      "Batch 298\n",
      "Batch 299\n",
      "Batch 300\n",
      "Batch 301\n",
      "Batch 302\n",
      "Batch 303\n",
      "Batch 304\n",
      "Batch 305\n",
      "Batch 306\n",
      "Batch 307\n",
      "Batch 308\n",
      "Batch 309\n",
      "Batch 310\n",
      "Batch 311\n",
      "Batch 312\n",
      "Batch 313\n",
      "Batch 314\n",
      "Batch 315\n",
      "Batch 316\n",
      "Batch 317\n",
      "Batch 318\n",
      "Batch 319\n",
      "Batch 320\n",
      "Batch 321\n",
      "Batch 322\n",
      "Batch 323\n",
      "Batch 324\n",
      "Batch 325\n",
      "Batch 326\n",
      "Batch 327\n",
      "Batch 328\n",
      "Batch 329\n",
      "Batch 330\n",
      "Batch 331\n",
      "Batch 332\n",
      "Batch 333\n",
      "Batch 334\n",
      "Batch 335\n",
      "Batch 336\n",
      "Batch 337\n",
      "Batch 338\n",
      "Batch 339\n",
      "Batch 340\n",
      "Batch 341\n",
      "Batch 342\n",
      "Batch 343\n",
      "Batch 344\n",
      "Batch 345\n",
      "Batch 346\n",
      "Batch 347\n",
      "Batch 348\n",
      "Batch 349\n",
      "Batch 350\n",
      "Batch 351\n",
      "Batch 352\n",
      "Batch 353\n",
      "Batch 354\n",
      "Batch 355\n",
      "Batch 356\n",
      "Batch 357\n",
      "Batch 358\n",
      "Batch 359\n",
      "Batch 360\n",
      "Batch 361\n",
      "Batch 362\n",
      "Batch 363\n",
      "Batch 364\n",
      "Batch 365\n",
      "Batch 366\n",
      "Batch 367\n",
      "Batch 368\n",
      "Batch 369\n",
      "Batch 370\n",
      "Batch 371\n",
      "Batch 372\n",
      "Batch 373\n",
      "Batch 374\n",
      "Batch 375\n",
      "Batch 376\n",
      "Batch 377\n",
      "Batch 378\n",
      "Batch 379\n",
      "Batch 380\n",
      "Batch 381\n",
      "Batch 382\n",
      "Batch 383\n",
      "Batch 384\n",
      "Batch 385\n",
      "Batch 386\n",
      "Batch 387\n",
      "Batch 388\n",
      "Batch 389\n",
      "Batch 390\n",
      "Batch 391\n",
      "Batch 392\n",
      "Batch 393\n",
      "Batch 394\n",
      "Batch 395\n",
      "Batch 396\n",
      "Batch 397\n",
      "Batch 398\n",
      "Batch 399\n",
      "Batch 400\n",
      "Batch 401\n",
      "Batch 402\n",
      "Batch 403\n",
      "Batch 404\n",
      "Batch 405\n",
      "Batch 406\n",
      "Batch 407\n",
      "Batch 408\n",
      "Batch 409\n",
      "Batch 410\n",
      "Batch 411\n",
      "Batch 412\n",
      "Batch 413\n",
      "Batch 414\n",
      "Batch 415\n",
      "Batch 416\n",
      "Batch 417\n",
      "Batch 418\n",
      "Batch 419\n",
      "Batch 420\n",
      "Batch 421\n",
      "Batch 422\n",
      "Batch 423\n",
      "Batch 424\n",
      "Batch 425\n",
      "Batch 426\n",
      "Batch 427\n",
      "Batch 428\n",
      "Batch 429\n",
      "Batch 430\n",
      "Batch 431\n",
      "Batch 432\n",
      "Batch 433\n",
      "Batch 434\n",
      "Batch 435\n",
      "Batch 436\n",
      "Batch 437\n",
      "Batch 438\n",
      "Batch 439\n",
      "Batch 440\n",
      "Batch 441\n",
      "Batch 442\n",
      "Batch 443\n",
      "Batch 444\n",
      "Batch 445\n",
      "Batch 446\n",
      "Batch 447\n",
      "Batch 448\n",
      "Batch 449\n",
      "Batch 450\n",
      "Batch 451\n",
      "Batch 452\n",
      "Batch 453\n",
      "Batch 454\n",
      "Batch 455\n",
      "Batch 456\n",
      "Batch 457\n",
      "Batch 458\n",
      "Batch 459\n",
      "Batch 460\n",
      "Batch 461\n",
      "Batch 462\n",
      "Batch 463\n",
      "Batch 464\n",
      "Batch 465\n",
      "Batch 466\n",
      "Batch 467\n",
      "Batch 468\n",
      "Batch 469\n",
      "Batch 470\n",
      "Batch 471\n",
      "Batch 472\n",
      "Batch 473\n",
      "Batch 474\n",
      "Batch 475\n",
      "Batch 476\n",
      "Batch 477\n",
      "Batch 478\n",
      "Batch 479\n",
      "Batch 480\n",
      "Batch 481\n",
      "Batch 482\n",
      "Batch 483\n",
      "Batch 484\n",
      "Batch 485\n",
      "Batch 486\n",
      "Batch 487\n",
      "Batch 488\n",
      "Batch 489\n",
      "Batch 490\n",
      "Batch 491\n",
      "Batch 492\n",
      "Batch 493\n",
      "Batch 494\n",
      "Batch 495\n",
      "Batch 496\n",
      "Batch 497\n",
      "Batch 498\n",
      "Batch 499\n",
      "Batch 500\n",
      "Batch 501\n",
      "Batch 502\n",
      "Batch 503\n",
      "Batch 504\n",
      "stopped!\n"
     ]
    }
   ],
   "source": [
    "def load_image(path, imsize=224, volatile=True, use_cuda=False):\n",
    "    im = Image.open(path)\n",
    "    im = im.convert('RGB')\n",
    "\n",
    "    loader = transforms.Compose([\n",
    "        transforms.Scale(imsize),\n",
    "        transforms.ToTensor()])\n",
    "\n",
    "    im = Variable(loader(im), volatile=volatile)\n",
    "    im = im.unsqueeze(0)\n",
    "    if use_cuda:\n",
    "        im = im.cuda(cuda_device)\n",
    "    return im\n",
    "\n",
    "def sketch_generator(paths, imsize=224, use_cuda=use_cuda):\n",
    "    for path in paths:\n",
    "        sketch = load_image(path)\n",
    "        label = get_label_from_path(path)\n",
    "        chunk = get_chunk_from_path(path)\n",
    "        subj = get_subj_from_path(path)\n",
    "        trial = get_trial_from_path(path)\n",
    "        yield (sketch, label, chunk, subj, trial)\n",
    "        \n",
    "# define generator\n",
    "generator = sketch_generator(partial_paths,imsize=224,use_cuda=use_cuda)\n",
    "\n",
    "# initialize sketch and label matrices\n",
    "Features = []\n",
    "Labels = []\n",
    "Chunks = []\n",
    "Subjs = []\n",
    "Trials = []\n",
    "n = 0\n",
    "quit = False \n",
    "\n",
    "# generate batches of sketches and labels    \n",
    "if generator:\n",
    "    while True:    \n",
    "        batch_size = 64\n",
    "        sketch_batch = Variable(torch.zeros(batch_size, 3, 224, 224))\n",
    "        if use_cuda:\n",
    "            sketch_batch = sketch_batch.cuda(cuda_device)                \n",
    "        label_batch = []   \n",
    "        chunk_batch = []\n",
    "        subj_batch = []\n",
    "        trial_batch = []\n",
    "        print('Batch {}'.format(n + 1))            \n",
    "        for b in range(batch_size):\n",
    "            try:\n",
    "                sketch, label, chunk, subj, trial = generator.next()\n",
    "                sketch_batch[b] = sketch   \n",
    "                label_batch.append(label)\n",
    "                chunk_batch.append(chunk)\n",
    "                subj_batch.append(subj)\n",
    "                trial_batch.append(trial)                \n",
    "            except StopIteration:\n",
    "                quit = True\n",
    "                print 'stopped!'\n",
    "                break                \n",
    "            \n",
    "        if n == num_sketches//batch_size:\n",
    "            sketch_batch = sketch_batch.narrow(0,0,b)\n",
    "            label_batch = label_batch[:b + 1] \n",
    "            chunk_batch = chunk_batch[:b + 1] \n",
    "            subj_batch = subj_batch[:b + 1] \n",
    "            trial_batch = trial_batch[:b + 1] \n",
    "        n = n + 1       \n",
    "\n",
    "        # extract features from batch\n",
    "        sketch_batch = vgg19_features(sketch_batch) \n",
    "        sketch_batch = sketch_batch.view(sketch_batch.size(0), -1)\n",
    "        sketch_batch = vgg19_classifier(sketch_batch)\n",
    "        sketch_batch = sketch_batch.cpu().data.numpy()\n",
    "\n",
    "        if len(Features)==0:\n",
    "            Features = sketch_batch\n",
    "        else:\n",
    "            Features = np.vstack((Features,sketch_batch))\n",
    "        Labels.append(label_batch)\n",
    "        Chunks.append(chunk_batch)        \n",
    "        Subjs.append(subj_batch)\n",
    "        Trials.append(trial_batch)\n",
    "\n",
    "        if n == num_sketches//batch_size + 1:\n",
    "            break\n",
    "Labels = np.array([item for sublist in Labels for item in sublist])\n",
    "Chunks = np.array([item for sublist in Chunks for item in sublist])\n",
    "Subjs = np.array([item for sublist in Subjs for item in sublist])\n",
    "Trials = np.array([item for sublist in Trials for item in sublist])"
   ]
  },
  {
   "cell_type": "code",
   "execution_count": 567,
   "metadata": {
    "collapsed": true
   },
   "outputs": [],
   "source": [
    "assert len(np.unique(Chunks))==23"
   ]
  },
  {
   "cell_type": "code",
   "execution_count": 435,
   "metadata": {
    "collapsed": true
   },
   "outputs": [],
   "source": [
    "load_in = 1 ## do you want to load in pre-computed features?\n",
    "\n",
    "if load_in==0:\n",
    "    P = pd.DataFrame([Labels,Chunks,Subjs,Trials])\n",
    "    P = P.transpose()\n",
    "    P.columns = ['label','chunk','subj','trial']\n",
    "    P.to_csv('METADATA_PARTIAL.csv')\n",
    "\n",
    "    # normalize partial sketch Features\n",
    "    _Features = normalize(Features)\n",
    "    np.save('FEATURES_PARTIAL.npy',Features)\n",
    "    \n",
    "else:    \n",
    "    P = pd.read_csv('METADATA_PARTIAL.csv')\n",
    "    Features = np.load('FEATURES_PARTIAL.npy')\n",
    "    _Features = normalize(Features)    "
   ]
  },
  {
   "cell_type": "code",
   "execution_count": 436,
   "metadata": {
    "collapsed": true
   },
   "outputs": [],
   "source": [
    "def subset_feats_by_subject_and_chunk(P,Features,epoch,subj,chunk):\n",
    "    '''\n",
    "    P = metadata dataframe\n",
    "    Features = feature matrix\n",
    "    epoch = 'early' if first half of run, 'late' if second half of run, or 'all'\n",
    "    subj = subject ID\n",
    "    chunk = cumulative portion of sketch, ranges from 0-22\n",
    "    '''\n",
    "    axis = np.unique(P[P.subj==sub].axis.values)[0]\n",
    "    num_trials_per_run = 10\n",
    "    ntpr = num_trials_per_run\n",
    "    if epoch=='early':\n",
    "        inds = (P.axis==axis) & (P['trial'] % ntpr < 5) & (P.subj==subj) & (P.chunk==chunk) \n",
    "        assert sum(inds)==20        \n",
    "    elif epoch=='late':\n",
    "        inds = (P.axis==axis) & (P['trial'] % ntpr >= 5) & (P.subj==subj) & (P.chunk==chunk) \n",
    "        assert sum(inds)==20\n",
    "    elif epoch=='all':\n",
    "        inds = (P.axis==axis) & (P.subj==subj) & (P.chunk==chunk) \n",
    "    _P = P[inds]\n",
    "    labels = list(_P.label.values)\n",
    "    _Features = Features[inds]\n",
    "    return _P, labels, _Features, axis\n",
    "\n",
    "def get_axis_from_sub(P, sub):\n",
    "    return np.unique(P[P.subj==sub].axis.values)[0]\n",
    "\n",
    "def get_objs_from_axis(axis):\n",
    "    return axis.split('_')[0], axis.split('_')[1]"
   ]
  },
  {
   "cell_type": "code",
   "execution_count": null,
   "metadata": {
    "collapsed": true
   },
   "outputs": [],
   "source": []
  },
  {
   "cell_type": "code",
   "execution_count": 439,
   "metadata": {
    "collapsed": true
   },
   "outputs": [],
   "source": [
    "## look up competitor for each trial\n",
    "competitor = []\n",
    "for index, row in P.iterrows():\n",
    "    this_label = row['label']\n",
    "    this_subj = row['subj']\n",
    "    this_trial = row['trial']\n",
    "    competitor.append(Y[(Y['trial']==this_trial) & (Y['target']==this_label) & (Y['wID']==this_subj)]['competitor'].values[0])\n",
    "## assign competitor to P\n",
    "P = P.assign(competitor=pd.Series(competitor).values)\n",
    "\n",
    "## assign axis to P\n",
    "_P = assign_axis_to_metadata(P)"
   ]
  },
  {
   "cell_type": "code",
   "execution_count": null,
   "metadata": {
    "collapsed": true
   },
   "outputs": [],
   "source": []
  },
  {
   "cell_type": "code",
   "execution_count": 440,
   "metadata": {
    "scrolled": true
   },
   "outputs": [
    {
     "name": "stdout",
     "output_type": "stream",
     "text": [
      "Scoring chunk 0\n",
      "Scoring chunk 1\n",
      "Scoring chunk 2\n",
      "Scoring chunk 3\n",
      "Scoring chunk 4\n",
      "Scoring chunk 5\n",
      "Scoring chunk 6\n",
      "Scoring chunk 7\n",
      "Scoring chunk 8\n",
      "Scoring chunk 9\n",
      "Scoring chunk 10\n",
      "Scoring chunk 11\n",
      "Scoring chunk 12\n",
      "Scoring chunk 13\n",
      "Scoring chunk 14\n",
      "Scoring chunk 15\n",
      "Scoring chunk 16\n",
      "Scoring chunk 17\n",
      "Scoring chunk 18\n",
      "Scoring chunk 19\n",
      "Scoring chunk 20\n",
      "Scoring chunk 21\n",
      "Scoring chunk 22\n"
     ]
    }
   ],
   "source": [
    "Early_Acc = []\n",
    "Late_Acc = []\n",
    "All_Acc = []\n",
    "TrainedAxis = []\n",
    "chunk_ind = []\n",
    "\n",
    "subs = np.unique(P.subj.values)\n",
    "\n",
    "for _chunk in np.arange(23): \n",
    "    print 'Scoring chunk {}'.format(str(_chunk))    \n",
    "    for sub in subs:\n",
    "\n",
    "            # train only on baseline sketches (independent data)\n",
    "            axis = get_axis_from_sub(_P,sub)\n",
    "            objs = get_objs_from_axis(axis)\n",
    "            _inds = [i for i,j in enumerate(BaselineLabels) if j in objs]\n",
    "            _BaselineLabels = BaselineLabels[_inds]\n",
    "            _BaselineFeatures = BaselineFeatures[_inds]                        \n",
    "            clf = linear_model.LogisticRegression(penalty='l2',C=1,random_state=1).fit(_BaselineFeatures, _BaselineLabels)\n",
    "\n",
    "            X1,L1,F1,A1 = subset_feats_by_subject_and_chunk(_P,_Features,'early',sub,_chunk)\n",
    "            score = clf.score(F1, L1)\n",
    "            Early_Acc.append(score)\n",
    "            TrainedAxis.append(A1)\n",
    "\n",
    "            X2,L2,F2,A2 = subset_feats_by_subject_and_chunk(_P,_Features,'late',sub,_chunk)\n",
    "            score = clf.score(F2, L2)                      \n",
    "            Late_Acc.append(score)\n",
    "            chunk_ind.append(_chunk)\n",
    "            \n",
    "            XA,LA,FA,AA = subset_feats_by_subject_and_chunk(_P,_Features,'all',sub,_chunk)\n",
    "            score = clf.score(FA, LA) \n",
    "            All_Acc.append(score)"
   ]
  },
  {
   "cell_type": "code",
   "execution_count": 496,
   "metadata": {
    "collapsed": true
   },
   "outputs": [],
   "source": [
    "assert len(Early_Acc)==23*len(subs)\n",
    "sub_vec = np.tile(subs,23)"
   ]
  },
  {
   "cell_type": "code",
   "execution_count": 497,
   "metadata": {
    "collapsed": true
   },
   "outputs": [],
   "source": [
    "Q = pd.DataFrame([sub_vec,chunk_ind,Early_Acc,Late_Acc,All_Acc,TrainedAxis])\n",
    "Q = Q.transpose()\n",
    "Q.columns = ['subj','chunk','early','late','all','axis']\n",
    "Q.to_csv('sketch_recognizability_timecourse_within_sketch_within_run_all_5vs5.csv')"
   ]
  },
  {
   "cell_type": "code",
   "execution_count": 433,
   "metadata": {},
   "outputs": [
    {
     "data": {
      "text/plain": [
       "<matplotlib.legend.Legend at 0x7fde390f3ed0>"
      ]
     },
     "execution_count": 433,
     "metadata": {},
     "output_type": "execute_result"
    },
    {
     "data": {
      "image/png": "[encoded data removed]",
      "text/plain": [
       "<matplotlib.figure.Figure at 0x7fde38bb24d0>"
      ]
     },
     "metadata": {},
     "output_type": "display_data"
    }
   ],
   "source": [
    "Q = pd.read_csv('sketch_recognizability_timecourse_within_sketch_within_run_all_5vs5.csv')\n",
    "EQ = Q.groupby(['chunk'])['early']\n",
    "LQ = Q.groupby(['chunk'])['late']\n",
    "sns.set_context('talk')\n",
    "sns.set_style('dark')\n",
    "fig = plt.figure(figsize=(6,6))\n",
    "plt.plot(EQ.apply(lambda x: np.mean(x)),color=(0.7,0.5,0.5),label='early')\n",
    "plt.plot(LQ.apply(lambda x: np.mean(x)),color=(0.5,0.2,0.2),label='late')\n",
    "plt.xlabel('cumulative drawing steps')\n",
    "plt.ylabel('classifier accuracy')\n",
    "plt.legend()"
   ]
  },
  {
   "cell_type": "code",
   "execution_count": 302,
   "metadata": {},
   "outputs": [
    {
     "data": {
      "text/plain": [
       "array([ 0,  1,  2,  3,  4,  5,  6,  7,  8,  9, 10, 11, 12, 13, 14, 15, 16,\n",
       "       17, 18, 19, 20, 21, 22])"
      ]
     },
     "execution_count": 302,
     "metadata": {},
     "output_type": "execute_result"
    }
   ],
   "source": []
  },
  {
   "cell_type": "code",
   "execution_count": 611,
   "metadata": {},
   "outputs": [
    {
     "data": {
      "image/png": "[encoded data removed]",
      "text/plain": [
       "<matplotlib.figure.Figure at 0x7fde391e8c90>"
      ]
     },
     "metadata": {},
     "output_type": "display_data"
    }
   ],
   "source": [
    "sns.set_style('dark')\n",
    "Q = pd.read_csv('sketch_recognizability_timecourse_within_sketch_within_run_5vs5.csv')\n",
    "num_subs = len(np.unique(Q.subj.values))\n",
    "step_range = np.unique(Q.chunk.values)\n",
    "EQ = Q.groupby(['chunk'])['early']\n",
    "LQ = Q.groupby(['chunk'])['late']\n",
    "sns.set_context('talk')\n",
    "fig = plt.figure(figsize=(6,6))\n",
    "plt.errorbar(step_range,\n",
    "             EQ.apply(lambda x: np.mean(x)),\n",
    "             color=(0.7,0.5,0.5),\n",
    "             yerr=EQ.apply(lambda x: np.std(x)/np.sqrt(num_subs)),\n",
    "             label='early')\n",
    "plt.errorbar(step_range,\n",
    "             LQ.apply(lambda x: np.mean(x)),\n",
    "             color=(0.5,0.2,0.2),\n",
    "             yerr=EQ.apply(lambda x: np.std(x)/np.sqrt(num_subs)),             \n",
    "             label='late')\n",
    "plt.xlabel('cumulative drawing steps')\n",
    "plt.ylabel('classifier accuracy')\n",
    "plt.legend()\n",
    "plt.tight_layout()\n",
    "if not os.path.exists('./plots'):\n",
    "    os.makedirs('./plots')\n",
    "plt.savefig('./plots/within_sketch_recognizability_dynamics_byhalfrun.pdf')"
   ]
  },
  {
   "cell_type": "code",
   "execution_count": 597,
   "metadata": {},
   "outputs": [
    {
     "data": {
      "image/png": "[encoded data removed]",
      "text/plain": [
       "<matplotlib.figure.Figure at 0x7fde38f13a10>"
      ]
     },
     "metadata": {},
     "output_type": "display_data"
    }
   ],
   "source": [
    "sns.set_style('dark')\n",
    "Q = pd.read_csv('sketch_recognizability_timecourse_within_sketch_within_run_all_5vs5.csv')\n",
    "num_subs = len(np.unique(Q.subj.values))\n",
    "step_range = np.unique(Q.chunk.values)\n",
    "AQ = Q.groupby(['chunk'])['all']\n",
    "sns.set_context('talk')\n",
    "fig = plt.figure(figsize=(6,6))\n",
    "plt.errorbar(step_range,\n",
    "             AQ.apply(lambda x: np.mean(x)),\n",
    "             color=(0.7,0.5,0.5),\n",
    "             yerr=EQ.apply(lambda x: np.std(x)/np.sqrt(num_subs)))\n",
    "plt.xlabel('cumulative drawing steps')\n",
    "plt.ylabel('classification accuracy')\n",
    "# plt.legend()\n",
    "plt.tight_layout()\n",
    "if not os.path.exists('./plots'):\n",
    "    os.makedirs('./plots')\n",
    "plt.savefig('./plots/within_sketch_recognizability_dynamics_collapsed.pdf')"
   ]
  },
  {
   "cell_type": "code",
   "execution_count": 519,
   "metadata": {
    "collapsed": true
   },
   "outputs": [],
   "source": [
    "sns.set_style('dark')\n",
    "Q = pd.read_csv('sketch_recognizability_timecourse_within_sketch_within_run_all_5vs5.csv')\n",
    "num_subs = len(np.unique(Q.subj.values))\n",
    "step_range = np.unique(Q.chunk.values)\n",
    "AQ = Q.groupby(['chunk'])['all']\n",
    "sns.set_context('talk')\n",
    "\n",
    "for counter in step_range:\n",
    "    fig = plt.figure(figsize=(6,6))\n",
    "    plt.errorbar(step_range[:counter],\n",
    "                 AQ.apply(lambda x: np.mean(x))[:counter],\n",
    "                 color=(0.9,0.5,0.5),\n",
    "                 yerr=AQ.apply(lambda x: np.std(x)/np.sqrt(num_subs))[:counter]\n",
    "                )\n",
    "    plt.xlabel('cumulative drawing steps')\n",
    "    plt.ylabel('classification accuracy')\n",
    "    plt.xlim([0,max(step_range)])\n",
    "    plt.ylim([0.5,0.9])    \n",
    "    if not os.path.exists('./plots/within_sketch_partial/png'):\n",
    "        os.makedirs('./plots/within_sketch_partial/png')\n",
    "    plt.savefig('./plots/within_sketch_partial/png/within_sketch_recognizability_dynamics_collapsed_{}.png'.format(str(counter)))\n",
    "    plt.close(fig)"
   ]
  },
  {
   "cell_type": "code",
   "execution_count": 503,
   "metadata": {},
   "outputs": [
    {
     "data": {
      "text/plain": [
       "array([ 0,  1,  2,  3,  4,  5,  6,  7,  8,  9, 10, 11, 12, 13, 14, 15, 16,\n",
       "       17, 18, 19, 20, 21, 22])"
      ]
     },
     "execution_count": 503,
     "metadata": {},
     "output_type": "execute_result"
    }
   ],
   "source": []
  },
  {
   "cell_type": "code",
   "execution_count": null,
   "metadata": {
    "collapsed": true
   },
   "outputs": [],
   "source": []
  },
  {
   "cell_type": "code",
   "execution_count": null,
   "metadata": {
    "collapsed": true
   },
   "outputs": [],
   "source": []
  }
 ],
 "metadata": {
  "kernelspec": {
   "display_name": "Python 2",
   "language": "python",
   "name": "python2"
  },
  "language_info": {
   "codemirror_mode": {
    "name": "ipython",
    "version": 2
   },
   "file_extension": ".py",
   "mimetype": "text/x-python",
   "name": "python",
   "nbconvert_exporter": "python",
   "pygments_lexer": "ipython2",
   "version": "2.7.12"
  }
 },
 "nbformat": 4,
 "nbformat_minor": 2
}
