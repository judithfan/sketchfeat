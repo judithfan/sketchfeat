{
 "cells": [
  {
   "cell_type": "code",
   "execution_count": null,
   "metadata": {
    "collapsed": false
   },
   "outputs": [],
   "source": [
    "## Oct 17 2017\n",
    "## Purpose: to render cumulative partial sketches from neurosketch dataset"
   ]
  },
  {
   "cell_type": "code",
   "execution_count": null,
   "metadata": {
    "collapsed": false
   },
   "outputs": [],
   "source": [
    "from __future__ import division\n",
    "import numpy as np\n",
    "from numpy import *\n",
    "import os\n",
    "import PIL\n",
    "from PIL import Image\n",
    "import base64\n",
    "import matplotlib\n",
    "from matplotlib import pylab, mlab, pyplot\n",
    "%matplotlib inline\n",
    "from IPython.core.pylabtools import figsize, getfigs\n",
    "plt = pyplot\n",
    "import seaborn as sns\n",
    "sns.set_context('poster')\n",
    "sns.set_style('white')\n",
    "from matplotlib.path import Path\n",
    "import matplotlib.patches as patches\n",
    "from skimage import data, io, filters\n",
    "import cStringIO\n",
    "import pandas as pd\n",
    "import pymongo as pm ## first establish ssh tunnel to Amazon EC2 instance"
   ]
  },
  {
   "cell_type": "code",
   "execution_count": null,
   "metadata": {
    "collapsed": false
   },
   "outputs": [],
   "source": [
    "# load in experimental design pickle file\n",
    "import cPickle\n",
    "mdtd = cPickle.load(open('morph_drawing_training_design.pkl'))"
   ]
  },
  {
   "cell_type": "code",
   "execution_count": null,
   "metadata": {
    "collapsed": false
   },
   "outputs": [],
   "source": [
    "# mongo globals\n",
    "conn = pm.MongoClient(port=20809)\n",
    "DBNAME = conn['during_morph_drawing_recognition']\n",
    "COLNAME = DBNAME['fmri3.files']\n",
    "coll=COLNAME\n",
    "DATADIR = 'neurosketch_data_3'"
   ]
  },
  {
   "cell_type": "code",
   "execution_count": null,
   "metadata": {
    "collapsed": false
   },
   "outputs": [],
   "source": []
  },
  {
   "cell_type": "code",
   "execution_count": null,
   "metadata": {
    "collapsed": false
   },
   "outputs": [],
   "source": []
  },
  {
   "cell_type": "code",
   "execution_count": null,
   "metadata": {
    "collapsed": false
   },
   "outputs": [],
   "source": []
  },
  {
   "cell_type": "code",
   "execution_count": null,
   "metadata": {
    "collapsed": false
   },
   "outputs": [],
   "source": [
    "from matplotlib.path import Path\n",
    "import matplotlib.patches as patches\n",
    "from svgpathtools import parse_path"
   ]
  },
  {
   "cell_type": "code",
   "execution_count": null,
   "metadata": {
    "collapsed": false
   },
   "outputs": [],
   "source": [
    "def polyline_pathmaker(lines):\n",
    "    x = []\n",
    "    y = []\n",
    "\n",
    "    codes = [Path.MOVETO] # start with moveto command always\n",
    "    for i,l in enumerate(lines):\n",
    "        for _i,_l in enumerate(l):\n",
    "            x.append(_l[0])\n",
    "            y.append(_l[1])\n",
    "            if _i<len(l)-1:\n",
    "                codes.append(Path.LINETO) # keep pen on page\n",
    "            else:\n",
    "                if i != len(lines)-1: # final vertex\n",
    "                    codes.append(Path.MOVETO)\n",
    "    verts = zip(x,y)            \n",
    "    return verts, codes\n",
    "\n",
    "def path_renderer(verts, codes):\n",
    "    fig = plt.figure(figsize=(6,6))\n",
    "    ax = fig.add_subplot(111)\n",
    "    if len(verts)>0:\n",
    "        path = Path(verts, codes)\n",
    "        patch = patches.PathPatch(path, facecolor='none', lw=2)\n",
    "        ax.add_patch(patch)\n",
    "        ax.set_xlim(0,500)\n",
    "        ax.set_ylim(0,500) \n",
    "        ax.axis('off')\n",
    "        plt.gca().invert_yaxis() # y values increase as you go down in image\n",
    "        plt.show()\n",
    "    else:\n",
    "        ax.set_xlim(0,500)\n",
    "        ax.set_ylim(0,500)        \n",
    "        ax.axis('off')\n",
    "        plt.show()\n",
    "    plt.savefig()\n",
    "    plt.close()\n",
    "    "
   ]
  },
  {
   "cell_type": "code",
   "execution_count": null,
   "metadata": {
    "collapsed": false
   },
   "outputs": [],
   "source": []
  },
  {
   "cell_type": "code",
   "execution_count": null,
   "metadata": {
    "collapsed": false
   },
   "outputs": [],
   "source": []
  },
  {
   "cell_type": "code",
   "execution_count": null,
   "metadata": {
    "collapsed": false
   },
   "outputs": [],
   "source": []
  },
  {
   "cell_type": "code",
   "execution_count": null,
   "metadata": {
    "collapsed": false
   },
   "outputs": [],
   "source": []
  },
  {
   "cell_type": "code",
   "execution_count": null,
   "metadata": {
    "collapsed": false
   },
   "outputs": [],
   "source": []
  },
  {
   "cell_type": "code",
   "execution_count": null,
   "metadata": {
    "collapsed": false
   },
   "outputs": [],
   "source": []
  },
  {
   "cell_type": "markdown",
   "metadata": {},
   "source": [
    "## render out all subjects cumulative sketches by stroke"
   ]
  },
  {
   "cell_type": "code",
   "execution_count": null,
   "metadata": {
    "collapsed": false
   },
   "outputs": [],
   "source": [
    "def flatten(x):\n",
    "    return [val for sublist in x for val in sublist]"
   ]
  },
  {
   "cell_type": "code",
   "execution_count": null,
   "metadata": {
    "collapsed": false
   },
   "outputs": [],
   "source": [
    "save_dir = 'partial_sketches_2'\n",
    "num_renders = 24 ## roughly corresponds to the number of TR's in each drawing trial\n",
    "sub_paths = [os.path.join('data',i) for i in os.listdir('data') if os.path.isdir(os.path.join('data',i))]\n",
    "for s in sub_paths:\n",
    "    print('printing partial sketches from {}'.format(s))\n",
    "    X = pd.read_csv(os.path.join(s,s.split('/')[-1] + '_metadata.csv'))\n",
    "    sub_name = s.split('/')[-1]    \n",
    "    num_sketches = len(X.svgString.values)\n",
    "    for sketch_ind in range(num_sketches):\n",
    "        ## parse path strings only from raw svg dom element\n",
    "        _X = X.svgString.values[sketch_ind].split('\"path\":\"')\n",
    "        svg_list = [x.split('\",\"stroke')[0] for x in _X[1:]]\n",
    "\n",
    "        ## parse into x,y coordinates and output list of lists of coordinates\n",
    "        lines = []\n",
    "        Verts = []\n",
    "        Codes = []\n",
    "        for stroke_ind,stroke in enumerate(svg_list):\n",
    "            x = []\n",
    "            y = []\n",
    "            parsed = parse_path(stroke)\n",
    "            for i,p in enumerate(parsed):\n",
    "                if i!=len(parsed)-1: # last line segment\n",
    "                    x.append(p.start.real)\n",
    "                    y.append(p.start.imag)    \n",
    "                else:\n",
    "                    x.append(p.start.real)\n",
    "                    y.append(p.start.imag)     \n",
    "                    x.append(p.end.real)\n",
    "                    y.append(p.end.imag)\n",
    "            lines.append(zip(x,y))\n",
    "            verts, codes = polyline_pathmaker(lines)\n",
    "            Verts.append(verts)\n",
    "            Codes.append(codes)\n",
    "        \n",
    "        Verts = flatten(Verts)\n",
    "        Codes = flatten(Codes)\n",
    "        splice_markers = map(int,np.linspace(0,len(Verts),num_renders)) \n",
    "        \n",
    "        for i,t in enumerate(splice_markers[1:]):\n",
    "            _Verts = Verts[:t]\n",
    "            _Codes = Codes[:t]            \n",
    "        \n",
    "            ## render and save out image\n",
    "            fig = plt.figure(figsize=(6,6))\n",
    "            ax = fig.add_subplot(111)\n",
    "            if len(verts)>0:\n",
    "                path = Path(_Verts, _Codes)\n",
    "                patch = patches.PathPatch(path, facecolor='none', lw=5)\n",
    "                ax.add_patch(patch)\n",
    "                ax.set_xlim(0,500)\n",
    "                ax.set_ylim(0,500) \n",
    "                ax.axis('off')\n",
    "                plt.gca().invert_yaxis() # y values increase as you go down in image\n",
    "                plt.show()\n",
    "            else:\n",
    "                ax.set_xlim(0,500)\n",
    "                ax.set_ylim(0,500)        \n",
    "                ax.axis('off')\n",
    "                plt.show()\n",
    "            sketch_dir = X.target.values[sketch_ind] + '_' + str(X.trial.values[sketch_ind])\n",
    "            if not os.path.exists(os.path.join(save_dir,sub_name,sketch_dir)):\n",
    "                os.makedirs(os.path.join(save_dir,sub_name,sketch_dir))\n",
    "            fpath = os.path.join(save_dir,sub_name,sketch_dir,'{}.png'.format(str(i)))\n",
    "            fig.savefig(fpath)\n",
    "            plt.close(fig)\n"
   ]
  },
  {
   "cell_type": "code",
   "execution_count": null,
   "metadata": {
    "collapsed": false
   },
   "outputs": [],
   "source": []
  },
  {
   "cell_type": "code",
   "execution_count": null,
   "metadata": {
    "collapsed": false
   },
   "outputs": [],
   "source": []
  },
  {
   "cell_type": "code",
   "execution_count": null,
   "metadata": {
    "collapsed": false
   },
   "outputs": [],
   "source": [
    "Verts[:0]"
   ]
  },
  {
   "cell_type": "code",
   "execution_count": null,
   "metadata": {
    "collapsed": false
   },
   "outputs": [],
   "source": []
  },
  {
   "cell_type": "code",
   "execution_count": null,
   "metadata": {
    "collapsed": false
   },
   "outputs": [],
   "source": [
    "num_segs = reduce(lambda x,y: x+y, [len(l) for l in lines]) ## number of segments in this stroke\n",
    "seg_list = map(int,np.linspace(0,num_segs,24))"
   ]
  },
  {
   "cell_type": "code",
   "execution_count": null,
   "metadata": {
    "collapsed": false
   },
   "outputs": [],
   "source": [
    "num_segs_all = reduce(lambda x,y: x+y, [len(l) for l in svg_list]) ## number of segments in this drawing\n",
    "seg_list = map(int,np.linspace(0,num_segs_all,24))"
   ]
  },
  {
   "cell_type": "code",
   "execution_count": null,
   "metadata": {
    "collapsed": false
   },
   "outputs": [],
   "source": [
    "len(verts)"
   ]
  },
  {
   "cell_type": "code",
   "execution_count": null,
   "metadata": {
    "collapsed": false
   },
   "outputs": [],
   "source": [
    "len(svg_list)"
   ]
  },
  {
   "cell_type": "code",
   "execution_count": null,
   "metadata": {
    "collapsed": false
   },
   "outputs": [],
   "source": [
    "num_renders = 24\n",
    "num_segs_all = reduce(lambda x,y: x+y, [len(svg_list[0].split('L')) for l in svg_list]) ## number of segments in this drawing\n",
    "seg_list = map(int,np.linspace(0,num_segs_all,num_renders)) ## cut into this   "
   ]
  },
  {
   "cell_type": "code",
   "execution_count": null,
   "metadata": {
    "collapsed": false
   },
   "outputs": [],
   "source": []
  },
  {
   "cell_type": "code",
   "execution_count": null,
   "metadata": {
    "collapsed": false
   },
   "outputs": [],
   "source": []
  },
  {
   "cell_type": "code",
   "execution_count": null,
   "metadata": {
    "collapsed": false
   },
   "outputs": [],
   "source": [
    "num_segs_all = reduce(lambda x,y: x+y, [len(svg_list[0].split('L')) for l in svg_list]) ## number of segments in this drawing\n",
    "seg_list = map(int,np.linspace(0,num_segs_all,num_renders)) ## cut into this       \n",
    "\n",
    "## parse into x,y coordinates and output list of lists of coordinates\n",
    "lines = []\n",
    "seg_counter = [] ## this keeps track of where to splice\n",
    "for stroke_ind,stroke in enumerate(svg_list):\n",
    "    x = []\n",
    "    y = []\n",
    "    parsed = parse_path(stroke)\n",
    "    for i,p in enumerate(parsed):\n",
    "        if i!=len(parsed)-1: # last line segment\n",
    "            x.append(p.start.real)\n",
    "            y.append(p.start.imag)    \n",
    "        else:\n",
    "            x.append(p.start.real)\n",
    "            y.append(p.start.imag)     \n",
    "            x.append(p.end.real)\n",
    "            y.append(p.end.imag)\n",
    "    lines.append(zip(x,y))\n",
    "    verts, codes = polyline_pathmaker(lines)"
   ]
  }
 ],
 "metadata": {
  "kernelspec": {
   "display_name": "Python 2",
   "language": "python",
   "name": "python2"
  },
  "language_info": {
   "codemirror_mode": {
    "name": "ipython",
    "version": 2
   },
   "file_extension": ".py",
   "mimetype": "text/x-python",
   "name": "python",
   "nbconvert_exporter": "python",
   "pygments_lexer": "ipython2",
   "version": "2.7.12"
  }
 },
 "nbformat": 4,
 "nbformat_minor": 0
}
