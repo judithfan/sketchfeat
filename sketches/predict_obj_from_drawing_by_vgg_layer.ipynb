{
 "cells": [
  {
   "cell_type": "code",
   "execution_count": 1,
   "metadata": {
    "collapsed": true
   },
   "outputs": [],
   "source": [
    "from __future__ import division\n",
    "\n",
    "import numpy as np\n",
    "import os\n",
    "from glob import glob\n",
    "\n",
    "from PIL import Image\n",
    "from copy import deepcopy\n",
    "\n",
    "from sklearn import linear_model, datasets, neighbors\n",
    "from sklearn.model_selection import train_test_split, cross_val_score\n",
    "from sklearn import svm\n",
    "\n",
    "%matplotlib inline\n",
    "from scipy.misc import imread, imresize\n",
    "import matplotlib.pyplot as plt\n",
    "import matplotlib.image as mpimg\n",
    "import seaborn as sns\n",
    "\n",
    "import pandas as pd\n",
    "\n",
    "import scipy.stats as stats\n",
    "from scipy.stats import norm\n",
    "import sklearn\n",
    "\n",
    "\n",
    "import embedding as emb\n",
    "reload(emb)\n",
    "from embedding import *\n",
    "\n",
    "import analysis_helpers"
   ]
  },
  {
   "cell_type": "markdown",
   "metadata": {},
   "source": [
    "#### Load in pre-computed VGG features (computed inside sketch_feature_analysis)"
   ]
  },
  {
   "cell_type": "code",
   "execution_count": 19,
   "metadata": {
    "collapsed": true
   },
   "outputs": [],
   "source": [
    "layers = ['P1','P2','P3','P4','P5','FC6','FC7']\n",
    "## load in and preprocess metadata associated with pre-computed VGG features\n",
    "meta = pd.read_csv('./data/METADATA.csv')\n",
    "meta = meta.drop(['Unnamed: 0','Unnamed: 0.1'],axis=1)\n",
    "meta['subj'] = meta['subj'].map(lambda x: x.split('_')[0])\n",
    "\n",
    "## load in vgg features (already preprocessed)\n",
    "this_layer = 'P5'\n",
    "feats = np.load('./data/FEATURES_{}.npy'.format(this_layer))"
   ]
  },
  {
   "cell_type": "markdown",
   "metadata": {
    "collapsed": true
   },
   "source": [
    "#### Load in pre-computed neural classifier outputs"
   ]
  },
  {
   "cell_type": "code",
   "execution_count": 48,
   "metadata": {
    "collapsed": true
   },
   "outputs": [],
   "source": [
    "## load in neural logistic regression predictions\n",
    "this_roi = 'V2' ## roi_list = ['V1', 'V2', 'LOC', 'IT', 'fusiform', 'parahippo', 'PRC', 'ento','hipp', 'mOFC']\n",
    "path_to_neural_feats = '/home/jefan/neurosketch/data'\n",
    "neural_logistic_timeseries = 'difference_logprobs_4way_{}_trial_num.csv'.format(this_roi)\n",
    "N = pd.read_csv(os.path.join(path_to_neural_feats,neural_logistic_timeseries))\n",
    "# N = pd.read_csv(neural_logistic_timeseries)\n",
    "\n",
    "## re-format 'sub' column to make sure they are the right length\n",
    "subs = N['sub'].values\n",
    "subs = [str(sub).zfill(7) for sub in subs]\n",
    "N['sub'] = subs"
   ]
  },
  {
   "cell_type": "markdown",
   "metadata": {},
   "source": [
    "#### Load in baseline sketch features and labels to train classifier (from various layers)"
   ]
  },
  {
   "cell_type": "code",
   "execution_count": 21,
   "metadata": {},
   "outputs": [
    {
     "name": "stdout",
     "output_type": "stream",
     "text": [
      "Finished loading baseline features...\n",
      "Finished normalizing features...\n",
      "Finished training baseline-sketch classifier...\n",
      "0.85\n"
     ]
    }
   ],
   "source": [
    "### load in and extract baseline features to use to make predictions on drawing features\n",
    "reload(analysis_helpers)\n",
    "path_to_baselines = '../baseline_sketches'\n",
    "baseline_paths = sorted(analysis_helpers.list_files(path_to_baselines))\n",
    "def get_label_from_baseline_path(path):\n",
    "    return path.split('/')[-1].split('_')[0]\n",
    "def get_view_from_baseline_path(path):\n",
    "    return path.split('/')[-1].split('_')[1]\n",
    "def get_instance_from_baseline_path(path):\n",
    "    return path.split('/')[-1].split('_')[2]\n",
    "\n",
    "baseline_labels = map(get_label_from_baseline_path,baseline_paths)\n",
    "baseline_views = map(get_view_from_baseline_path,baseline_paths)\n",
    "baseline_instances = map(get_instance_from_baseline_path,baseline_paths)\n",
    "B = pd.read_csv(os.path.join(path_to_baselines,'baseline_sketches_metadata.csv'))\n",
    "\n",
    "if not os.path.exists('./data'):\n",
    "    os.makedirs('./data')\n",
    "\n",
    "## re-extract baseline features if not already pre-computed    \n",
    "import embedding as emb\n",
    "reload(emb)\n",
    "from embedding import *    \n",
    "extract_baseline = 0\n",
    "for layer_num in np.arange(6,7):\n",
    "    if extract_baseline:\n",
    "        print 'Extracting {}'.format(layers[layer_num])        \n",
    "        BaselineFeatureExtractor = FeatureExtractor(baseline_paths,layer_num)\n",
    "        BaselineFeatures, BaselineLabels = BaselineFeatureExtractor.extract_feature_matrix()\n",
    "        np.save('./data/FEATURES_BASELINE_{}.npy'.format(layers[layer_num]), BaselineFeatures)\n",
    "        np.save('./data/LABELS_BASELINE.npy',baseline_labels)  \n",
    "        \n",
    "## load in baseline features for specific layer and normalize (preprocess)\n",
    "BaselineFeatures = np.load('./data/FEATURES_BASELINE_{}.npy'.format(this_layer))\n",
    "print 'Finished loading baseline features...'\n",
    "normalize_on = 1\n",
    "if normalize_on:\n",
    "    BaselineFeatures = analysis_helpers.normalize(BaselineFeatures)  \n",
    "    print 'Finished normalizing features...'    \n",
    "BaselineLabels = np.load('./data/LABELS_BASELINE.npy')\n",
    "\n",
    "print 'Started training baseline-sketch classifier...'    \n",
    "## train logistic classifier on baseline sketches only\n",
    "clf = linear_model.LogisticRegression(penalty='l2',C=1,random_state=1).fit(BaselineFeatures, BaselineLabels) \n",
    "print 'Finished training baseline-sketch classifier...'    \n",
    "\n",
    "## overall accuracy on sketches from our study\n",
    "print clf.score(feats, meta.label.values)"
   ]
  },
  {
   "cell_type": "markdown",
   "metadata": {},
   "source": [
    "#### Loop through subjects to get object logits for each repetition"
   ]
  },
  {
   "cell_type": "code",
   "execution_count": 49,
   "metadata": {},
   "outputs": [
    {
     "name": "stdout",
     "output_type": "stream",
     "text": [
      "Layer P1\n",
      "Finished loading baseline features...\n",
      "Finished normalizing features...\n",
      "Started training baseline-sketch classifier...\n",
      "Finished training baseline-sketch classifier...\n",
      "Layer P2\n",
      "Finished loading baseline features...\n",
      "Finished normalizing features...\n",
      "Started training baseline-sketch classifier...\n",
      "Finished training baseline-sketch classifier...\n",
      "Layer P3\n",
      "Finished loading baseline features...\n",
      "Finished normalizing features...\n",
      "Started training baseline-sketch classifier...\n",
      "Finished training baseline-sketch classifier...\n",
      "Layer P4\n",
      "Finished loading baseline features...\n",
      "Finished normalizing features...\n",
      "Started training baseline-sketch classifier...\n",
      "Finished training baseline-sketch classifier...\n",
      "Layer P5\n",
      "Finished loading baseline features...\n",
      "Finished normalizing features...\n",
      "Started training baseline-sketch classifier...\n",
      "Finished training baseline-sketch classifier...\n",
      "Layer FC6\n",
      "Finished loading baseline features...\n",
      "Finished normalizing features...\n",
      "Started training baseline-sketch classifier...\n",
      "Finished training baseline-sketch classifier...\n",
      "Layer FC7\n",
      "Finished loading baseline features...\n",
      "Finished normalizing features...\n",
      "Started training baseline-sketch classifier...\n",
      "Finished training baseline-sketch classifier...\n"
     ]
    }
   ],
   "source": [
    "## define list of subjects for which we have neural data on\n",
    "sub_list = np.unique(N['sub'].values)\n",
    "# sub = sub_list[2]\n",
    "\n",
    "\n",
    "## initialize vgg_neural_correspondence array\n",
    "VNC = []\n",
    "\n",
    "## loop through layers\n",
    "for this_layer in layers:\n",
    "    print 'Layer {}'.format(this_layer)\n",
    "    ## load in vgg features from this layer (already preprocessed)    \n",
    "    feats = np.load('./data/FEATURES_{}.npy'.format(this_layer))\n",
    "    \n",
    "    ## load in baseline features to train sketch classifier\n",
    "    BaselineFeatures = np.load('./data/FEATURES_BASELINE_{}.npy'.format(this_layer))\n",
    "    print 'Finished loading baseline features...'\n",
    "    normalize_on = 1\n",
    "    if normalize_on:\n",
    "        BaselineFeatures = analysis_helpers.normalize(BaselineFeatures)  \n",
    "        print 'Finished normalizing features...'    \n",
    "    BaselineLabels = np.load('./data/LABELS_BASELINE.npy')    \n",
    "\n",
    "    print 'Started training baseline-sketch classifier...'    \n",
    "    ## train logistic classifier on baseline sketches only\n",
    "    clf = linear_model.LogisticRegression(penalty='l2',C=1,random_state=1).fit(BaselineFeatures, BaselineLabels) \n",
    "    print 'Finished training baseline-sketch classifier...'    \n",
    "\n",
    "    vgg_neural_correspondence = []\n",
    "    ## loop through subjects\n",
    "    for sub in sub_list:\n",
    "\n",
    "        ## use logged probabilities\n",
    "        logged=True\n",
    "\n",
    "        ## subset group meta by trials from this individual subject\n",
    "        inds = (meta['subj']==sub)\n",
    "        _meta = meta[inds]\n",
    "        _meta = _meta.sort_values(['trial'])\n",
    "        _inds = _meta.index\n",
    "\n",
    "        ## subset skethc features and labels from this subject\n",
    "        test_feats = feats[_inds,:]\n",
    "        test_labels = _meta.label.values\n",
    "\n",
    "        ## get classification accuracy for this subject\n",
    "        print_acc = 0\n",
    "        if print_acc:\n",
    "            print 'Accuracy: {}'.format(clf.score(test_feats, test_labels))\n",
    "\n",
    "        ## add prediction probabilities to metadata matrix\n",
    "        cats = clf.classes_\n",
    "        probs = clf.predict_proba(test_feats)\n",
    "\n",
    "        ## what were trained vs. control objectss\n",
    "        trained_objs = np.unique(test_labels)\n",
    "        control_objs = [i for i in ['bed','bench','chair','table'] if i not in trained_objs]\n",
    "\n",
    "        ## re-order so that it you have the two trained objects first, followed by the control objects\n",
    "        _ordering = np.argsort(np.hstack((trained_objs,control_objs))) ## e.g., [chair table bench bed] ==> [3 2 0 1]\n",
    "        ordering = np.argsort(_ordering) ## get indices that sort from alphabetical to (trained_objs, control_objs)\n",
    "        probs = clf.predict_proba(test_feats)[:,ordering] ## [table chair bed bench] \n",
    "        logprobs = np.log(clf.predict_proba(test_feats)[:,ordering])\n",
    "\n",
    "        if logged==True:\n",
    "            out = logprobs\n",
    "        else:\n",
    "            out = probs\n",
    "\n",
    "        _meta['t1_prob'] = out[:,0]\n",
    "        _meta['t2_prob'] = out[:,1]\n",
    "        _meta['c1_prob'] = out[:,2]\n",
    "        _meta['c2_prob'] = out[:,3]\n",
    "\n",
    "        ## also save out new columns in the same order \n",
    "        if logged==True:\n",
    "            probs = np.log(clf.predict_proba(test_feats))\n",
    "        else:\n",
    "            probs = clf.predict_proba(test_feats)\n",
    "        _meta['bed_prob'] = probs[:,0]\n",
    "        _meta['bench_prob'] = probs[:,1]\n",
    "        _meta['chair_prob'] = probs[:,2]\n",
    "        _meta['table_prob'] = probs[:,3]                 \n",
    "\n",
    "        ## get timecourse of target selectivity (log(t/f)) based on model \n",
    "        t,f,c = analysis_helpers.get_prob_timecourse('trial',_meta,version='4way')\n",
    "        vgg_targ_select = t-f\n",
    "\n",
    "        ## get timecourse of target selectivity (log(t/f)) based on BRAIN \n",
    "        brain_targ_select = N[(N['sub']==sub) & (N['condition']=='target-foil')]['probability'].values\n",
    "\n",
    "        r,p = stats.pearsonr(vgg_targ_select,brain_targ_select)\n",
    "        vgg_neural_correspondence.append(r)\n",
    "\n",
    "        ## plot\n",
    "        plotting=0\n",
    "        if plotting:\n",
    "            plt.figure(figsize=(4,4))\n",
    "            plt.scatter(vgg_targ_select,brain_targ_select)\n",
    "            plt.xlabel('vgg target selectivity')\n",
    "            plt.ylabel('brain target selectivity')\n",
    "            print 'Correlation between vgg and neural classifier output across trials: r = {}'.format(r)\n",
    "\n",
    "    ## append vgg_neural_correspondence to make list of lists by layer\n",
    "    VNC.append(vgg_neural_correspondence)"
   ]
  },
  {
   "cell_type": "code",
   "execution_count": 24,
   "metadata": {
    "collapsed": true
   },
   "outputs": [],
   "source": []
  },
  {
   "cell_type": "code",
   "execution_count": 51,
   "metadata": {
    "collapsed": true
   },
   "outputs": [],
   "source": [
    "VNC = np.array(VNC) ## shape (6,31)?\n",
    "VNC = VNC.transpose()\n"
   ]
  },
  {
   "cell_type": "code",
   "execution_count": 52,
   "metadata": {
    "collapsed": true
   },
   "outputs": [],
   "source": [
    "x = pd.DataFrame(VNC)\n",
    "x.columns = layers\n",
    "x.to_csv('./data/vgg_{}_trial_by_trial_corr_by_layer.csv'.format(this_roi))"
   ]
  },
  {
   "cell_type": "code",
   "execution_count": 50,
   "metadata": {},
   "outputs": [
    {
     "data": {
      "text/plain": [
       "'V2'"
      ]
     },
     "execution_count": 50,
     "metadata": {},
     "output_type": "execute_result"
    }
   ],
   "source": [
    "this_roi"
   ]
  },
  {
   "cell_type": "code",
   "execution_count": null,
   "metadata": {},
   "outputs": [],
   "source": []
  },
  {
   "cell_type": "code",
   "execution_count": 57,
   "metadata": {},
   "outputs": [],
   "source": []
  },
  {
   "cell_type": "code",
   "execution_count": null,
   "metadata": {
    "collapsed": true
   },
   "outputs": [],
   "source": []
  },
  {
   "cell_type": "code",
   "execution_count": 65,
   "metadata": {},
   "outputs": [
    {
     "data": {
      "image/png": "[encoded data removed]",
      "text/plain": [
       "<matplotlib.figure.Figure at 0x7ff4ff739090>"
      ]
     },
     "metadata": {},
     "output_type": "display_data"
    }
   ],
   "source": [
    "V1_bars = pd.read_csv('./data/vgg_V1_trial_by_trial_corr_by_layer.csv')\n",
    "V2_bars = pd.read_csv('./data/vgg_V2_trial_by_trial_corr_by_layer.csv')\n",
    "V1_bars = V1_bars.drop(['Unnamed: 0'],axis=1)\n",
    "V2_bars = V2_bars.drop(['Unnamed: 0'],axis=1)\n",
    "plt.figure(figsize=(15,4))\n",
    "plt.subplot(121)\n",
    "sns.barplot(data=V1_bars)\n",
    "plt.title('V1')\n",
    "plt.ylabel('correlation')\n",
    "h = plt.xticks(np.arange(7),['pool1','pool2','pool3','pool4','pool5','fc6','fc7'])\n",
    "plt.ylim(-0.1,0.4)\n",
    "plt.subplot(122)\n",
    "sns.barplot(data=V2_bars)\n",
    "plt.title('V2')\n",
    "plt.ylabel('correlation')\n",
    "plt.ylim(-0.1,0.4)\n",
    "h = plt.xticks(np.arange(7),['pool1','pool2','pool3','pool4','pool5','fc6','fc7'])"
   ]
  },
  {
   "cell_type": "code",
   "execution_count": null,
   "metadata": {
    "collapsed": true
   },
   "outputs": [],
   "source": []
  },
  {
   "cell_type": "code",
   "execution_count": 63,
   "metadata": {
    "collapsed": true
   },
   "outputs": [],
   "source": []
  },
  {
   "cell_type": "code",
   "execution_count": null,
   "metadata": {
    "collapsed": true
   },
   "outputs": [],
   "source": []
  },
  {
   "cell_type": "code",
   "execution_count": null,
   "metadata": {
    "collapsed": true
   },
   "outputs": [],
   "source": []
  },
  {
   "cell_type": "code",
   "execution_count": null,
   "metadata": {
    "collapsed": true
   },
   "outputs": [],
   "source": []
  },
  {
   "cell_type": "code",
   "execution_count": null,
   "metadata": {
    "collapsed": true
   },
   "outputs": [],
   "source": []
  },
  {
   "cell_type": "code",
   "execution_count": null,
   "metadata": {
    "collapsed": true
   },
   "outputs": [],
   "source": []
  },
  {
   "cell_type": "code",
   "execution_count": null,
   "metadata": {
    "collapsed": true
   },
   "outputs": [],
   "source": []
  },
  {
   "cell_type": "code",
   "execution_count": null,
   "metadata": {
    "collapsed": true
   },
   "outputs": [],
   "source": []
  },
  {
   "cell_type": "code",
   "execution_count": null,
   "metadata": {
    "collapsed": true
   },
   "outputs": [],
   "source": []
  },
  {
   "cell_type": "code",
   "execution_count": null,
   "metadata": {
    "collapsed": true
   },
   "outputs": [],
   "source": []
  },
  {
   "cell_type": "code",
   "execution_count": null,
   "metadata": {
    "collapsed": true
   },
   "outputs": [],
   "source": []
  },
  {
   "cell_type": "code",
   "execution_count": 104,
   "metadata": {
    "collapsed": true
   },
   "outputs": [],
   "source": []
  },
  {
   "cell_type": "code",
   "execution_count": null,
   "metadata": {},
   "outputs": [],
   "source": []
  },
  {
   "cell_type": "code",
   "execution_count": null,
   "metadata": {
    "collapsed": true
   },
   "outputs": [],
   "source": []
  }
 ],
 "metadata": {
  "kernelspec": {
   "display_name": "Python 2",
   "language": "python",
   "name": "python2"
  },
  "language_info": {
   "codemirror_mode": {
    "name": "ipython",
    "version": 2
   },
   "file_extension": ".py",
   "mimetype": "text/x-python",
   "name": "python",
   "nbconvert_exporter": "python",
   "pygments_lexer": "ipython2",
   "version": "2.7.12"
  }
 },
 "nbformat": 4,
 "nbformat_minor": 2
}
