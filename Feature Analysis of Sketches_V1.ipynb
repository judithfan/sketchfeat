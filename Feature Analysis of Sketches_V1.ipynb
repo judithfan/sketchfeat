{
 "cells": [
  {
   "cell_type": "code",
   "execution_count": 5,
   "metadata": {},
   "outputs": [],
   "source": [
    "# here are some set up code to ignore \n",
    "import numpy as np\n",
    "import pickle\n",
    "import scipy\n",
    "from sklearn import linear_model, datasets, neighbors, metrics\n",
    "from sklearn.cross_validation import train_test_split\n",
    "from scipy.linalg import block_diag\n",
    "\n",
    "\n",
    "\n",
    "%matplotlib inline\n",
    "from scipy.misc import imread, imresize\n",
    "import matplotlib.pyplot as plt\n",
    "import matplotlib.image as mpimg"
   ]
  },
  {
   "cell_type": "code",
   "execution_count": 15,
   "metadata": {
    "collapsed": true
   },
   "outputs": [],
   "source": [
    "# Constants \n",
    "\n",
    "# I pulled activations of 8 layers. Here is the index ref to the layers\n",
    "LAYERS = {'pool1': 0, 'pool2': 1, 'pool3': 2, 'pool4': 3,\n",
    "          'pool5': 4, 'fc6': 5, 'fc7': 6} # 'prob': 7} taking out probability layer for now. \n",
    "\n",
    "LAYERS_NM = ['pool1', 'pool2', 'pool3', 'pool4', 'pool5', 'fc6', 'fc7']\n",
    "# constants for the images\n",
    "\n",
    "FURNITURES = ['bed', 'bench', 'chair', 'table']\n",
    "\n",
    "VGG_SIZE_X = 224\n",
    "VGG_SIZE_Y = 224\n",
    "VGG_SIZE_Z = 3\n",
    "\n",
    "# constants for train/test for the linear discriminability\n",
    "TRAIN_SZ = 0.80\n",
    "TEST_SZ = 1 - TRAIN_SZ\n"
   ]
  },
  {
   "cell_type": "code",
   "execution_count": 7,
   "metadata": {},
   "outputs": [],
   "source": [
    "# pulling/cleaning up the data\n",
    "\n",
    "# downloading the activations. I had to split the sample (each act has 160 images) because they're about 3GB each. \n",
    "full_act = []\n",
    "for num_act in xrange(0,11):\n",
    "    filename = 'sketch_act/sketch_act' + str(num_act) + '.p'\n",
    "    full_act.append(pickle.load(open(filename, 'rb')))\n"
   ]
  },
  {
   "cell_type": "code",
   "execution_count": 8,
   "metadata": {
    "collapsed": true
   },
   "outputs": [],
   "source": [
    "# downloading the targets\n",
    "\n",
    "target = pickle.load(open('target.p', 'rb'))"
   ]
  },
  {
   "cell_type": "code",
   "execution_count": 9,
   "metadata": {},
   "outputs": [],
   "source": [
    "def restackFCAct(act, layer_nm):\n",
    "    layer_act = np.vstack((np.asarray(act[0][LAYERS[layer_nm]]), \n",
    "                           np.asarray(act[1][LAYERS[layer_nm]]),\n",
    "                          np.asarray(act[2][LAYERS[layer_nm]]),\n",
    "                          np.asarray(act[3][LAYERS[layer_nm]]),\n",
    "                          np.asarray(act[4][LAYERS[layer_nm]]),\n",
    "                          np.asarray(act[5][LAYERS[layer_nm]]),\n",
    "                          np.asarray(act[6][LAYERS[layer_nm]]),\n",
    "                          np.asarray(act[7][LAYERS[layer_nm]]),\n",
    "                          np.asarray(act[8][LAYERS[layer_nm]]),\n",
    "                          np.asarray(act[9][LAYERS[layer_nm]]),\n",
    "                          np.asarray(act[10][LAYERS[layer_nm]])))\n",
    "    return layer_act\n",
    "\n",
    "\n",
    "def restackPoolAct(act, layer_nm):\n",
    "    x_size = np.asarray(act[0][LAYERS[layer_nm]]).shape[0]\n",
    "    y_size = np.asarray(act[0][LAYERS[layer_nm]]).shape[1] * np.asarray(act[0][LAYERS[layer_nm]]).shape[2] * np.asarray(act[0][LAYERS[layer_nm]]).shape[3] \n",
    "    layer_act = np.vstack((np.asarray(act[0][LAYERS[layer_nm]]).reshape(x_size, y_size), \n",
    "                           np.asarray(act[1][LAYERS[layer_nm]]).reshape(x_size, y_size),\n",
    "                          np.asarray(act[2][LAYERS[layer_nm]]).reshape(x_size, y_size),\n",
    "                          np.asarray(act[3][LAYERS[layer_nm]]).reshape(x_size, y_size),\n",
    "                          np.asarray(act[4][LAYERS[layer_nm]]).reshape(x_size, y_size),\n",
    "                          np.asarray(act[5][LAYERS[layer_nm]]).reshape(x_size, y_size),\n",
    "                          np.asarray(act[6][LAYERS[layer_nm]]).reshape(x_size, y_size),\n",
    "                          np.asarray(act[7][LAYERS[layer_nm]]).reshape(x_size, y_size),\n",
    "                          np.asarray(act[8][LAYERS[layer_nm]]).reshape(x_size, y_size),\n",
    "                          np.asarray(act[9][LAYERS[layer_nm]]).reshape(x_size, y_size),\n",
    "                          np.asarray(act[10][LAYERS[layer_nm]]).reshape(np.asarray(act[10][LAYERS[layer_nm]]).shape[0], y_size)))\n",
    "    return layer_act"
   ]
  },
  {
   "cell_type": "code",
   "execution_count": 10,
   "metadata": {},
   "outputs": [],
   "source": [
    "# pulling each layer out of the activation layers\n",
    "fc6 = restackFCAct(full_act, 'fc6')\n",
    "fc7 = restackFCAct(full_act, 'fc7')\n",
    "\n",
    "pool = [] \n",
    "\n",
    "for i in xrange(0,5):\n",
    "    \n",
    "    pool.append( restackPoolAct(full_act, 'pool' + str(i + 1)))"
   ]
  },
  {
   "cell_type": "code",
   "execution_count": 11,
   "metadata": {},
   "outputs": [],
   "source": [
    "# sorting the layers accordingly\n",
    "inds = np.array(target).argsort()\n",
    "fc6 = fc6[inds,:]\n",
    "fc7 = fc7[inds,:]\n",
    "for i in xrange(0,5):\n",
    "    pool[i] = pool[i][inds,:]\n",
    "\n",
    "\n",
    "num_views = [target.count('bed'), target.count('bench'), target.count('chair'), target.count('table')]\n"
   ]
  },
  {
   "cell_type": "code",
   "execution_count": 12,
   "metadata": {
    "collapsed": true
   },
   "outputs": [],
   "source": [
    "all_layers = pool\n",
    "all_layers.append(fc6)\n",
    "all_layers.append(fc7)"
   ]
  },
  {
   "cell_type": "markdown",
   "metadata": {},
   "source": [
    "## 1. Representational Similarity Analysis\n",
    "\n",
    "\n"
   ]
  },
  {
   "cell_type": "code",
   "execution_count": 11,
   "metadata": {},
   "outputs": [],
   "source": [
    "# getMeanVector gets the mean vector across number of views for num_objects \n",
    "# now we can different num_views (so num_views is a vector that dictates the num_views per object)\n",
    "def getMeanVector(full_batch, num_views, num_objects):\n",
    "    meanVector = np.empty((num_objects, full_batch.shape[1]), float)\n",
    "    for i in xrange(0, num_objects):\n",
    "        # pull out the views of the particular object \n",
    "        all_views = full_batch[sum(num_views[:i]) :  sum(num_views[:i]) + num_views[i], :]\n",
    "        meanVector[i,:] = np.mean(all_views, axis = 0)\n",
    "\n",
    "    \n",
    "    return meanVector"
   ]
  },
  {
   "cell_type": "code",
   "execution_count": 17,
   "metadata": {},
   "outputs": [],
   "source": [
    "RDM_fc7 = np.corrcoef(getMeanVector(fc7, num_views, len(FURNITURES))) \n",
    "RDM_fc6 = np.corrcoef(getMeanVector(fc6, num_views, len(FURNITURES))) \n",
    "\n",
    "Euc_fc7 = metrics.pairwise.pairwise_distances(getMeanVector(fc7, num_views, len(FURNITURES)), metric='euclidean')\n",
    "Euc_fc6 = metrics.pairwise.pairwise_distances(getMeanVector(fc6, num_views, len(FURNITURES)), metric='euclidean')\n",
    "\n",
    "\n",
    "RDM_pool = []\n",
    "Euc_pool = []\n",
    "for pool_layer in xrange(0,5):\n",
    "    RDM_pool_i = np.corrcoef(getMeanVector(pool[pool_layer], num_views, len(FURNITURES)))\n",
    "    RDM_pool.append(RDM_pool_i)\n",
    "    Euc_pool_i = metrics.pairwise.pairwise_distances(getMeanVector(pool[pool_layer], num_views, len(FURNITURES)), metric='euclidean')\n",
    "    Euc_pool.append(Euc_pool_i)"
   ]
  },
  {
   "cell_type": "code",
   "execution_count": 13,
   "metadata": {},
   "outputs": [
    {
     "data": {
      "image/png": "[encoded data removed]",
      "text/plain": [
       "<matplotlib.figure.Figure at 0x7f394276cf90>"
      ]
     },
     "metadata": {},
     "output_type": "display_data"
    },
    {
     "data": {
      "image/png": "[encoded data removed]",
      "text/plain": [
       "<matplotlib.figure.Figure at 0x7f3942774690>"
      ]
     },
     "metadata": {},
     "output_type": "display_data"
    }
   ],
   "source": [
    "fig = plt.figure(1,  figsize=(15, 5), dpi=80, facecolor='w', edgecolor='k')\n",
    "\n",
    "\n",
    "for pool_layer in xrange(0,5):\n",
    "    pltname = \"Pool \" + str(pool_layer + 1)\n",
    "    plt.subplot(1, 5, pool_layer + 1)\n",
    "    plt.title(pltname)\n",
    "    plt.imshow(RDM_pool[pool_layer], cmap = 'viridis', interpolation='none')\n",
    "    plt.xticks(xrange(0,len(FURNITURES)), FURNITURES, rotation='vertical')\n",
    "    \n",
    "    if pool_layer == 0:\n",
    "        plt.yticks(xrange(0,len(FURNITURES)), FURNITURES)\n",
    "    else:\n",
    "        plt.yticks([])\n",
    "        \n",
    "        \n",
    "fig2 = plt.figure(2,  figsize=(15, 5), dpi=80, facecolor='w', edgecolor='k')\n",
    "plt.subplot(121)\n",
    "plt.imshow(RDM_fc6, cmap = 'viridis', interpolation='none')\n",
    "plt.title(\"fc6\")\n",
    "plt.xticks(xrange(0,len(FURNITURES)), FURNITURES, rotation='vertical')\n",
    "plt.yticks(xrange(0,len(FURNITURES)), FURNITURES)\n",
    "\n",
    "plt.subplot(122)\n",
    "plt.imshow(RDM_fc7,cmap = 'viridis', interpolation='none')\n",
    "plt.title(\"fc7\")\n",
    "plt.xticks(xrange(0,len(FURNITURES)), FURNITURES, rotation='vertical')\n",
    "plt.yticks(xrange(0,len(FURNITURES)), FURNITURES)\n",
    "\n",
    "cax = fig.add_axes([0.12, 0.1, 0.78, 0.4])\n",
    "cax.get_xaxis().set_visible(False)\n",
    "cax.get_yaxis().set_visible(False)\n",
    "cax.patch.set_alpha(0)\n",
    "cax.set_frame_on(False)\n",
    "plt.colorbar(orientation='horizontal', ax=cax)\n",
    "plt.show()"
   ]
  },
  {
   "cell_type": "code",
   "execution_count": 18,
   "metadata": {},
   "outputs": [
    {
     "data": {
      "image/png": "[encoded data removed]",
      "text/plain": [
       "<matplotlib.figure.Figure at 0x7f39379c1b10>"
      ]
     },
     "metadata": {},
     "output_type": "display_data"
    },
    {
     "data": {
      "image/png": "[encoded data removed]",
      "text/plain": [
       "<matplotlib.figure.Figure at 0x7f39379c6110>"
      ]
     },
     "metadata": {},
     "output_type": "display_data"
    }
   ],
   "source": [
    "fig = plt.figure(1,  figsize=(15, 5), dpi=80, facecolor='w', edgecolor='k')\n",
    "\n",
    "\n",
    "for pool_layer in xrange(0,5):\n",
    "    pltname = \"Pool \" + str(pool_layer + 1)\n",
    "    plt.subplot(1, 5, pool_layer + 1)\n",
    "    plt.title(pltname)\n",
    "    plt.imshow(Euc_pool[pool_layer], cmap = 'viridis', interpolation='none')\n",
    "    plt.xticks(xrange(0,len(FURNITURES)), FURNITURES, rotation='vertical')\n",
    "    \n",
    "    if pool_layer == 0:\n",
    "        plt.yticks(xrange(0,len(FURNITURES)), FURNITURES)\n",
    "    else:\n",
    "        plt.yticks([])\n",
    "        \n",
    "        \n",
    "fig2 = plt.figure(2,  figsize=(15, 5), dpi=80, facecolor='w', edgecolor='k')\n",
    "plt.subplot(121)\n",
    "plt.imshow(Euc_fc6, cmap = 'viridis', interpolation='none')\n",
    "plt.title(\"fc6\")\n",
    "plt.xticks(xrange(0,len(FURNITURES)), FURNITURES, rotation='vertical')\n",
    "plt.yticks(xrange(0,len(FURNITURES)), FURNITURES)\n",
    "\n",
    "plt.subplot(122)\n",
    "plt.imshow(Euc_fc7,cmap = 'viridis', interpolation='none')\n",
    "plt.title(\"fc7\")\n",
    "plt.xticks(xrange(0,len(FURNITURES)), FURNITURES, rotation='vertical')\n",
    "plt.yticks(xrange(0,len(FURNITURES)), FURNITURES)\n",
    "\n",
    "cax = fig.add_axes([0.12, 0.1, 0.78, 0.4])\n",
    "cax.get_xaxis().set_visible(False)\n",
    "cax.get_yaxis().set_visible(False)\n",
    "cax.patch.set_alpha(0)\n",
    "cax.set_frame_on(False)\n",
    "plt.colorbar(orientation='horizontal', ax=cax)\n",
    "plt.show()"
   ]
  },
  {
   "cell_type": "markdown",
   "metadata": {},
   "source": [
    "## Classifier-based Discriminability\n",
    "\n",
    "To directly measure object-level discriminability across model layer, we also train a 4-way (& 8-way) logistic regression classifier. We used a 50/50 train/test split within object class. We did not L2-normalize feature vectors prior to training classifier.\n",
    "\n",
    "However, our imageset was sufficiently clean that even training the model on the first pool layer would lead to a ceiling performance (100% accuracy).  \n",
    "\n",
    "\n"
   ]
  },
  {
   "cell_type": "code",
   "execution_count": 13,
   "metadata": {
    "collapsed": true
   },
   "outputs": [],
   "source": [
    "\n",
    "# full_batch: the full batch of images. I am assuming that the full_batch is arranged as 40 views of obj1, 40 objects of obj2... so forth.  \n",
    "# train_sz: needs to be a probability, s.t. test_sz = 1 - train-sz. \n",
    "def getData(full_batch, num_views, num_objects, test_sz):\n",
    "    \n",
    "    num_train = [int(x * (1 - test_sz)) for x in num_views]\n",
    "    num_test = list(np.array(num_views) - np.array(num_train))\n",
    "    \n",
    "    X_train = np.ones((sum(num_train), full_batch.shape[1]), float)\n",
    "    X_test = np.ones((sum(num_test), full_batch.shape[1]), float)\n",
    "    \n",
    "    for i in xrange(0, num_objects):\n",
    "        X = full_batch[sum(num_views[:i]) :  sum(num_views[:i]) + num_views[i], :]\n",
    "        \n",
    "        # randomly shuffle the train/test for the x \n",
    "        X_train_i, X_test_i = train_test_split(X, test_size=test_sz)\n",
    "        X_train[sum(num_train[:i]) :  sum(num_train[:i]) + num_train[i], :] = X_train_i\n",
    "        X_test[sum(num_test[:i]) :  sum(num_test[:i]) + num_test[i], :] = X_test_i\n",
    "        \n",
    "        \n",
    "\n",
    "    y_train = np.repeat(xrange(0, num_objects), num_train)\n",
    "    y_test = np.repeat(xrange(0, num_objects), num_test)\n",
    "\n",
    "    return (X_train, y_train, X_test, y_test)"
   ]
  },
  {
   "cell_type": "code",
   "execution_count": null,
   "metadata": {
    "collapsed": true
   },
   "outputs": [],
   "source": []
  },
  {
   "cell_type": "code",
   "execution_count": 18,
   "metadata": {},
   "outputs": [
    {
     "name": "stdout",
     "output_type": "stream",
     "text": [
      "('Logistic Regression score on layer %s is %f', 'pool2', 0.26811594202898553)\n",
      "('Logistic Regression score on layer %s is %f', 'pool3', 0.33695652173913043)\n",
      "('Logistic Regression score on layer %s is %f', 'pool4', 0.33333333333333331)\n",
      "('Logistic Regression score on layer %s is %f', 'pool5', 0.36231884057971014)\n",
      "('Logistic Regression score on layer %s is %f', 'fc6', 0.33333333333333331)\n",
      "('Logistic Regression score on layer %s is %f', 'fc7', 0.30434782608695654)\n"
     ]
    }
   ],
   "source": [
    "layer_score = []\n",
    "\n",
    "\n",
    "\n",
    "for i in xrange(1,len(LAYERS_NM)):\n",
    "    logreg = linear_model.LogisticRegression()\n",
    "    X_train, y_train, X_test, y_test = getData(all_layers[i], num_views, len(FURNITURES), TEST_SZ)\n",
    "    score = logreg.fit(X_train, y_train).score(X_test, y_test)\n",
    "    print (\"Logistic Regression score on layer %s is %f\", LAYERS_NM[i], score)\n",
    "    layer_score.append(score) \n"
   ]
  },
  {
   "cell_type": "code",
   "execution_count": null,
   "metadata": {
    "collapsed": true
   },
   "outputs": [],
   "source": [
    "fig = plt.figure(1,  figsize=(8,8), dpi=80, facecolor='w', edgecolor='k')\n",
    "\n",
    "plt.title(\"8-way logistic regression classifier performance on VGG layers \")\n",
    "plt.plot(np.arange(len(LAYERS_NM) + 1 ), layer_score)\n",
    "plt.xlabel('Layers')\n",
    "plt.ylabel('Performance')\n",
    "\n",
    "x_label = LAYERS_NM\n",
    "x_label.insert(0, \"pixels\")\n",
    "\n",
    "plt.xticks(xrange(0,len(LAYERS) + 1), x_label);\n",
    "axes = plt.gca()\n",
    "axes.set_ylim([0.95,1.01]);\n",
    "vals = axes.get_yticks()\n",
    "axes.set_yticklabels(['{:3.2f}%'.format(x*100) for x in vals]);"
   ]
  }
 ],
 "metadata": {
  "kernelspec": {
   "display_name": "Python 2",
   "language": "python",
   "name": "python2"
  },
  "language_info": {
   "codemirror_mode": {
    "name": "ipython",
    "version": 2
   },
   "file_extension": ".py",
   "mimetype": "text/x-python",
   "name": "python",
   "nbconvert_exporter": "python",
   "pygments_lexer": "ipython2",
   "version": "2.7.13"
  }
 },
 "nbformat": 4,
 "nbformat_minor": 2
}
